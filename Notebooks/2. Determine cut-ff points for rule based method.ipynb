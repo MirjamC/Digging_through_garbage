{
 "cells": [
  {
   "cell_type": "code",
   "execution_count": 1,
   "id": "fba39923",
   "metadata": {},
   "outputs": [],
   "source": [
    "import pandas as pd\n",
    "import json\n",
    "import os\n",
    "import sys\n",
    "sys.path.append(os.path.abspath(\"Functions/\"))\n",
    "\n",
    "import adding_features"
   ]
  },
  {
   "cell_type": "markdown",
   "id": "a7d4aa14",
   "metadata": {},
   "source": [
    "## Adding the features to the words"
   ]
  },
  {
   "cell_type": "code",
   "execution_count": 2,
   "id": "e87d8781",
   "metadata": {},
   "outputs": [],
   "source": [
    "with open('Data/vowels_list.json') as json_file:\n",
    "    vowels_list = json.load(json_file)\n",
    "with open('Data/consonants_list.json') as json_file:\n",
    "    consonants_list = json.load(json_file)\n",
    "with open('Data/dutch_char_list.json') as json_file:\n",
    "    dutch_char_list = json.load(json_file)\n",
    "with open('Data/punctuation_list.json') as json_file:\n",
    "    punctuation_list = json.load(json_file)"
   ]
  },
  {
   "cell_type": "code",
   "execution_count": 13,
   "id": "45df9612",
   "metadata": {},
   "outputs": [],
   "source": [
    "accents_list = pd.read_csv(\"Data/accents_list.csv\", index_col=0)\n",
    "accents_list = accents_list['0'].values.tolist()"
   ]
  },
  {
   "cell_type": "code",
   "execution_count": 7,
   "id": "3716d2fa",
   "metadata": {},
   "outputs": [],
   "source": [
    "gt_words = pd.read_csv('Data/gt_words_for_feature_selection.csv', compression = 'gzip', index_col = 0)"
   ]
  },
  {
   "cell_type": "code",
   "execution_count": 10,
   "id": "d3fb4cba",
   "metadata": {},
   "outputs": [
    {
     "data": {
      "text/html": [
       "<div>\n",
       "<style scoped>\n",
       "    .dataframe tbody tr th:only-of-type {\n",
       "        vertical-align: middle;\n",
       "    }\n",
       "\n",
       "    .dataframe tbody tr th {\n",
       "        vertical-align: top;\n",
       "    }\n",
       "\n",
       "    .dataframe thead th {\n",
       "        text-align: right;\n",
       "    }\n",
       "</style>\n",
       "<table border=\"1\" class=\"dataframe\">\n",
       "  <thead>\n",
       "    <tr style=\"text-align: right;\">\n",
       "      <th></th>\n",
       "      <th>gt word</th>\n",
       "      <th>label</th>\n",
       "    </tr>\n",
       "  </thead>\n",
       "  <tbody>\n",
       "    <tr>\n",
       "      <th>0</th>\n",
       "      <td>peryckelen</td>\n",
       "      <td>0</td>\n",
       "    </tr>\n",
       "    <tr>\n",
       "      <th>1</th>\n",
       "      <td>NaN</td>\n",
       "      <td>0</td>\n",
       "    </tr>\n",
       "    <tr>\n",
       "      <th>2</th>\n",
       "      <td>Mirandola.</td>\n",
       "      <td>0</td>\n",
       "    </tr>\n",
       "    <tr>\n",
       "      <th>3</th>\n",
       "      <td>Communions</td>\n",
       "      <td>0</td>\n",
       "    </tr>\n",
       "  </tbody>\n",
       "</table>\n",
       "</div>"
      ],
      "text/plain": [
       "      gt word  label\n",
       "0  peryckelen      0\n",
       "1         NaN      0\n",
       "2  Mirandola.      0\n",
       "3  Communions      0"
      ]
     },
     "execution_count": 10,
     "metadata": {},
     "output_type": "execute_result"
    }
   ],
   "source": [
    "gt_words.head(4)"
   ]
  },
  {
   "cell_type": "code",
   "execution_count": 35,
   "id": "3be2d8cd",
   "metadata": {},
   "outputs": [
    {
     "data": {
      "text/plain": [
       "324928"
      ]
     },
     "execution_count": 35,
     "metadata": {},
     "output_type": "execute_result"
    }
   ],
   "source": [
    "len(gt_words)"
   ]
  },
  {
   "cell_type": "code",
   "execution_count": 36,
   "id": "c40b463f",
   "metadata": {},
   "outputs": [],
   "source": [
    "gt_words = gt_words.drop_duplicates()"
   ]
  },
  {
   "cell_type": "code",
   "execution_count": 37,
   "id": "4d465a81",
   "metadata": {},
   "outputs": [
    {
     "data": {
      "text/plain": [
       "324928"
      ]
     },
     "execution_count": 37,
     "metadata": {},
     "output_type": "execute_result"
    }
   ],
   "source": [
    "len(gt_words)"
   ]
  },
  {
   "cell_type": "code",
   "execution_count": 38,
   "id": "3ad72aaf",
   "metadata": {},
   "outputs": [],
   "source": [
    "gt_words_ls = gt_words.values.tolist()"
   ]
  },
  {
   "cell_type": "code",
   "execution_count": 14,
   "id": "c7617f04",
   "metadata": {},
   "outputs": [],
   "source": [
    "feature_scores_df = adding_features.Main(gt_words_ls, vowels_list, consonants_list, dutch_char_list, punctuation_list,accents_list)"
   ]
  },
  {
   "cell_type": "code",
   "execution_count": 15,
   "id": "b285cffe",
   "metadata": {},
   "outputs": [
    {
     "data": {
      "text/html": [
       "<div>\n",
       "<style scoped>\n",
       "    .dataframe tbody tr th:only-of-type {\n",
       "        vertical-align: middle;\n",
       "    }\n",
       "\n",
       "    .dataframe tbody tr th {\n",
       "        vertical-align: top;\n",
       "    }\n",
       "\n",
       "    .dataframe thead th {\n",
       "        text-align: right;\n",
       "    }\n",
       "</style>\n",
       "<table border=\"1\" class=\"dataframe\">\n",
       "  <thead>\n",
       "    <tr style=\"text-align: right;\">\n",
       "      <th></th>\n",
       "      <th>word</th>\n",
       "      <th>garbage_score</th>\n",
       "      <th>word_length</th>\n",
       "      <th>vowels</th>\n",
       "      <th>consonants</th>\n",
       "      <th>vowelandconsonant</th>\n",
       "      <th>punctuation</th>\n",
       "      <th>dutch_letters</th>\n",
       "      <th>upper</th>\n",
       "      <th>lower</th>\n",
       "      <th>...</th>\n",
       "      <th>word_numbers_ratio</th>\n",
       "      <th>word_alpha_ratio</th>\n",
       "      <th>word_accents_ratio</th>\n",
       "      <th>word_other_characters_ratio</th>\n",
       "      <th>word_vowels_consonant_ratio</th>\n",
       "      <th>word_consonant_vowels_ratio</th>\n",
       "      <th>max_count_same_char</th>\n",
       "      <th>max_count_strip_same_char</th>\n",
       "      <th>max_consecutive_consonants</th>\n",
       "      <th>max_consecutive_vowels</th>\n",
       "    </tr>\n",
       "  </thead>\n",
       "  <tbody>\n",
       "    <tr>\n",
       "      <th>0</th>\n",
       "      <td>peryckelen</td>\n",
       "      <td>0</td>\n",
       "      <td>10</td>\n",
       "      <td>4</td>\n",
       "      <td>6</td>\n",
       "      <td>10</td>\n",
       "      <td>0</td>\n",
       "      <td>10</td>\n",
       "      <td>0</td>\n",
       "      <td>10</td>\n",
       "      <td>...</td>\n",
       "      <td>0.0</td>\n",
       "      <td>1.000000</td>\n",
       "      <td>0.0</td>\n",
       "      <td>0.0</td>\n",
       "      <td>0.666667</td>\n",
       "      <td>1.500000</td>\n",
       "      <td>1</td>\n",
       "      <td>1</td>\n",
       "      <td>2</td>\n",
       "      <td>1</td>\n",
       "    </tr>\n",
       "    <tr>\n",
       "      <th>1</th>\n",
       "      <td>nan</td>\n",
       "      <td>0</td>\n",
       "      <td>3</td>\n",
       "      <td>1</td>\n",
       "      <td>2</td>\n",
       "      <td>3</td>\n",
       "      <td>0</td>\n",
       "      <td>3</td>\n",
       "      <td>0</td>\n",
       "      <td>3</td>\n",
       "      <td>...</td>\n",
       "      <td>0.0</td>\n",
       "      <td>1.000000</td>\n",
       "      <td>0.0</td>\n",
       "      <td>0.0</td>\n",
       "      <td>0.500000</td>\n",
       "      <td>2.000000</td>\n",
       "      <td>1</td>\n",
       "      <td>1</td>\n",
       "      <td>1</td>\n",
       "      <td>1</td>\n",
       "    </tr>\n",
       "    <tr>\n",
       "      <th>2</th>\n",
       "      <td>Mirandola.</td>\n",
       "      <td>0</td>\n",
       "      <td>10</td>\n",
       "      <td>4</td>\n",
       "      <td>5</td>\n",
       "      <td>9</td>\n",
       "      <td>0</td>\n",
       "      <td>9</td>\n",
       "      <td>0</td>\n",
       "      <td>8</td>\n",
       "      <td>...</td>\n",
       "      <td>0.0</td>\n",
       "      <td>0.900000</td>\n",
       "      <td>0.0</td>\n",
       "      <td>0.0</td>\n",
       "      <td>0.800000</td>\n",
       "      <td>1.250000</td>\n",
       "      <td>1</td>\n",
       "      <td>1</td>\n",
       "      <td>2</td>\n",
       "      <td>1</td>\n",
       "    </tr>\n",
       "    <tr>\n",
       "      <th>3</th>\n",
       "      <td>Communions</td>\n",
       "      <td>0</td>\n",
       "      <td>10</td>\n",
       "      <td>4</td>\n",
       "      <td>6</td>\n",
       "      <td>10</td>\n",
       "      <td>0</td>\n",
       "      <td>10</td>\n",
       "      <td>0</td>\n",
       "      <td>9</td>\n",
       "      <td>...</td>\n",
       "      <td>0.0</td>\n",
       "      <td>1.000000</td>\n",
       "      <td>0.0</td>\n",
       "      <td>0.0</td>\n",
       "      <td>0.666667</td>\n",
       "      <td>1.500000</td>\n",
       "      <td>2</td>\n",
       "      <td>2</td>\n",
       "      <td>2</td>\n",
       "      <td>2</td>\n",
       "    </tr>\n",
       "    <tr>\n",
       "      <th>4</th>\n",
       "      <td>Constantinopolen:</td>\n",
       "      <td>0</td>\n",
       "      <td>17</td>\n",
       "      <td>6</td>\n",
       "      <td>10</td>\n",
       "      <td>16</td>\n",
       "      <td>0</td>\n",
       "      <td>16</td>\n",
       "      <td>0</td>\n",
       "      <td>15</td>\n",
       "      <td>...</td>\n",
       "      <td>0.0</td>\n",
       "      <td>0.941176</td>\n",
       "      <td>0.0</td>\n",
       "      <td>0.0</td>\n",
       "      <td>0.600000</td>\n",
       "      <td>1.666667</td>\n",
       "      <td>1</td>\n",
       "      <td>1</td>\n",
       "      <td>3</td>\n",
       "      <td>1</td>\n",
       "    </tr>\n",
       "    <tr>\n",
       "      <th>...</th>\n",
       "      <td>...</td>\n",
       "      <td>...</td>\n",
       "      <td>...</td>\n",
       "      <td>...</td>\n",
       "      <td>...</td>\n",
       "      <td>...</td>\n",
       "      <td>...</td>\n",
       "      <td>...</td>\n",
       "      <td>...</td>\n",
       "      <td>...</td>\n",
       "      <td>...</td>\n",
       "      <td>...</td>\n",
       "      <td>...</td>\n",
       "      <td>...</td>\n",
       "      <td>...</td>\n",
       "      <td>...</td>\n",
       "      <td>...</td>\n",
       "      <td>...</td>\n",
       "      <td>...</td>\n",
       "      <td>...</td>\n",
       "      <td>...</td>\n",
       "    </tr>\n",
       "    <tr>\n",
       "      <th>324923</th>\n",
       "      <td>Mainart,</td>\n",
       "      <td>0</td>\n",
       "      <td>8</td>\n",
       "      <td>3</td>\n",
       "      <td>4</td>\n",
       "      <td>7</td>\n",
       "      <td>0</td>\n",
       "      <td>7</td>\n",
       "      <td>0</td>\n",
       "      <td>6</td>\n",
       "      <td>...</td>\n",
       "      <td>0.0</td>\n",
       "      <td>0.875000</td>\n",
       "      <td>0.0</td>\n",
       "      <td>0.0</td>\n",
       "      <td>0.750000</td>\n",
       "      <td>1.333333</td>\n",
       "      <td>1</td>\n",
       "      <td>1</td>\n",
       "      <td>2</td>\n",
       "      <td>2</td>\n",
       "    </tr>\n",
       "    <tr>\n",
       "      <th>324924</th>\n",
       "      <td>40000</td>\n",
       "      <td>0</td>\n",
       "      <td>5</td>\n",
       "      <td>0</td>\n",
       "      <td>0</td>\n",
       "      <td>0</td>\n",
       "      <td>0</td>\n",
       "      <td>0</td>\n",
       "      <td>0</td>\n",
       "      <td>0</td>\n",
       "      <td>...</td>\n",
       "      <td>1.0</td>\n",
       "      <td>0.000000</td>\n",
       "      <td>0.0</td>\n",
       "      <td>0.0</td>\n",
       "      <td>0.000000</td>\n",
       "      <td>0.000000</td>\n",
       "      <td>4</td>\n",
       "      <td>4</td>\n",
       "      <td>0</td>\n",
       "      <td>0</td>\n",
       "    </tr>\n",
       "    <tr>\n",
       "      <th>324925</th>\n",
       "      <td>gragt</td>\n",
       "      <td>0</td>\n",
       "      <td>5</td>\n",
       "      <td>1</td>\n",
       "      <td>4</td>\n",
       "      <td>5</td>\n",
       "      <td>0</td>\n",
       "      <td>5</td>\n",
       "      <td>0</td>\n",
       "      <td>5</td>\n",
       "      <td>...</td>\n",
       "      <td>0.0</td>\n",
       "      <td>1.000000</td>\n",
       "      <td>0.0</td>\n",
       "      <td>0.0</td>\n",
       "      <td>0.250000</td>\n",
       "      <td>4.000000</td>\n",
       "      <td>1</td>\n",
       "      <td>1</td>\n",
       "      <td>2</td>\n",
       "      <td>1</td>\n",
       "    </tr>\n",
       "    <tr>\n",
       "      <th>324926</th>\n",
       "      <td>niettegenstaende,</td>\n",
       "      <td>0</td>\n",
       "      <td>17</td>\n",
       "      <td>7</td>\n",
       "      <td>9</td>\n",
       "      <td>16</td>\n",
       "      <td>0</td>\n",
       "      <td>16</td>\n",
       "      <td>0</td>\n",
       "      <td>16</td>\n",
       "      <td>...</td>\n",
       "      <td>0.0</td>\n",
       "      <td>0.941176</td>\n",
       "      <td>0.0</td>\n",
       "      <td>0.0</td>\n",
       "      <td>0.777778</td>\n",
       "      <td>1.285714</td>\n",
       "      <td>2</td>\n",
       "      <td>2</td>\n",
       "      <td>3</td>\n",
       "      <td>2</td>\n",
       "    </tr>\n",
       "    <tr>\n",
       "      <th>324927</th>\n",
       "      <td>nameliken,</td>\n",
       "      <td>0</td>\n",
       "      <td>10</td>\n",
       "      <td>4</td>\n",
       "      <td>5</td>\n",
       "      <td>9</td>\n",
       "      <td>0</td>\n",
       "      <td>9</td>\n",
       "      <td>0</td>\n",
       "      <td>9</td>\n",
       "      <td>...</td>\n",
       "      <td>0.0</td>\n",
       "      <td>0.900000</td>\n",
       "      <td>0.0</td>\n",
       "      <td>0.0</td>\n",
       "      <td>0.800000</td>\n",
       "      <td>1.250000</td>\n",
       "      <td>1</td>\n",
       "      <td>1</td>\n",
       "      <td>1</td>\n",
       "      <td>1</td>\n",
       "    </tr>\n",
       "  </tbody>\n",
       "</table>\n",
       "<p>324928 rows × 31 columns</p>\n",
       "</div>"
      ],
      "text/plain": [
       "                     word  garbage_score  word_length  vowels  consonants  \\\n",
       "0              peryckelen              0           10       4           6   \n",
       "1                     nan              0            3       1           2   \n",
       "2              Mirandola.              0           10       4           5   \n",
       "3              Communions              0           10       4           6   \n",
       "4       Constantinopolen:              0           17       6          10   \n",
       "...                   ...            ...          ...     ...         ...   \n",
       "324923           Mainart,              0            8       3           4   \n",
       "324924              40000              0            5       0           0   \n",
       "324925              gragt              0            5       1           4   \n",
       "324926  niettegenstaende,              0           17       7           9   \n",
       "324927         nameliken,              0           10       4           5   \n",
       "\n",
       "        vowelandconsonant  punctuation  dutch_letters  upper  lower  ...  \\\n",
       "0                      10            0             10      0     10  ...   \n",
       "1                       3            0              3      0      3  ...   \n",
       "2                       9            0              9      0      8  ...   \n",
       "3                      10            0             10      0      9  ...   \n",
       "4                      16            0             16      0     15  ...   \n",
       "...                   ...          ...            ...    ...    ...  ...   \n",
       "324923                  7            0              7      0      6  ...   \n",
       "324924                  0            0              0      0      0  ...   \n",
       "324925                  5            0              5      0      5  ...   \n",
       "324926                 16            0             16      0     16  ...   \n",
       "324927                  9            0              9      0      9  ...   \n",
       "\n",
       "        word_numbers_ratio  word_alpha_ratio  word_accents_ratio  \\\n",
       "0                      0.0          1.000000                 0.0   \n",
       "1                      0.0          1.000000                 0.0   \n",
       "2                      0.0          0.900000                 0.0   \n",
       "3                      0.0          1.000000                 0.0   \n",
       "4                      0.0          0.941176                 0.0   \n",
       "...                    ...               ...                 ...   \n",
       "324923                 0.0          0.875000                 0.0   \n",
       "324924                 1.0          0.000000                 0.0   \n",
       "324925                 0.0          1.000000                 0.0   \n",
       "324926                 0.0          0.941176                 0.0   \n",
       "324927                 0.0          0.900000                 0.0   \n",
       "\n",
       "        word_other_characters_ratio  word_vowels_consonant_ratio  \\\n",
       "0                               0.0                     0.666667   \n",
       "1                               0.0                     0.500000   \n",
       "2                               0.0                     0.800000   \n",
       "3                               0.0                     0.666667   \n",
       "4                               0.0                     0.600000   \n",
       "...                             ...                          ...   \n",
       "324923                          0.0                     0.750000   \n",
       "324924                          0.0                     0.000000   \n",
       "324925                          0.0                     0.250000   \n",
       "324926                          0.0                     0.777778   \n",
       "324927                          0.0                     0.800000   \n",
       "\n",
       "        word_consonant_vowels_ratio  max_count_same_char  \\\n",
       "0                          1.500000                    1   \n",
       "1                          2.000000                    1   \n",
       "2                          1.250000                    1   \n",
       "3                          1.500000                    2   \n",
       "4                          1.666667                    1   \n",
       "...                             ...                  ...   \n",
       "324923                     1.333333                    1   \n",
       "324924                     0.000000                    4   \n",
       "324925                     4.000000                    1   \n",
       "324926                     1.285714                    2   \n",
       "324927                     1.250000                    1   \n",
       "\n",
       "        max_count_strip_same_char  max_consecutive_consonants  \\\n",
       "0                               1                           2   \n",
       "1                               1                           1   \n",
       "2                               1                           2   \n",
       "3                               2                           2   \n",
       "4                               1                           3   \n",
       "...                           ...                         ...   \n",
       "324923                          1                           2   \n",
       "324924                          4                           0   \n",
       "324925                          1                           2   \n",
       "324926                          2                           3   \n",
       "324927                          1                           1   \n",
       "\n",
       "        max_consecutive_vowels  \n",
       "0                            1  \n",
       "1                            1  \n",
       "2                            1  \n",
       "3                            2  \n",
       "4                            1  \n",
       "...                        ...  \n",
       "324923                       2  \n",
       "324924                       0  \n",
       "324925                       1  \n",
       "324926                       2  \n",
       "324927                       1  \n",
       "\n",
       "[324928 rows x 31 columns]"
      ]
     },
     "execution_count": 15,
     "metadata": {},
     "output_type": "execute_result"
    }
   ],
   "source": [
    "feature_scores_df"
   ]
  },
  {
   "cell_type": "markdown",
   "id": "8e121f99",
   "metadata": {},
   "source": [
    "### Visuale the distributions"
   ]
  },
  {
   "cell_type": "code",
   "execution_count": 16,
   "id": "afa981de",
   "metadata": {},
   "outputs": [
    {
     "data": {
      "image/png": "[encoded data removed]",
      "text/plain": [
       "<Figure size 1080x1080 with 30 Axes>"
      ]
     },
     "metadata": {
      "needs_background": "light"
     },
     "output_type": "display_data"
    }
   ],
   "source": [
    "hist = feature_scores_df.hist(figsize=(15, 15))"
   ]
  },
  {
   "cell_type": "markdown",
   "id": "25d4ee08",
   "metadata": {},
   "source": [
    "## Determine cut-off points (based on 95%)"
   ]
  },
  {
   "cell_type": "code",
   "execution_count": 22,
   "id": "d5773594",
   "metadata": {},
   "outputs": [
    {
     "data": {
      "text/plain": [
       "15.0"
      ]
     },
     "execution_count": 22,
     "metadata": {},
     "output_type": "execute_result"
    }
   ],
   "source": [
    "feature_scores_df['word_length'].quantile(0.95)"
   ]
  },
  {
   "cell_type": "code",
   "execution_count": 24,
   "id": "5c7ffbc1",
   "metadata": {},
   "outputs": [
    {
     "data": {
      "text/plain": [
       "1.0"
      ]
     },
     "execution_count": 24,
     "metadata": {},
     "output_type": "execute_result"
    }
   ],
   "source": [
    "feature_scores_df['word_length'].quantile(0.0)"
   ]
  },
  {
   "cell_type": "code",
   "execution_count": 25,
   "id": "f9083063",
   "metadata": {},
   "outputs": [
    {
     "data": {
      "text/plain": [
       "0.5"
      ]
     },
     "execution_count": 25,
     "metadata": {},
     "output_type": "execute_result"
    }
   ],
   "source": [
    "feature_scores_df['word_vowel_ratio'].quantile(0.9)"
   ]
  },
  {
   "cell_type": "code",
   "execution_count": 26,
   "id": "be18a02c",
   "metadata": {},
   "outputs": [
    {
     "data": {
      "text/plain": [
       "0.2222222222222222"
      ]
     },
     "execution_count": 26,
     "metadata": {},
     "output_type": "execute_result"
    }
   ],
   "source": [
    "feature_scores_df['word_vowel_ratio'].quantile(0.05)"
   ]
  }
 ],
 "metadata": {
  "kernelspec": {
   "display_name": "Python 3 (ipykernel)",
   "language": "python",
   "name": "python3"
  },
  "language_info": {
   "codemirror_mode": {
    "name": "ipython",
    "version": 3
   },
   "file_extension": ".py",
   "mimetype": "text/x-python",
   "name": "python",
   "nbconvert_exporter": "python",
   "pygments_lexer": "ipython3",
   "version": "3.9.12"
  }
 },
 "nbformat": 4,
 "nbformat_minor": 5
}
