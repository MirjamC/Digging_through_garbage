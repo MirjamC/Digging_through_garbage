{
 "cells": [
  {
   "cell_type": "code",
   "execution_count": 1,
   "id": "cc606641",
   "metadata": {},
   "outputs": [],
   "source": [
    "import pickle\n",
    "import pandas as pd\n",
    "import json\n",
    "from sklearn.preprocessing import MinMaxScaler #fixed import\n",
    "from scipy import stats\n",
    "import joblib\n",
    "import matplotlib.pyplot as plt\n",
    "import numpy as np\n",
    "import seaborn as sns\n",
    "import os\n",
    "import sys\n",
    "sys.path.append(os.path.abspath(\"Functions/\"))\n",
    "\n",
    "import adding_features"
   ]
  },
  {
   "cell_type": "markdown",
   "id": "03f34f11",
   "metadata": {},
   "source": [
    "### Test the random forest model on real data"
   ]
  },
  {
   "cell_type": "code",
   "execution_count": 2,
   "id": "970a2c2d",
   "metadata": {},
   "outputs": [],
   "source": [
    "garbage_model = pickle.load(open('garbage_model.pkl', 'rb'))"
   ]
  },
  {
   "cell_type": "code",
   "execution_count": 3,
   "id": "849af5aa",
   "metadata": {},
   "outputs": [
    {
     "data": {
      "text/html": [
       "<div>\n",
       "<style scoped>\n",
       "    .dataframe tbody tr th:only-of-type {\n",
       "        vertical-align: middle;\n",
       "    }\n",
       "\n",
       "    .dataframe tbody tr th {\n",
       "        vertical-align: top;\n",
       "    }\n",
       "\n",
       "    .dataframe thead th {\n",
       "        text-align: right;\n",
       "    }\n",
       "</style>\n",
       "<table border=\"1\" class=\"dataframe\">\n",
       "  <thead>\n",
       "    <tr style=\"text-align: right;\">\n",
       "      <th></th>\n",
       "      <th>identifier</th>\n",
       "      <th>gt text</th>\n",
       "      <th>ocr text</th>\n",
       "      <th>CER</th>\n",
       "      <th>WER</th>\n",
       "      <th>WER (order independent)</th>\n",
       "      <th>dictionary lookup gt</th>\n",
       "      <th>dictionary lookup ocr</th>\n",
       "      <th>jaccard_coefficient</th>\n",
       "      <th>levenshtein_dist_normalized</th>\n",
       "      <th>source</th>\n",
       "    </tr>\n",
       "  </thead>\n",
       "  <tbody>\n",
       "    <tr>\n",
       "      <th>26399</th>\n",
       "      <td>ddd:011226556:mpeg21:a0003</td>\n",
       "      <td>NEDERLANDEN. Pertinente Lijst van de Fransse A...</td>\n",
       "      <td>NEDERLANDEN. Pertinente Lijft van de , Franffe...</td>\n",
       "      <td>74.60</td>\n",
       "      <td>58.17</td>\n",
       "      <td>49.89</td>\n",
       "      <td>67.54</td>\n",
       "      <td>49.30</td>\n",
       "      <td>0.20</td>\n",
       "      <td>0.28</td>\n",
       "      <td>Meertens</td>\n",
       "    </tr>\n",
       "    <tr>\n",
       "      <th>489</th>\n",
       "      <td>ddd:010800896:mpeg21:a0008</td>\n",
       "      <td>Door den Uytgever deeser Opreghte Haerlemse Co...</td>\n",
       "      <td>Door den Uvtgeever deefer Opreghte Haerlemfe C...</td>\n",
       "      <td>9.84</td>\n",
       "      <td>36.02</td>\n",
       "      <td>32.92</td>\n",
       "      <td>81.20</td>\n",
       "      <td>68.03</td>\n",
       "      <td>0.42</td>\n",
       "      <td>0.10</td>\n",
       "      <td>Meertens</td>\n",
       "    </tr>\n",
       "  </tbody>\n",
       "</table>\n",
       "</div>"
      ],
      "text/plain": [
       "                       identifier  \\\n",
       "26399  ddd:011226556:mpeg21:a0003   \n",
       "489    ddd:010800896:mpeg21:a0008   \n",
       "\n",
       "                                                 gt text  \\\n",
       "26399  NEDERLANDEN. Pertinente Lijst van de Fransse A...   \n",
       "489    Door den Uytgever deeser Opreghte Haerlemse Co...   \n",
       "\n",
       "                                                ocr text    CER    WER  \\\n",
       "26399  NEDERLANDEN. Pertinente Lijft van de , Franffe...  74.60  58.17   \n",
       "489    Door den Uvtgeever deefer Opreghte Haerlemfe C...   9.84  36.02   \n",
       "\n",
       "       WER (order independent)  dictionary lookup gt  dictionary lookup ocr  \\\n",
       "26399                    49.89                 67.54                  49.30   \n",
       "489                      32.92                 81.20                  68.03   \n",
       "\n",
       "       jaccard_coefficient  levenshtein_dist_normalized    source  \n",
       "26399                 0.20                         0.28  Meertens  \n",
       "489                   0.42                         0.10  Meertens  "
      ]
     },
     "execution_count": 3,
     "metadata": {},
     "output_type": "execute_result"
    }
   ],
   "source": [
    "real_data = pd.read_csv('Data/testset.csv', index_col = 0)\n",
    "real_data.head(2)"
   ]
  },
  {
   "cell_type": "code",
   "execution_count": 4,
   "id": "7c1f9499",
   "metadata": {},
   "outputs": [],
   "source": [
    "real_data = real_data[['identifier', 'gt text', 'ocr text']]"
   ]
  },
  {
   "cell_type": "code",
   "execution_count": 5,
   "id": "4fa5f105",
   "metadata": {},
   "outputs": [
    {
     "data": {
      "text/plain": [
       "5222"
      ]
     },
     "execution_count": 5,
     "metadata": {},
     "output_type": "execute_result"
    }
   ],
   "source": [
    "len(real_data)"
   ]
  },
  {
   "cell_type": "code",
   "execution_count": 6,
   "id": "586e2124",
   "metadata": {},
   "outputs": [
    {
     "data": {
      "text/html": [
       "<div>\n",
       "<style scoped>\n",
       "    .dataframe tbody tr th:only-of-type {\n",
       "        vertical-align: middle;\n",
       "    }\n",
       "\n",
       "    .dataframe tbody tr th {\n",
       "        vertical-align: top;\n",
       "    }\n",
       "\n",
       "    .dataframe thead th {\n",
       "        text-align: right;\n",
       "    }\n",
       "</style>\n",
       "<table border=\"1\" class=\"dataframe\">\n",
       "  <thead>\n",
       "    <tr style=\"text-align: right;\">\n",
       "      <th></th>\n",
       "      <th>identifier</th>\n",
       "      <th>CER</th>\n",
       "      <th>WER</th>\n",
       "      <th>WER (order independent)</th>\n",
       "    </tr>\n",
       "  </thead>\n",
       "  <tbody>\n",
       "    <tr>\n",
       "      <th>0</th>\n",
       "      <td>ddd:011226556:mpeg21:a0003</td>\n",
       "      <td>74.39</td>\n",
       "      <td>53.66</td>\n",
       "      <td>48.99</td>\n",
       "    </tr>\n",
       "    <tr>\n",
       "      <th>1</th>\n",
       "      <td>ddd:010800896:mpeg21:a0008</td>\n",
       "      <td>7.99</td>\n",
       "      <td>32.50</td>\n",
       "      <td>30.63</td>\n",
       "    </tr>\n",
       "  </tbody>\n",
       "</table>\n",
       "</div>"
      ],
      "text/plain": [
       "                   identifier    CER    WER  WER (order independent)\n",
       "0  ddd:011226556:mpeg21:a0003  74.39  53.66                    48.99\n",
       "1  ddd:010800896:mpeg21:a0008   7.99  32.50                    30.63"
      ]
     },
     "execution_count": 6,
     "metadata": {},
     "output_type": "execute_result"
    }
   ],
   "source": [
    "wer = pd.read_csv('D:/Projecten/OCR quality/Garbage_vergelijking/Digging_through_garbage/Data/testset_new_wer.csv', index_col = 0)\n",
    "wer.head(2)"
   ]
  },
  {
   "cell_type": "code",
   "execution_count": 7,
   "id": "f0cd1d05",
   "metadata": {},
   "outputs": [],
   "source": [
    "real_data = real_data.merge(wer, on = 'identifier', how = 'inner')"
   ]
  },
  {
   "cell_type": "code",
   "execution_count": 8,
   "id": "7d97d633",
   "metadata": {},
   "outputs": [
    {
     "data": {
      "text/plain": [
       "5222"
      ]
     },
     "execution_count": 8,
     "metadata": {},
     "output_type": "execute_result"
    }
   ],
   "source": [
    "len(real_data)"
   ]
  },
  {
   "cell_type": "code",
   "execution_count": 9,
   "id": "a43c652d",
   "metadata": {},
   "outputs": [],
   "source": [
    "with open('D:/Projecten/OCR quality/Garbage_vergelijking/Digging_through_garbage/Data/vowels_list.json') as json_file:\n",
    "    vowels_list = json.load(json_file)\n",
    "with open('D:/Projecten/OCR quality/Garbage_vergelijking/Digging_through_garbage/Data/consonants_list.json') as json_file:\n",
    "    consonants_list = json.load(json_file)\n",
    "with open('D:/Projecten/OCR quality/Garbage_vergelijking/Digging_through_garbage/Data/dutch_char_list.json') as json_file:\n",
    "    dutch_char_list = json.load(json_file)\n",
    "with open('D:/Projecten/OCR quality/Garbage_vergelijking/Digging_through_garbage/Data/punctuation_list.json') as json_file:\n",
    "    punctuation_list = json.load(json_file)"
   ]
  },
  {
   "cell_type": "code",
   "execution_count": 10,
   "id": "1a1809e6",
   "metadata": {},
   "outputs": [],
   "source": [
    "accents_list = pd.read_csv(\"D:/Projecten/OCR quality/Garbage_vergelijking/Digging_through_garbage/Data/accents_list.csv\", index_col=0)"
   ]
  },
  {
   "cell_type": "code",
   "execution_count": 11,
   "id": "55e52ffa",
   "metadata": {},
   "outputs": [],
   "source": [
    "accents_list = accents_list['0'].values.tolist()"
   ]
  },
  {
   "cell_type": "code",
   "execution_count": 12,
   "id": "bea8412b",
   "metadata": {},
   "outputs": [],
   "source": [
    "features = [\"word_length\",\n",
    "                \"word_vowel_ratio\",\n",
    "                \"word_consonant_ratio\",\n",
    "                \"word_vowelandconsonant_ratio\",\n",
    "                \"word_punctuation_ratio\",\n",
    "                \"word_dutch_char_ratio\",\n",
    "                \"word_uppercase_ratio\",\n",
    "                \"word_lowercase_ratio\",\n",
    "                \"word_numbers_ratio\",\n",
    "                \"word_other_characters_ratio\",\n",
    "                \"word_vowels_consonant_ratio\",\n",
    "                \"word_consonant_vowels_ratio\",\n",
    "                \"max_count_same_char\", \n",
    "                \"max_count_strip_same_char\",\n",
    "                \"max_consecutive_consonants\",\n",
    "                \"max_consecutive_vowels\",\n",
    "                \"word_accents_ratio\"]"
   ]
  },
  {
   "cell_type": "code",
   "execution_count": 13,
   "id": "429c4b38",
   "metadata": {},
   "outputs": [],
   "source": [
    "start = ['\"', \"'\", '(', '[']\n",
    "end = ['.', '?', '!', ',', ';', ':', '-', '\"', \"'\", ')', ']']"
   ]
  },
  {
   "cell_type": "code",
   "execution_count": 14,
   "id": "8a2139c2",
   "metadata": {},
   "outputs": [],
   "source": [
    "def strip_word(word):\n",
    "    if len(word) > 0:\n",
    "        if word[0] in start:\n",
    "            word = word[1:]\n",
    "        if len(word) > 1:\n",
    "            if word[-1] in end:\n",
    "                word = word[:-1]\n",
    "        return word"
   ]
  },
  {
   "cell_type": "code",
   "execution_count": 15,
   "id": "0390b4fa",
   "metadata": {},
   "outputs": [],
   "source": [
    "scaler_filename = \"scaler.save\"\n",
    "scaler = joblib.load(scaler_filename) "
   ]
  },
  {
   "cell_type": "code",
   "execution_count": 16,
   "id": "f794ab12",
   "metadata": {},
   "outputs": [],
   "source": [
    "garbage_score = []\n",
    "for index, row in real_data.iterrows():\n",
    "    identifier = row['identifier'] \n",
    "    ocr = row['ocr text']\n",
    "    ocr = ocr.split(\" \")\n",
    "    word_lst = []\n",
    "    for word in ocr:\n",
    "        #print(word)\n",
    "        word = strip_word(word)\n",
    "        if word:\n",
    "            \n",
    "            word_lst.append(strip_word(word))\n",
    "    feature_scores_df = adding_features.Main(word_lst, vowels_list, consonants_list, dutch_char_list, punctuation_list,accents_list)\n",
    "    X_test=feature_scores_df[features]\n",
    "    X_test = scaler.transform(X_test)\n",
    "    predictions = garbage_model.predict(X_test)\n",
    "    garbage_words = predictions.sum()\n",
    "    total_words = len(predictions)\n",
    "    garbage_total = (garbage_words / total_words)\n",
    "    garbage_score.append([identifier, garbage_total])"
   ]
  },
  {
   "cell_type": "code",
   "execution_count": 17,
   "id": "f4df6421",
   "metadata": {},
   "outputs": [],
   "source": [
    "garbage_df = pd.DataFrame(garbage_score, columns = ['identifier', 'garbage score'])"
   ]
  },
  {
   "cell_type": "code",
   "execution_count": 18,
   "id": "fb78d68e",
   "metadata": {},
   "outputs": [],
   "source": [
    "total = real_data.merge(garbage_df, on = 'identifier', how = 'inner')"
   ]
  },
  {
   "cell_type": "code",
   "execution_count": 19,
   "id": "8328b1d2",
   "metadata": {},
   "outputs": [
    {
     "data": {
      "text/html": [
       "<div>\n",
       "<style scoped>\n",
       "    .dataframe tbody tr th:only-of-type {\n",
       "        vertical-align: middle;\n",
       "    }\n",
       "\n",
       "    .dataframe tbody tr th {\n",
       "        vertical-align: top;\n",
       "    }\n",
       "\n",
       "    .dataframe thead th {\n",
       "        text-align: right;\n",
       "    }\n",
       "</style>\n",
       "<table border=\"1\" class=\"dataframe\">\n",
       "  <thead>\n",
       "    <tr style=\"text-align: right;\">\n",
       "      <th></th>\n",
       "      <th>identifier</th>\n",
       "      <th>gt text</th>\n",
       "      <th>ocr text</th>\n",
       "      <th>CER</th>\n",
       "      <th>WER</th>\n",
       "      <th>WER (order independent)</th>\n",
       "      <th>garbage score</th>\n",
       "    </tr>\n",
       "  </thead>\n",
       "  <tbody>\n",
       "    <tr>\n",
       "      <th>0</th>\n",
       "      <td>ddd:011226556:mpeg21:a0003</td>\n",
       "      <td>NEDERLANDEN. Pertinente Lijst van de Fransse A...</td>\n",
       "      <td>NEDERLANDEN. Pertinente Lijft van de , Franffe...</td>\n",
       "      <td>74.39</td>\n",
       "      <td>53.66</td>\n",
       "      <td>48.99</td>\n",
       "      <td>0.320944</td>\n",
       "    </tr>\n",
       "    <tr>\n",
       "      <th>1</th>\n",
       "      <td>ddd:010800896:mpeg21:a0008</td>\n",
       "      <td>Door den Uytgever deeser Opreghte Haerlemse Co...</td>\n",
       "      <td>Door den Uvtgeever deefer Opreghte Haerlemfe C...</td>\n",
       "      <td>7.99</td>\n",
       "      <td>32.50</td>\n",
       "      <td>30.63</td>\n",
       "      <td>0.141104</td>\n",
       "    </tr>\n",
       "  </tbody>\n",
       "</table>\n",
       "</div>"
      ],
      "text/plain": [
       "                   identifier  \\\n",
       "0  ddd:011226556:mpeg21:a0003   \n",
       "1  ddd:010800896:mpeg21:a0008   \n",
       "\n",
       "                                             gt text  \\\n",
       "0  NEDERLANDEN. Pertinente Lijst van de Fransse A...   \n",
       "1  Door den Uytgever deeser Opreghte Haerlemse Co...   \n",
       "\n",
       "                                            ocr text    CER    WER  \\\n",
       "0  NEDERLANDEN. Pertinente Lijft van de , Franffe...  74.39  53.66   \n",
       "1  Door den Uvtgeever deefer Opreghte Haerlemfe C...   7.99  32.50   \n",
       "\n",
       "   WER (order independent)  garbage score  \n",
       "0                    48.99       0.320944  \n",
       "1                    30.63       0.141104  "
      ]
     },
     "execution_count": 19,
     "metadata": {},
     "output_type": "execute_result"
    }
   ],
   "source": [
    "total.head(2)"
   ]
  },
  {
   "cell_type": "code",
   "execution_count": 20,
   "id": "93ec7bd7",
   "metadata": {},
   "outputs": [
    {
     "data": {
      "text/plain": [
       "5222"
      ]
     },
     "execution_count": 20,
     "metadata": {},
     "output_type": "execute_result"
    }
   ],
   "source": [
    "len(total)"
   ]
  },
  {
   "cell_type": "code",
   "execution_count": 29,
   "id": "72c69e46",
   "metadata": {},
   "outputs": [],
   "source": [
    "total['garbage score'] = total['garbage score'] * 100"
   ]
  },
  {
   "cell_type": "code",
   "execution_count": 30,
   "id": "5e771914",
   "metadata": {},
   "outputs": [],
   "source": [
    "total['WER new'] = total['WER (order independent)'].apply(lambda x: '100' if x > 100 else x)"
   ]
  },
  {
   "cell_type": "code",
   "execution_count": 43,
   "id": "306a664e",
   "metadata": {},
   "outputs": [
    {
     "name": "stderr",
     "output_type": "stream",
     "text": [
      "No artists with labels found to put in legend.  Note that artists whose label start with an underscore are ignored when legend() is called with no argument.\n"
     ]
    },
    {
     "data": {
      "image/png": "[encoded data removed]",
      "text/plain": [
       "<Figure size 576x576 with 1 Axes>"
      ]
     },
     "metadata": {
      "needs_background": "light"
     },
     "output_type": "display_data"
    }
   ],
   "source": [
    "plt.figure(figsize=(8, 8))\n",
    "sns.scatterplot(x='WER new', y='garbage score',data=total) \n",
    "\n",
    "plt.legend(title=None)\n",
    "plt.xlabel('WER (order independent)',  size=12)\n",
    "plt.ylabel('Percentage of garbage words', size=12)\n",
    "plt.title('Correlation between percentage of garbage words and WER_oi', size=13)\n",
    "plt.xticks(fontsize=10)\n",
    "plt.yticks(fontsize=10)\n",
    "\n",
    "plt.savefig(\"Correlation_garbage_wer.png\", bbox_inches='tight')"
   ]
  },
  {
   "cell_type": "code",
   "execution_count": 32,
   "id": "a0e2bdd5",
   "metadata": {},
   "outputs": [
    {
     "name": "stdout",
     "output_type": "stream",
     "text": [
      "PearsonRResult(statistic=0.8754529736728618, pvalue=0.0)\n",
      "r2: 0.7664179091126564\n",
      "ConfidenceInterval(low=0.8689632772021101, high=0.8816416170342549)\n"
     ]
    }
   ],
   "source": [
    "res = stats.pearsonr(total['WER new'],total['garbage score'])\n",
    "print(res)\n",
    "print(\"r2: \" + str(res[0]*res[0]))\n",
    "print(res.confidence_interval())"
   ]
  },
  {
   "cell_type": "code",
   "execution_count": 58,
   "id": "b93eb75c",
   "metadata": {},
   "outputs": [
    {
     "ename": "AttributeError",
     "evalue": "module 'matplotlib.pyplot' has no attribute 'set'",
     "output_type": "error",
     "traceback": [
      "\u001b[1;31m---------------------------------------------------------------------------\u001b[0m",
      "\u001b[1;31mAttributeError\u001b[0m                            Traceback (most recent call last)",
      "Input \u001b[1;32mIn [58]\u001b[0m, in \u001b[0;36m<cell line: 10>\u001b[1;34m()\u001b[0m\n\u001b[0;32m      8\u001b[0m plt\u001b[38;5;241m.\u001b[39mscatter(x \u001b[38;5;241m=\u001b[39m \u001b[38;5;124m'\u001b[39m\u001b[38;5;124mWER new\u001b[39m\u001b[38;5;124m'\u001b[39m, y \u001b[38;5;241m=\u001b[39m \u001b[38;5;124m'\u001b[39m\u001b[38;5;124mgarbage score\u001b[39m\u001b[38;5;124m'\u001b[39m, data \u001b[38;5;241m=\u001b[39m total);\n\u001b[0;32m      9\u001b[0m \u001b[38;5;66;03m#plt.scatter(x = 'WER_reocr', y = 'levenshtein_dist_normalized_reocr_invert', data = data);\u001b[39;00m\n\u001b[1;32m---> 10\u001b[0m \u001b[43mplt\u001b[49m\u001b[38;5;241;43m.\u001b[39;49m\u001b[43mset\u001b[49m(xlabel \u001b[38;5;241m=\u001b[39m\u001b[38;5;124m\"\u001b[39m\u001b[38;5;124mword found in dictionary\u001b[39m\u001b[38;5;124m\"\u001b[39m, ylabel \u001b[38;5;241m=\u001b[39m \u001b[38;5;124m'\u001b[39m\u001b[38;5;124mconfidence score\u001b[39m\u001b[38;5;124m'\u001b[39m, title \u001b[38;5;241m=\u001b[39m\u001b[38;5;28;01mNone\u001b[39;00m)\n\u001b[0;32m     12\u001b[0m plt\u001b[38;5;241m.\u001b[39mshow()\n",
      "\u001b[1;31mAttributeError\u001b[0m: module 'matplotlib.pyplot' has no attribute 'set'"
     ]
    },
    {
     "data": {
      "image/png": "[encoded data removed]",
      "text/plain": [
       "<Figure size 432x288 with 1 Axes>"
      ]
     },
     "metadata": {
      "needs_background": "light"
     },
     "output_type": "display_data"
    }
   ],
   "source": [
    "## Check if there is a correlation between the dictionary lookup and the word error rate\n",
    "# Draw a scatter plot\n",
    "import matplotlib.pyplot as plt\n",
    "import numpy as np\n",
    "\n",
    "#plt.scatter(x = 'WER_reocr', y = 'word_level_average_confidence_reocr', data = data);\n",
    "#plt.scatter(x = 'WER_reocr', y = 'jaccard_coefficient_reocr', data = data);\n",
    "plt.scatter(x = 'WER new', y = 'garbage score', data = total);\n",
    "#plt.scatter(x = 'WER_reocr', y = 'levenshtein_dist_normalized_reocr_invert', data = data);\n",
    "\n",
    "\n",
    "plt.show()"
   ]
  },
  {
   "cell_type": "code",
   "execution_count": 24,
   "id": "f7e4a227",
   "metadata": {},
   "outputs": [
    {
     "name": "stdout",
     "output_type": "stream",
     "text": [
      "PearsonRResult(statistic=0.8754529736728613, pvalue=0.0)\n",
      "r2: 0.7664179091126556\n",
      "ConfidenceInterval(low=0.8689632772021096, high=0.8816416170342545)\n"
     ]
    }
   ],
   "source": [
    "res = stats.pearsonr(total['WER new'],total['garbage score'])\n",
    "print(res)\n",
    "print(\"r2: \" + str(res[0]*res[0]))\n",
    "print(res.confidence_interval())"
   ]
  },
  {
   "cell_type": "code",
   "execution_count": 26,
   "id": "5d8cd0d6",
   "metadata": {},
   "outputs": [],
   "source": [
    "total['CER'] = total['CER'].apply(lambda x: '100' if x > 100 else x)"
   ]
  },
  {
   "cell_type": "code",
   "execution_count": 27,
   "id": "fdab577d",
   "metadata": {},
   "outputs": [
    {
     "name": "stderr",
     "output_type": "stream",
     "text": [
      "No artists with labels found to put in legend.  Note that artists whose label start with an underscore are ignored when legend() is called with no argument.\n"
     ]
    },
    {
     "data": {
      "text/plain": [
       "Text(0.5, 1.0, 'Correlation between ratio of garbage words and WER_oi')"
      ]
     },
     "execution_count": 27,
     "metadata": {},
     "output_type": "execute_result"
    },
    {
     "data": {
      "image/png": "[encoded data removed]",
      "text/plain": [
       "<Figure size 432x288 with 1 Axes>"
      ]
     },
     "metadata": {
      "needs_background": "light"
     },
     "output_type": "display_data"
    }
   ],
   "source": [
    "sns.scatterplot(x='CER', y='garbage score',data=total) \n",
    "plt.legend(title=None)\n",
    "plt.xlabel('WER (order independent)')\n",
    "plt.ylabel('Ratio of garbage words')\n",
    "plt.title('Correlation between ratio of garbage words and WER_oi')"
   ]
  },
  {
   "cell_type": "code",
   "execution_count": 28,
   "id": "3ec7f8de",
   "metadata": {},
   "outputs": [
    {
     "name": "stdout",
     "output_type": "stream",
     "text": [
      "PearsonRResult(statistic=0.8448767680927025, pvalue=0.0)\n",
      "r2: 0.7138167532627703\n",
      "ConfidenceInterval(low=0.8369323833468809, high=0.852465200777167)\n"
     ]
    }
   ],
   "source": [
    "res = stats.pearsonr(total['CER'],total['garbage score'])\n",
    "print(res)\n",
    "print(\"r2: \" + str(res[0]*res[0]))\n",
    "print(res.confidence_interval())"
   ]
  },
  {
   "cell_type": "code",
   "execution_count": 30,
   "id": "0806b676",
   "metadata": {},
   "outputs": [
    {
     "name": "stderr",
     "output_type": "stream",
     "text": [
      "No artists with labels found to put in legend.  Note that artists whose label start with an underscore are ignored when legend() is called with no argument.\n"
     ]
    },
    {
     "data": {
      "text/plain": [
       "Text(0.5, 1.0, 'Correlation between ratio of garbage words and WER_oi')"
      ]
     },
     "execution_count": 30,
     "metadata": {},
     "output_type": "execute_result"
    },
    {
     "data": {
      "image/png": "[encoded data removed]",
      "text/plain": [
       "<Figure size 432x288 with 1 Axes>"
      ]
     },
     "metadata": {
      "needs_background": "light"
     },
     "output_type": "display_data"
    }
   ],
   "source": [
    "sns.scatterplot(x='CER', y='WER new',data=total) \n",
    "plt.legend(title=None)\n",
    "plt.xlabel('WER (order independent)')\n",
    "plt.ylabel('Ratio of garbage words')\n",
    "plt.title('Correlation between ratio of garbage words and WER_oi')"
   ]
  },
  {
   "cell_type": "code",
   "execution_count": 32,
   "id": "da038eb2",
   "metadata": {},
   "outputs": [
    {
     "name": "stdout",
     "output_type": "stream",
     "text": [
      "PearsonRResult(statistic=0.8413571200657028, pvalue=0.0)\n",
      "r2: 0.7078818034852535\n",
      "ConfidenceInterval(low=0.8332487746268091, high=0.8491036467908417)\n"
     ]
    }
   ],
   "source": [
    "res = stats.pearsonr(total['CER'],total['WER new'])\n",
    "print(res)\n",
    "print(\"r2: \" + str(res[0]*res[0]))\n",
    "print(res.confidence_interval())"
   ]
  },
  {
   "cell_type": "code",
   "execution_count": null,
   "id": "4aa24cf2",
   "metadata": {},
   "outputs": [],
   "source": []
  },
  {
   "cell_type": "code",
   "execution_count": null,
   "id": "be8ff79c",
   "metadata": {},
   "outputs": [],
   "source": []
  },
  {
   "cell_type": "code",
   "execution_count": 103,
   "id": "c90ff60a",
   "metadata": {},
   "outputs": [],
   "source": [
    "garbage_model_knn = pickle.load(open('garbage_model_knn.pkl', 'rb'))"
   ]
  },
  {
   "cell_type": "code",
   "execution_count": 107,
   "id": "79308725",
   "metadata": {},
   "outputs": [],
   "source": [
    "garbage_model_svm = pickle.load(open('garbage_model_svm.pkl', 'rb'))"
   ]
  },
  {
   "cell_type": "code",
   "execution_count": 119,
   "id": "b83e5935",
   "metadata": {},
   "outputs": [],
   "source": [
    "garbage_model_svm_fs = pickle.load(open('garbage_model_svm_fs.pkl', 'rb'))"
   ]
  },
  {
   "cell_type": "code",
   "execution_count": 128,
   "id": "7530936f",
   "metadata": {},
   "outputs": [],
   "source": [
    "garbage_model_rf_fs = pickle.load(open('garbage_model_RF_fs.pkl', 'rb'))"
   ]
  },
  {
   "cell_type": "code",
   "execution_count": 4,
   "id": "a68f62d6",
   "metadata": {},
   "outputs": [
    {
     "data": {
      "text/html": [
       "<div>\n",
       "<style scoped>\n",
       "    .dataframe tbody tr th:only-of-type {\n",
       "        vertical-align: middle;\n",
       "    }\n",
       "\n",
       "    .dataframe tbody tr th {\n",
       "        vertical-align: top;\n",
       "    }\n",
       "\n",
       "    .dataframe thead th {\n",
       "        text-align: right;\n",
       "    }\n",
       "</style>\n",
       "<table border=\"1\" class=\"dataframe\">\n",
       "  <thead>\n",
       "    <tr style=\"text-align: right;\">\n",
       "      <th></th>\n",
       "      <th>identifier</th>\n",
       "      <th>gt text</th>\n",
       "      <th>ocr text</th>\n",
       "      <th>CER</th>\n",
       "      <th>WER</th>\n",
       "      <th>WER (order independent)</th>\n",
       "      <th>dictionary lookup gt</th>\n",
       "      <th>dictionary lookup ocr</th>\n",
       "      <th>jaccard_coefficient</th>\n",
       "      <th>levenshtein_dist_normalized</th>\n",
       "      <th>source</th>\n",
       "    </tr>\n",
       "  </thead>\n",
       "  <tbody>\n",
       "    <tr>\n",
       "      <th>26399</th>\n",
       "      <td>ddd:011226556:mpeg21:a0003</td>\n",
       "      <td>NEDERLANDEN. Pertinente Lijst van de Fransse A...</td>\n",
       "      <td>NEDERLANDEN. Pertinente Lijft van de , Franffe...</td>\n",
       "      <td>74.60</td>\n",
       "      <td>58.17</td>\n",
       "      <td>49.89</td>\n",
       "      <td>67.54</td>\n",
       "      <td>49.30</td>\n",
       "      <td>0.20</td>\n",
       "      <td>0.28</td>\n",
       "      <td>Meertens</td>\n",
       "    </tr>\n",
       "    <tr>\n",
       "      <th>489</th>\n",
       "      <td>ddd:010800896:mpeg21:a0008</td>\n",
       "      <td>Door den Uytgever deeser Opreghte Haerlemse Co...</td>\n",
       "      <td>Door den Uvtgeever deefer Opreghte Haerlemfe C...</td>\n",
       "      <td>9.84</td>\n",
       "      <td>36.02</td>\n",
       "      <td>32.92</td>\n",
       "      <td>81.20</td>\n",
       "      <td>68.03</td>\n",
       "      <td>0.42</td>\n",
       "      <td>0.10</td>\n",
       "      <td>Meertens</td>\n",
       "    </tr>\n",
       "  </tbody>\n",
       "</table>\n",
       "</div>"
      ],
      "text/plain": [
       "                       identifier  \\\n",
       "26399  ddd:011226556:mpeg21:a0003   \n",
       "489    ddd:010800896:mpeg21:a0008   \n",
       "\n",
       "                                                 gt text  \\\n",
       "26399  NEDERLANDEN. Pertinente Lijst van de Fransse A...   \n",
       "489    Door den Uytgever deeser Opreghte Haerlemse Co...   \n",
       "\n",
       "                                                ocr text    CER    WER  \\\n",
       "26399  NEDERLANDEN. Pertinente Lijft van de , Franffe...  74.60  58.17   \n",
       "489    Door den Uvtgeever deefer Opreghte Haerlemfe C...   9.84  36.02   \n",
       "\n",
       "       WER (order independent)  dictionary lookup gt  dictionary lookup ocr  \\\n",
       "26399                    49.89                 67.54                  49.30   \n",
       "489                      32.92                 81.20                  68.03   \n",
       "\n",
       "       jaccard_coefficient  levenshtein_dist_normalized    source  \n",
       "26399                 0.20                         0.28  Meertens  \n",
       "489                   0.42                         0.10  Meertens  "
      ]
     },
     "execution_count": 4,
     "metadata": {},
     "output_type": "execute_result"
    }
   ],
   "source": [
    "real_data = pd.read_csv('D:/Projecten/OCR quality/Garbage_vergelijking/Digging_through_garbage/Data/testset.csv', index_col = 0)\n",
    "real_data.head(2)"
   ]
  },
  {
   "cell_type": "code",
   "execution_count": 5,
   "id": "22780764",
   "metadata": {},
   "outputs": [
    {
     "data": {
      "text/plain": [
       "5222"
      ]
     },
     "execution_count": 5,
     "metadata": {},
     "output_type": "execute_result"
    }
   ],
   "source": [
    "len(real_data)"
   ]
  },
  {
   "cell_type": "code",
   "execution_count": 6,
   "id": "9533d628",
   "metadata": {},
   "outputs": [],
   "source": [
    "with open('D:/Projecten/OCR quality/Garbage_vergelijking/Digging_through_garbage/Data/vowels_list.json') as json_file:\n",
    "    vowels_list = json.load(json_file)\n",
    "with open('D:/Projecten/OCR quality/Garbage_vergelijking/Digging_through_garbage/Data/consonants_list.json') as json_file:\n",
    "    consonants_list = json.load(json_file)\n",
    "with open('D:/Projecten/OCR quality/Garbage_vergelijking/Digging_through_garbage/Data/dutch_char_list.json') as json_file:\n",
    "    dutch_char_list = json.load(json_file)\n",
    "with open('D:/Projecten/OCR quality/Garbage_vergelijking/Digging_through_garbage/Data/punctuation_list.json') as json_file:\n",
    "    punctuation_list = json.load(json_file)"
   ]
  },
  {
   "cell_type": "code",
   "execution_count": 7,
   "id": "401e9078",
   "metadata": {},
   "outputs": [],
   "source": [
    "accents_list = pd.read_csv(\"D:/Projecten/OCR quality/Garbage_vergelijking/Digging_through_garbage/Data/accents_list.csv\", index_col=0)"
   ]
  },
  {
   "cell_type": "code",
   "execution_count": 8,
   "id": "e44e7d2c",
   "metadata": {},
   "outputs": [],
   "source": [
    "accents_list = accents_list['0'].values.tolist()"
   ]
  },
  {
   "cell_type": "code",
   "execution_count": 9,
   "id": "b0e4ec1f",
   "metadata": {},
   "outputs": [],
   "source": [
    "features = [\"word_length\",\n",
    "                \"word_vowel_ratio\",\n",
    "                \"word_consonant_ratio\",\n",
    "                \"word_vowelandconsonant_ratio\",\n",
    "                \"word_punctuation_ratio\",\n",
    "                \"word_dutch_char_ratio\",\n",
    "                \"word_uppercase_ratio\",\n",
    "                \"word_lowercase_ratio\",\n",
    "                \"word_numbers_ratio\",\n",
    "                \"word_other_characters_ratio\",\n",
    "                \"word_vowels_consonant_ratio\",\n",
    "                \"word_consonant_vowels_ratio\",\n",
    "                \"max_count_same_char\", \n",
    "                \"max_count_strip_same_char\",\n",
    "                \"max_consecutive_consonants\",\n",
    "                \"max_consecutive_vowels\",\n",
    "                \"word_accents_ratio\"]"
   ]
  },
  {
   "cell_type": "code",
   "execution_count": 10,
   "id": "55eb8f43",
   "metadata": {},
   "outputs": [],
   "source": [
    "start = ['\"', \"'\", '(', '[']\n",
    "end = ['.', '?', '!', ',', ';', ':', '-', '\"', \"'\", ')', ']']"
   ]
  },
  {
   "cell_type": "code",
   "execution_count": 11,
   "id": "b5fde2d2",
   "metadata": {},
   "outputs": [],
   "source": [
    "def strip_word(word):\n",
    "    if len(word) > 0:\n",
    "        if word[0] in start:\n",
    "            word = word[1:]\n",
    "        if len(word) > 1:\n",
    "            if word[-1] in end:\n",
    "                word = word[:-1]\n",
    "        return word"
   ]
  },
  {
   "cell_type": "code",
   "execution_count": null,
   "id": "57eaf6ad",
   "metadata": {},
   "outputs": [],
   "source": []
  },
  {
   "cell_type": "code",
   "execution_count": null,
   "id": "16b85cc0",
   "metadata": {},
   "outputs": [],
   "source": []
  },
  {
   "cell_type": "code",
   "execution_count": null,
   "id": "bbf6af90",
   "metadata": {},
   "outputs": [],
   "source": []
  },
  {
   "cell_type": "code",
   "execution_count": null,
   "id": "bd58a613",
   "metadata": {},
   "outputs": [],
   "source": []
  },
  {
   "cell_type": "code",
   "execution_count": 12,
   "id": "ecb3a3a6",
   "metadata": {},
   "outputs": [
    {
     "ename": "KeyboardInterrupt",
     "evalue": "",
     "output_type": "error",
     "traceback": [
      "\u001b[1;31m---------------------------------------------------------------------------\u001b[0m",
      "\u001b[1;31mKeyboardInterrupt\u001b[0m                         Traceback (most recent call last)",
      "Input \u001b[1;32mIn [12]\u001b[0m, in \u001b[0;36m<cell line: 2>\u001b[1;34m()\u001b[0m\n\u001b[0;32m     10\u001b[0m     \u001b[38;5;28;01mif\u001b[39;00m word:\n\u001b[0;32m     12\u001b[0m         word_lst\u001b[38;5;241m.\u001b[39mappend(strip_word(word))\n\u001b[1;32m---> 13\u001b[0m feature_scores_df \u001b[38;5;241m=\u001b[39m \u001b[43madding_features_final\u001b[49m\u001b[38;5;241;43m.\u001b[39;49m\u001b[43mMain\u001b[49m\u001b[43m(\u001b[49m\u001b[43mword_lst\u001b[49m\u001b[43m,\u001b[49m\u001b[43m \u001b[49m\u001b[43mvowels_list\u001b[49m\u001b[43m,\u001b[49m\u001b[43m \u001b[49m\u001b[43mconsonants_list\u001b[49m\u001b[43m,\u001b[49m\u001b[43m \u001b[49m\u001b[43mdutch_char_list\u001b[49m\u001b[43m,\u001b[49m\u001b[43m \u001b[49m\u001b[43mpunctuation_list\u001b[49m\u001b[43m,\u001b[49m\u001b[43maccents_list\u001b[49m\u001b[43m)\u001b[49m\n\u001b[0;32m     14\u001b[0m X_test\u001b[38;5;241m=\u001b[39mfeature_scores_df[features]\n\u001b[0;32m     15\u001b[0m X_test \u001b[38;5;241m=\u001b[39m scaler\u001b[38;5;241m.\u001b[39mfit_transform(X_test)\n",
      "File \u001b[1;32mD:\\Projecten\\OCR quality\\Garbage_vergelijking\\Digging_through_garbage\\Functions\\adding_features_final.py:204\u001b[0m, in \u001b[0;36mMain\u001b[1;34m(garbagelist, vowels_list, consonants_list, dutch_char_list, punctuation_list, accents_list)\u001b[0m\n\u001b[0;32m    199\u001b[0m \u001b[38;5;66;03m# for word in garbagelist:       \u001b[39;00m\n\u001b[0;32m    200\u001b[0m  \u001b[38;5;28;01mfor\u001b[39;00m word \u001b[38;5;129;01min\u001b[39;00m garbagelist:\n\u001b[0;32m    201\u001b[0m \n\u001b[0;32m    202\u001b[0m      \n\u001b[0;32m    203\u001b[0m      \u001b[38;5;66;03m# collect the amount of times a certain character type occurs in a word and their ratios\u001b[39;00m\n\u001b[1;32m--> 204\u001b[0m      characteristics_list \u001b[38;5;241m=\u001b[39m \u001b[43mCharacterCounts\u001b[49m\u001b[43m(\u001b[49m\u001b[43mword\u001b[49m\u001b[43m,\u001b[49m\u001b[43m \u001b[49m\u001b[43mvowels_list\u001b[49m\u001b[43m,\u001b[49m\u001b[43m \u001b[49m\u001b[43mconsonants_list\u001b[49m\u001b[43m,\u001b[49m\u001b[43m \u001b[49m\u001b[43mpunctuation_list\u001b[49m\u001b[43m,\u001b[49m\u001b[43m \u001b[49m\u001b[43mdutch_char_list\u001b[49m\u001b[43m,\u001b[49m\u001b[43m \u001b[49m\u001b[43maccents_list\u001b[49m\u001b[43m)\u001b[49m\n\u001b[0;32m    205\u001b[0m      \u001b[38;5;66;03m# collect the highest amount of consecutive characters for each word\u001b[39;00m\n\u001b[0;32m    206\u001b[0m      max_count_same_char \u001b[38;5;241m=\u001b[39m consecutiveSameCharacter(word)\n",
      "File \u001b[1;32mD:\\Projecten\\OCR quality\\Garbage_vergelijking\\Digging_through_garbage\\Functions\\adding_features_final.py:63\u001b[0m, in \u001b[0;36mCharacterCounts\u001b[1;34m(word, vowels_list, consonants_list, punctuation_list, dutch_char_list, accents_list)\u001b[0m\n\u001b[0;32m     60\u001b[0m word_alpha_ratio \u001b[38;5;241m=\u001b[39m ZeroChecker(alpha, word_length)\n\u001b[0;32m     62\u001b[0m \u001b[38;5;66;03m# Count the amount of accented characters\u001b[39;00m\n\u001b[1;32m---> 63\u001b[0m accents \u001b[38;5;241m=\u001b[39m \u001b[38;5;28mlen\u001b[39m([letter \u001b[38;5;28;01mfor\u001b[39;00m letter \u001b[38;5;129;01min\u001b[39;00m word \u001b[38;5;28;01mif\u001b[39;00m letter \u001b[38;5;129;01min\u001b[39;00m accents_list])   \n\u001b[0;32m     64\u001b[0m word_accents_ratio \u001b[38;5;241m=\u001b[39m ZeroChecker(accents,word_length)\n\u001b[0;32m     66\u001b[0m \u001b[38;5;66;03m# Number of other characters\u001b[39;00m\n",
      "File \u001b[1;32mD:\\Projecten\\OCR quality\\Garbage_vergelijking\\Digging_through_garbage\\Functions\\adding_features_final.py:63\u001b[0m, in \u001b[0;36m<listcomp>\u001b[1;34m(.0)\u001b[0m\n\u001b[0;32m     60\u001b[0m word_alpha_ratio \u001b[38;5;241m=\u001b[39m ZeroChecker(alpha, word_length)\n\u001b[0;32m     62\u001b[0m \u001b[38;5;66;03m# Count the amount of accented characters\u001b[39;00m\n\u001b[1;32m---> 63\u001b[0m accents \u001b[38;5;241m=\u001b[39m \u001b[38;5;28mlen\u001b[39m([letter \u001b[38;5;28;01mfor\u001b[39;00m letter \u001b[38;5;129;01min\u001b[39;00m word \u001b[38;5;28;01mif\u001b[39;00m letter \u001b[38;5;129;01min\u001b[39;00m \u001b[43maccents_list\u001b[49m])   \n\u001b[0;32m     64\u001b[0m word_accents_ratio \u001b[38;5;241m=\u001b[39m ZeroChecker(accents,word_length)\n\u001b[0;32m     66\u001b[0m \u001b[38;5;66;03m# Number of other characters\u001b[39;00m\n",
      "\u001b[1;31mKeyboardInterrupt\u001b[0m: "
     ]
    }
   ],
   "source": [
    "garbage_score = []\n",
    "for index, row in real_data.iterrows():\n",
    "    identifier = row['identifier'] \n",
    "    ocr = row['ocr text']\n",
    "    ocr = ocr.split(\" \")\n",
    "    word_lst = []\n",
    "    for word in ocr:\n",
    "        #print(word)\n",
    "        word = strip_word(word)\n",
    "        if word:\n",
    "    \n",
    "            word_lst.append(strip_word(word))\n",
    "    feature_scores_df = adding_features_final.Main(word_lst, vowels_list, consonants_list, dutch_char_list, punctuation_list,accents_list)\n",
    "    X_test=feature_scores_df[features]\n",
    "    X_test = scaler.fit_transform(X_test)\n",
    "    predictions = garbage_model.predict(X_test)\n",
    "    garbage_words = predictions.sum()\n",
    "    total_words = len(predictions)\n",
    "    garbage_total = (garbage_words / total_words)\n",
    "    garbage_score.append([identifier, garbage_total])\n",
    "    "
   ]
  },
  {
   "cell_type": "code",
   "execution_count": 138,
   "id": "584c1297",
   "metadata": {},
   "outputs": [
    {
     "data": {
      "text/plain": [
       "56"
      ]
     },
     "execution_count": 138,
     "metadata": {},
     "output_type": "execute_result"
    }
   ],
   "source": [
    "predictions.sum()"
   ]
  },
  {
   "cell_type": "code",
   "execution_count": 134,
   "id": "442a4609",
   "metadata": {
    "scrolled": true
   },
   "outputs": [
    {
     "data": {
      "text/plain": [
       "[['ddd:011226556:mpeg21:a0003', 0.9864389753892516]]"
      ]
     },
     "execution_count": 134,
     "metadata": {},
     "output_type": "execute_result"
    }
   ],
   "source": [
    "garbage_score"
   ]
  },
  {
   "cell_type": "code",
   "execution_count": 135,
   "id": "f468fc5f",
   "metadata": {},
   "outputs": [
    {
     "name": "stdout",
     "output_type": "stream",
     "text": [
      "[1 1 1 ... 1 1 1]\n"
     ]
    }
   ],
   "source": [
    "print(predictions)"
   ]
  },
  {
   "cell_type": "code",
   "execution_count": 136,
   "id": "34f44282",
   "metadata": {},
   "outputs": [
    {
     "data": {
      "text/html": [
       "<div>\n",
       "<style scoped>\n",
       "    .dataframe tbody tr th:only-of-type {\n",
       "        vertical-align: middle;\n",
       "    }\n",
       "\n",
       "    .dataframe tbody tr th {\n",
       "        vertical-align: top;\n",
       "    }\n",
       "\n",
       "    .dataframe thead th {\n",
       "        text-align: right;\n",
       "    }\n",
       "</style>\n",
       "<table border=\"1\" class=\"dataframe\">\n",
       "  <thead>\n",
       "    <tr style=\"text-align: right;\">\n",
       "      <th></th>\n",
       "      <th>word</th>\n",
       "      <th>word_length</th>\n",
       "      <th>vowels</th>\n",
       "      <th>consonants</th>\n",
       "      <th>vowelandconsonant</th>\n",
       "      <th>punctuation</th>\n",
       "      <th>dutch_char</th>\n",
       "      <th>upper</th>\n",
       "      <th>lower</th>\n",
       "      <th>numbers</th>\n",
       "      <th>...</th>\n",
       "      <th>word_numbers_ratio</th>\n",
       "      <th>word_alpha_ratio</th>\n",
       "      <th>word_accents_ratio</th>\n",
       "      <th>word_other_characters_ratio</th>\n",
       "      <th>word_vowels_consonant_ratio</th>\n",
       "      <th>word_consonant_vowels_ratio</th>\n",
       "      <th>max_count_same_char</th>\n",
       "      <th>max_count_strip_same_char</th>\n",
       "      <th>max_consecutive_consonants</th>\n",
       "      <th>max_consecutive_vowels</th>\n",
       "    </tr>\n",
       "  </thead>\n",
       "  <tbody>\n",
       "    <tr>\n",
       "      <th>0</th>\n",
       "      <td>NEDERLANDEN</td>\n",
       "      <td>11</td>\n",
       "      <td>4</td>\n",
       "      <td>7</td>\n",
       "      <td>11</td>\n",
       "      <td>0</td>\n",
       "      <td>11</td>\n",
       "      <td>11</td>\n",
       "      <td>0</td>\n",
       "      <td>0</td>\n",
       "      <td>...</td>\n",
       "      <td>0.0</td>\n",
       "      <td>1.0</td>\n",
       "      <td>0.0</td>\n",
       "      <td>0.0</td>\n",
       "      <td>0.571429</td>\n",
       "      <td>1.75</td>\n",
       "      <td>1</td>\n",
       "      <td>1</td>\n",
       "      <td>2</td>\n",
       "      <td>1</td>\n",
       "    </tr>\n",
       "    <tr>\n",
       "      <th>1</th>\n",
       "      <td>Pertinente</td>\n",
       "      <td>10</td>\n",
       "      <td>4</td>\n",
       "      <td>6</td>\n",
       "      <td>10</td>\n",
       "      <td>0</td>\n",
       "      <td>10</td>\n",
       "      <td>0</td>\n",
       "      <td>9</td>\n",
       "      <td>0</td>\n",
       "      <td>...</td>\n",
       "      <td>0.0</td>\n",
       "      <td>1.0</td>\n",
       "      <td>0.0</td>\n",
       "      <td>0.0</td>\n",
       "      <td>0.666667</td>\n",
       "      <td>1.50</td>\n",
       "      <td>1</td>\n",
       "      <td>1</td>\n",
       "      <td>2</td>\n",
       "      <td>1</td>\n",
       "    </tr>\n",
       "    <tr>\n",
       "      <th>2</th>\n",
       "      <td>Lijft</td>\n",
       "      <td>5</td>\n",
       "      <td>1</td>\n",
       "      <td>4</td>\n",
       "      <td>5</td>\n",
       "      <td>0</td>\n",
       "      <td>5</td>\n",
       "      <td>0</td>\n",
       "      <td>4</td>\n",
       "      <td>0</td>\n",
       "      <td>...</td>\n",
       "      <td>0.0</td>\n",
       "      <td>1.0</td>\n",
       "      <td>0.0</td>\n",
       "      <td>0.0</td>\n",
       "      <td>0.250000</td>\n",
       "      <td>4.00</td>\n",
       "      <td>1</td>\n",
       "      <td>1</td>\n",
       "      <td>3</td>\n",
       "      <td>1</td>\n",
       "    </tr>\n",
       "    <tr>\n",
       "      <th>3</th>\n",
       "      <td>van</td>\n",
       "      <td>3</td>\n",
       "      <td>1</td>\n",
       "      <td>2</td>\n",
       "      <td>3</td>\n",
       "      <td>0</td>\n",
       "      <td>3</td>\n",
       "      <td>0</td>\n",
       "      <td>3</td>\n",
       "      <td>0</td>\n",
       "      <td>...</td>\n",
       "      <td>0.0</td>\n",
       "      <td>1.0</td>\n",
       "      <td>0.0</td>\n",
       "      <td>0.0</td>\n",
       "      <td>0.500000</td>\n",
       "      <td>2.00</td>\n",
       "      <td>1</td>\n",
       "      <td>1</td>\n",
       "      <td>1</td>\n",
       "      <td>1</td>\n",
       "    </tr>\n",
       "    <tr>\n",
       "      <th>4</th>\n",
       "      <td>de</td>\n",
       "      <td>2</td>\n",
       "      <td>1</td>\n",
       "      <td>1</td>\n",
       "      <td>2</td>\n",
       "      <td>0</td>\n",
       "      <td>2</td>\n",
       "      <td>0</td>\n",
       "      <td>2</td>\n",
       "      <td>0</td>\n",
       "      <td>...</td>\n",
       "      <td>0.0</td>\n",
       "      <td>1.0</td>\n",
       "      <td>0.0</td>\n",
       "      <td>0.0</td>\n",
       "      <td>1.000000</td>\n",
       "      <td>1.00</td>\n",
       "      <td>1</td>\n",
       "      <td>1</td>\n",
       "      <td>1</td>\n",
       "      <td>1</td>\n",
       "    </tr>\n",
       "  </tbody>\n",
       "</table>\n",
       "<p>5 rows × 30 columns</p>\n",
       "</div>"
      ],
      "text/plain": [
       "          word  word_length  vowels  consonants  vowelandconsonant  \\\n",
       "0  NEDERLANDEN           11       4           7                 11   \n",
       "1   Pertinente           10       4           6                 10   \n",
       "2        Lijft            5       1           4                  5   \n",
       "3          van            3       1           2                  3   \n",
       "4           de            2       1           1                  2   \n",
       "\n",
       "   punctuation  dutch_char  upper  lower  numbers  ...  word_numbers_ratio  \\\n",
       "0            0          11     11      0        0  ...                 0.0   \n",
       "1            0          10      0      9        0  ...                 0.0   \n",
       "2            0           5      0      4        0  ...                 0.0   \n",
       "3            0           3      0      3        0  ...                 0.0   \n",
       "4            0           2      0      2        0  ...                 0.0   \n",
       "\n",
       "   word_alpha_ratio  word_accents_ratio  word_other_characters_ratio  \\\n",
       "0               1.0                 0.0                          0.0   \n",
       "1               1.0                 0.0                          0.0   \n",
       "2               1.0                 0.0                          0.0   \n",
       "3               1.0                 0.0                          0.0   \n",
       "4               1.0                 0.0                          0.0   \n",
       "\n",
       "   word_vowels_consonant_ratio  word_consonant_vowels_ratio  \\\n",
       "0                     0.571429                         1.75   \n",
       "1                     0.666667                         1.50   \n",
       "2                     0.250000                         4.00   \n",
       "3                     0.500000                         2.00   \n",
       "4                     1.000000                         1.00   \n",
       "\n",
       "   max_count_same_char  max_count_strip_same_char  max_consecutive_consonants  \\\n",
       "0                    1                          1                           2   \n",
       "1                    1                          1                           2   \n",
       "2                    1                          1                           3   \n",
       "3                    1                          1                           1   \n",
       "4                    1                          1                           1   \n",
       "\n",
       "   max_consecutive_vowels  \n",
       "0                       1  \n",
       "1                       1  \n",
       "2                       1  \n",
       "3                       1  \n",
       "4                       1  \n",
       "\n",
       "[5 rows x 30 columns]"
      ]
     },
     "execution_count": 136,
     "metadata": {},
     "output_type": "execute_result"
    }
   ],
   "source": [
    "feature_scores_df.head(5)"
   ]
  },
  {
   "cell_type": "code",
   "execution_count": 24,
   "id": "f35d311f",
   "metadata": {},
   "outputs": [
    {
     "data": {
      "text/plain": [
       "5222"
      ]
     },
     "execution_count": 24,
     "metadata": {},
     "output_type": "execute_result"
    }
   ],
   "source": [
    "WER (order independent)"
   ]
  },
  {
   "cell_type": "code",
   "execution_count": 143,
   "id": "651ac72d",
   "metadata": {},
   "outputs": [],
   "source": [
    "garbage_df = pd.DataFrame(garbage_score, columns = ['identifier', 'garbage score'])"
   ]
  },
  {
   "cell_type": "code",
   "execution_count": 144,
   "id": "261514fe",
   "metadata": {},
   "outputs": [],
   "source": [
    "total = real_data.merge(garbage_df, on = 'identifier', how = 'inner')"
   ]
  },
  {
   "cell_type": "code",
   "execution_count": 145,
   "id": "eaa46e04",
   "metadata": {},
   "outputs": [
    {
     "data": {
      "text/plain": [
       "5222"
      ]
     },
     "execution_count": 145,
     "metadata": {},
     "output_type": "execute_result"
    }
   ],
   "source": [
    "len(total)"
   ]
  },
  {
   "cell_type": "code",
   "execution_count": 148,
   "id": "f98bfa02",
   "metadata": {},
   "outputs": [],
   "source": [
    "total = total[total['WER (order independent)'] <150]"
   ]
  },
  {
   "cell_type": "code",
   "execution_count": 149,
   "id": "997ee0ba",
   "metadata": {},
   "outputs": [
    {
     "data": {
      "image/png": "[encoded data removed]",
      "text/plain": [
       "<Figure size 432x288 with 1 Axes>"
      ]
     },
     "metadata": {
      "needs_background": "light"
     },
     "output_type": "display_data"
    }
   ],
   "source": [
    "## Check if there is a correlation between the dictionary lookup and the word error rate\n",
    "# Draw a scatter plot\n",
    "import matplotlib.pyplot as plt\n",
    "import numpy as np\n",
    "\n",
    "#plt.scatter(x = 'WER_reocr', y = 'word_level_average_confidence_reocr', data = data);\n",
    "#plt.scatter(x = 'WER_reocr', y = 'jaccard_coefficient_reocr', data = data);\n",
    "plt.scatter(x = 'WER (order independent)', y = 'garbage score', data = total);\n",
    "#plt.scatter(x = 'WER_reocr', y = 'levenshtein_dist_normalized_reocr_invert', data = data);\n",
    "\n",
    "plt.show()"
   ]
  },
  {
   "cell_type": "code",
   "execution_count": 150,
   "id": "1d23f174",
   "metadata": {},
   "outputs": [],
   "source": [
    "total_check = total[['ocr text', 'WER', 'WER (order independent)', 'garbage score']]"
   ]
  },
  {
   "cell_type": "code",
   "execution_count": 152,
   "id": "f2933498",
   "metadata": {},
   "outputs": [
    {
     "data": {
      "text/html": [
       "<div>\n",
       "<style scoped>\n",
       "    .dataframe tbody tr th:only-of-type {\n",
       "        vertical-align: middle;\n",
       "    }\n",
       "\n",
       "    .dataframe tbody tr th {\n",
       "        vertical-align: top;\n",
       "    }\n",
       "\n",
       "    .dataframe thead th {\n",
       "        text-align: right;\n",
       "    }\n",
       "</style>\n",
       "<table border=\"1\" class=\"dataframe\">\n",
       "  <thead>\n",
       "    <tr style=\"text-align: right;\">\n",
       "      <th></th>\n",
       "      <th>ocr text</th>\n",
       "      <th>WER</th>\n",
       "      <th>WER (order independent)</th>\n",
       "      <th>garbage score</th>\n",
       "    </tr>\n",
       "  </thead>\n",
       "  <tbody>\n",
       "    <tr>\n",
       "      <th>1532</th>\n",
       "      <td>Gedruckt tot Haerlttn, by ABRAHA M CASTELEYN, ...</td>\n",
       "      <td>85.00</td>\n",
       "      <td>80.00</td>\n",
       "      <td>1.0</td>\n",
       "    </tr>\n",
       "    <tr>\n",
       "      <th>2289</th>\n",
       "      <td>POOLEN, PRUYSSEN, &amp;c. W'arfchouwdenzo.OaobeK'M...</td>\n",
       "      <td>83.33</td>\n",
       "      <td>83.33</td>\n",
       "      <td>1.0</td>\n",
       "    </tr>\n",
       "    <tr>\n",
       "      <th>3641</th>\n",
       "      <td>BARBARYEN. t,?f&lt;ein n;A-wi'-S*AlliiÃ¨i if .La....</td>\n",
       "      <td>96.67</td>\n",
       "      <td>90.00</td>\n",
       "      <td>1.0</td>\n",
       "    </tr>\n",
       "    <tr>\n",
       "      <th>3658</th>\n",
       "      <td>Wt Antwerpen den 22 dito. ©ter té alles eonfup...</td>\n",
       "      <td>67.50</td>\n",
       "      <td>65.00</td>\n",
       "      <td>1.0</td>\n",
       "    </tr>\n",
       "    <tr>\n",
       "      <th>3661</th>\n",
       "      <td>Gcdruckt tot Haerlem&gt; byABRAHAM CASTELKYNj Sr?...</td>\n",
       "      <td>84.21</td>\n",
       "      <td>84.21</td>\n",
       "      <td>1.0</td>\n",
       "    </tr>\n",
       "    <tr>\n",
       "      <th>3970</th>\n",
       "      <td>PORTUGAEL. E-.Jfahn den lyMfy.- Alfoo men hier...</td>\n",
       "      <td>88.66</td>\n",
       "      <td>81.44</td>\n",
       "      <td>1.0</td>\n",
       "    </tr>\n",
       "    <tr>\n",
       "      <th>1652</th>\n",
       "      <td>POOLEN,PRUYSSEN,&amp;c. , -~Dartfigh:denâ€¢ io Mna...</td>\n",
       "      <td>106.67</td>\n",
       "      <td>100.00</td>\n",
       "      <td>1.0</td>\n",
       "    </tr>\n",
       "    <tr>\n",
       "      <th>3677</th>\n",
       "      <td>uyt Augsburgh van den selven dito. J*- *■'■*• ...</td>\n",
       "      <td>88.46</td>\n",
       "      <td>88.46</td>\n",
       "      <td>1.0</td>\n",
       "    </tr>\n",
       "    <tr>\n",
       "      <th>2215</th>\n",
       "      <td>POLEN, PRUYSSEN, &amp;c. *â€¢ Lcolburgdeh 2Â£ Febr...</td>\n",
       "      <td>75.56</td>\n",
       "      <td>71.11</td>\n",
       "      <td>1.0</td>\n",
       "    </tr>\n",
       "    <tr>\n",
       "      <th>2292</th>\n",
       "      <td>VRANCKRYCK. .\"',,. Parsjsdtn xf-Felriiary.DÃ© ...</td>\n",
       "      <td>88.16</td>\n",
       "      <td>78.95</td>\n",
       "      <td>1.0</td>\n",
       "    </tr>\n",
       "    <tr>\n",
       "      <th>1276</th>\n",
       "      <td>PORTUGAEL. L\"'ljftbondeÂ»Ji6Augufit:JDenix def...</td>\n",
       "      <td>105.65</td>\n",
       "      <td>94.35</td>\n",
       "      <td>1.0</td>\n",
       "    </tr>\n",
       "    <tr>\n",
       "      <th>1263</th>\n",
       "      <td>SWITSERLANT. Ã¯rÂ»(t/-knÂ»n . R onras verklaei...</td>\n",
       "      <td>100.00</td>\n",
       "      <td>98.41</td>\n",
       "      <td>1.0</td>\n",
       "    </tr>\n",
       "    <tr>\n",
       "      <th>4945</th>\n",
       "      <td>MOREA. Corinthus den jrNovcmber, Den Capitcyn ...</td>\n",
       "      <td>45.45</td>\n",
       "      <td>43.64</td>\n",
       "      <td>1.0</td>\n",
       "    </tr>\n",
       "    <tr>\n",
       "      <th>4439</th>\n",
       "      <td>POLEN, PRUYSSEN. ( WarfchÃ³uw den z OBober. De...</td>\n",
       "      <td>42.74</td>\n",
       "      <td>38.46</td>\n",
       "      <td>1.0</td>\n",
       "    </tr>\n",
       "    <tr>\n",
       "      <th>867</th>\n",
       "      <td>Wt Hamburgh den 23 dito. re.' 't it UiÃ¯J JE* ...</td>\n",
       "      <td>88.89</td>\n",
       "      <td>88.89</td>\n",
       "      <td>1.0</td>\n",
       "    </tr>\n",
       "    <tr>\n",
       "      <th>3820</th>\n",
       "      <td>Uyt Luyck den 19 dito. Â©e Citabelle alhier it...</td>\n",
       "      <td>64.00</td>\n",
       "      <td>60.00</td>\n",
       "      <td>1.0</td>\n",
       "    </tr>\n",
       "    <tr>\n",
       "      <th>3419</th>\n",
       "      <td>Onder't eerste Esquadre. -is2^**?e^,'B;l,*tnn&lt;...</td>\n",
       "      <td>92.86</td>\n",
       "      <td>92.86</td>\n",
       "      <td>1.0</td>\n",
       "    </tr>\n",
       "    <tr>\n",
       "      <th>4346</th>\n",
       "      <td>VRANCKRYCK. parijs den o Macrr. Madsme. de Nem...</td>\n",
       "      <td>56.52</td>\n",
       "      <td>55.07</td>\n",
       "      <td>1.0</td>\n",
       "    </tr>\n",
       "    <tr>\n",
       "      <th>2143</th>\n",
       "      <td>POOLEN PRUYSSEN, &amp;c. WARSCHAU dei.4luly. Den C...</td>\n",
       "      <td>50.00</td>\n",
       "      <td>46.25</td>\n",
       "      <td>1.0</td>\n",
       "    </tr>\n",
       "    <tr>\n",
       "      <th>929</th>\n",
       "      <td>Oprechte Haerlemse NÂ°. *2 Dingsdaegfe Courant...</td>\n",
       "      <td>99.87</td>\n",
       "      <td>99.83</td>\n",
       "      <td>1.0</td>\n",
       "    </tr>\n",
       "    <tr>\n",
       "      <th>2041</th>\n",
       "      <td>Gtrfrackt totHaerkm, by ABR A H A.M CASTE L E ...</td>\n",
       "      <td>105.26</td>\n",
       "      <td>94.74</td>\n",
       "      <td>1.0</td>\n",
       "    </tr>\n",
       "    <tr>\n",
       "      <th>3479</th>\n",
       "      <td>DALMATIEN. /n Palato den ?l OftÃ³ber. I*a vcri...</td>\n",
       "      <td>64.08</td>\n",
       "      <td>51.46</td>\n",
       "      <td>1.0</td>\n",
       "    </tr>\n",
       "    <tr>\n",
       "      <th>1019</th>\n",
       "      <td>VRANCKRYCK. 'Tarys den r ItrnyÃ¯ Den Koningh V...</td>\n",
       "      <td>43.24</td>\n",
       "      <td>39.19</td>\n",
       "      <td>1.0</td>\n",
       "    </tr>\n",
       "    <tr>\n",
       "      <th>4315</th>\n",
       "      <td>Gedruckt t'Amftcrdam, By Mattheus CoÃ¼sart, op...</td>\n",
       "      <td>63.64</td>\n",
       "      <td>54.55</td>\n",
       "      <td>1.0</td>\n",
       "    </tr>\n",
       "    <tr>\n",
       "      <th>3187</th>\n",
       "      <td>Wert mits delen een jegelijck bekent gema cc k...</td>\n",
       "      <td>46.34</td>\n",
       "      <td>41.46</td>\n",
       "      <td>1.0</td>\n",
       "    </tr>\n",
       "    <tr>\n",
       "      <th>4266</th>\n",
       "      <td>Wt der Neunburgh den 17 dito. â–  - geert/d</td>\n",
       "      <td>85.00</td>\n",
       "      <td>85.00</td>\n",
       "      <td>1.0</td>\n",
       "    </tr>\n",
       "    <tr>\n",
       "      <th>3503</th>\n",
       "      <td>Uyt Antwerpen, den 11 dito. I Â©Ã© . Ã¶ebe ban...</td>\n",
       "      <td>97.14</td>\n",
       "      <td>97.14</td>\n",
       "      <td>1.0</td>\n",
       "    </tr>\n",
       "    <tr>\n",
       "      <th>5148</th>\n",
       "      <td>ENGELANDT. \"\" \" Veceml&gt;\"- Op den 20 haddeden A...</td>\n",
       "      <td>63.89</td>\n",
       "      <td>55.56</td>\n",
       "      <td>1.0</td>\n",
       "    </tr>\n",
       "    <tr>\n",
       "      <th>1112</th>\n",
       "      <td>POOLEN, PRUYSSEN, &amp;c. \\, Daikighdcn $ tahuary:...</td>\n",
       "      <td>96.25</td>\n",
       "      <td>90.63</td>\n",
       "      <td>1.0</td>\n",
       "    </tr>\n",
       "    <tr>\n",
       "      <th>3509</th>\n",
       "      <td>Wt Hogenwiel van den felsden dito. ©e i&amp;epfici...</td>\n",
       "      <td>81.40</td>\n",
       "      <td>79.07</td>\n",
       "      <td>1.0</td>\n",
       "    </tr>\n",
       "    <tr>\n",
       "      <th>2193</th>\n",
       "      <td>ENGELANDT, &amp;c. tfeS W. iftfÂ«#%atÃ³ Â«Win; | &gt;...</td>\n",
       "      <td>97.13</td>\n",
       "      <td>97.13</td>\n",
       "      <td>1.0</td>\n",
       "    </tr>\n",
       "    <tr>\n",
       "      <th>2506</th>\n",
       "      <td>GodrucSt tot HaarlemÂ» b&gt; ABRAHAM CASTÃˆLFYN, ...</td>\n",
       "      <td>89.47</td>\n",
       "      <td>89.47</td>\n",
       "      <td>1.0</td>\n",
       "    </tr>\n",
       "    <tr>\n",
       "      <th>1151</th>\n",
       "      <td>'' Om de Brieven \"en Packetten te fpoediger ov...</td>\n",
       "      <td>50.00</td>\n",
       "      <td>50.00</td>\n",
       "      <td>1.0</td>\n",
       "    </tr>\n",
       "    <tr>\n",
       "      <th>1152</th>\n",
       "      <td>SPANGIEN. CAdix den'3l Maert. la de voorgaende...</td>\n",
       "      <td>52.34</td>\n",
       "      <td>45.73</td>\n",
       "      <td>1.0</td>\n",
       "    </tr>\n",
       "    <tr>\n",
       "      <th>2504</th>\n",
       "      <td>Gedruckt.tttHaerlem , by ABRAHAM CASTELEYN, St...</td>\n",
       "      <td>73.68</td>\n",
       "      <td>68.42</td>\n",
       "      <td>1.0</td>\n",
       "    </tr>\n",
       "    <tr>\n",
       "      <th>2488</th>\n",
       "      <td>ENGELANDT, &amp;c. \" tonto -deri I?en Gravevari^ /...</td>\n",
       "      <td>98.25</td>\n",
       "      <td>98.25</td>\n",
       "      <td>1.0</td>\n",
       "    </tr>\n",
       "    <tr>\n",
       "      <th>3854</th>\n",
       "      <td>Oprechte Haerlemse Saterdaegse Courant. '4'} \"...</td>\n",
       "      <td>88.72</td>\n",
       "      <td>77.44</td>\n",
       "      <td>1.0</td>\n",
       "    </tr>\n",
       "    <tr>\n",
       "      <th>5062</th>\n",
       "      <td>tâ€™Sedert den 15 Novembertaesiteden is vermis...</td>\n",
       "      <td>89.00</td>\n",
       "      <td>89.00</td>\n",
       "      <td>1.0</td>\n",
       "    </tr>\n",
       "    <tr>\n",
       "      <th>4449</th>\n",
       "      <td>mt Eeger ban ©on j?randfco De jl. elo lagfi bp...</td>\n",
       "      <td>91.30</td>\n",
       "      <td>86.96</td>\n",
       "      <td>1.0</td>\n",
       "    </tr>\n",
       "    <tr>\n",
       "      <th>5221</th>\n",
       "      <td>SWITSERLANT. B : Afc! dea'27 Decetfcber. iGede...</td>\n",
       "      <td>77.27</td>\n",
       "      <td>62.12</td>\n",
       "      <td>1.0</td>\n",
       "    </tr>\n",
       "  </tbody>\n",
       "</table>\n",
       "</div>"
      ],
      "text/plain": [
       "                                               ocr text     WER  \\\n",
       "1532  Gedruckt tot Haerlttn, by ABRAHA M CASTELEYN, ...   85.00   \n",
       "2289  POOLEN, PRUYSSEN, &c. W'arfchouwdenzo.OaobeK'M...   83.33   \n",
       "3641  BARBARYEN. t,?f<ein n;A-wi'-S*AlliiÃ¨i if .La....   96.67   \n",
       "3658  Wt Antwerpen den 22 dito. ©ter té alles eonfup...   67.50   \n",
       "3661  Gcdruckt tot Haerlem> byABRAHAM CASTELKYNj Sr?...   84.21   \n",
       "3970  PORTUGAEL. E-.Jfahn den lyMfy.- Alfoo men hier...   88.66   \n",
       "1652  POOLEN,PRUYSSEN,&c. , -~Dartfigh:denâ€¢ io Mna...  106.67   \n",
       "3677  uyt Augsburgh van den selven dito. J*- *■'■*• ...   88.46   \n",
       "2215  POLEN, PRUYSSEN, &c. *â€¢ Lcolburgdeh 2Â£ Febr...   75.56   \n",
       "2292  VRANCKRYCK. .\"',,. Parsjsdtn xf-Felriiary.DÃ© ...   88.16   \n",
       "1276  PORTUGAEL. L\"'ljftbondeÂ»Ji6Augufit:JDenix def...  105.65   \n",
       "1263  SWITSERLANT. Ã¯rÂ»(t/-knÂ»n . R onras verklaei...  100.00   \n",
       "4945  MOREA. Corinthus den jrNovcmber, Den Capitcyn ...   45.45   \n",
       "4439  POLEN, PRUYSSEN. ( WarfchÃ³uw den z OBober. De...   42.74   \n",
       "867   Wt Hamburgh den 23 dito. re.' 't it UiÃ¯J JE* ...   88.89   \n",
       "3820  Uyt Luyck den 19 dito. Â©e Citabelle alhier it...   64.00   \n",
       "3419  Onder't eerste Esquadre. -is2^**?e^,'B;l,*tnn<...   92.86   \n",
       "4346  VRANCKRYCK. parijs den o Macrr. Madsme. de Nem...   56.52   \n",
       "2143  POOLEN PRUYSSEN, &c. WARSCHAU dei.4luly. Den C...   50.00   \n",
       "929   Oprechte Haerlemse NÂ°. *2 Dingsdaegfe Courant...   99.87   \n",
       "2041  Gtrfrackt totHaerkm, by ABR A H A.M CASTE L E ...  105.26   \n",
       "3479  DALMATIEN. /n Palato den ?l OftÃ³ber. I*a vcri...   64.08   \n",
       "1019  VRANCKRYCK. 'Tarys den r ItrnyÃ¯ Den Koningh V...   43.24   \n",
       "4315  Gedruckt t'Amftcrdam, By Mattheus CoÃ¼sart, op...   63.64   \n",
       "3187  Wert mits delen een jegelijck bekent gema cc k...   46.34   \n",
       "4266       Wt der Neunburgh den 17 dito. â–  - geert/d    85.00   \n",
       "3503  Uyt Antwerpen, den 11 dito. I Â©Ã© . Ã¶ebe ban...   97.14   \n",
       "5148  ENGELANDT. \"\" \" Veceml>\"- Op den 20 haddeden A...   63.89   \n",
       "1112  POOLEN, PRUYSSEN, &c. \\, Daikighdcn $ tahuary:...   96.25   \n",
       "3509  Wt Hogenwiel van den felsden dito. ©e i&epfici...   81.40   \n",
       "2193  ENGELANDT, &c. tfeS W. iftfÂ«#%atÃ³ Â«Win; | >...   97.13   \n",
       "2506  GodrucSt tot HaarlemÂ» b> ABRAHAM CASTÃˆLFYN, ...   89.47   \n",
       "1151  '' Om de Brieven \"en Packetten te fpoediger ov...   50.00   \n",
       "1152  SPANGIEN. CAdix den'3l Maert. la de voorgaende...   52.34   \n",
       "2504  Gedruckt.tttHaerlem , by ABRAHAM CASTELEYN, St...   73.68   \n",
       "2488  ENGELANDT, &c. \" tonto -deri I?en Gravevari^ /...   98.25   \n",
       "3854  Oprechte Haerlemse Saterdaegse Courant. '4'} \"...   88.72   \n",
       "5062  tâ€™Sedert den 15 Novembertaesiteden is vermis...   89.00   \n",
       "4449  mt Eeger ban ©on j?randfco De jl. elo lagfi bp...   91.30   \n",
       "5221  SWITSERLANT. B : Afc! dea'27 Decetfcber. iGede...   77.27   \n",
       "\n",
       "      WER (order independent)  garbage score  \n",
       "1532                    80.00            1.0  \n",
       "2289                    83.33            1.0  \n",
       "3641                    90.00            1.0  \n",
       "3658                    65.00            1.0  \n",
       "3661                    84.21            1.0  \n",
       "3970                    81.44            1.0  \n",
       "1652                   100.00            1.0  \n",
       "3677                    88.46            1.0  \n",
       "2215                    71.11            1.0  \n",
       "2292                    78.95            1.0  \n",
       "1276                    94.35            1.0  \n",
       "1263                    98.41            1.0  \n",
       "4945                    43.64            1.0  \n",
       "4439                    38.46            1.0  \n",
       "867                     88.89            1.0  \n",
       "3820                    60.00            1.0  \n",
       "3419                    92.86            1.0  \n",
       "4346                    55.07            1.0  \n",
       "2143                    46.25            1.0  \n",
       "929                     99.83            1.0  \n",
       "2041                    94.74            1.0  \n",
       "3479                    51.46            1.0  \n",
       "1019                    39.19            1.0  \n",
       "4315                    54.55            1.0  \n",
       "3187                    41.46            1.0  \n",
       "4266                    85.00            1.0  \n",
       "3503                    97.14            1.0  \n",
       "5148                    55.56            1.0  \n",
       "1112                    90.63            1.0  \n",
       "3509                    79.07            1.0  \n",
       "2193                    97.13            1.0  \n",
       "2506                    89.47            1.0  \n",
       "1151                    50.00            1.0  \n",
       "1152                    45.73            1.0  \n",
       "2504                    68.42            1.0  \n",
       "2488                    98.25            1.0  \n",
       "3854                    77.44            1.0  \n",
       "5062                    89.00            1.0  \n",
       "4449                    86.96            1.0  \n",
       "5221                    62.12            1.0  "
      ]
     },
     "execution_count": 152,
     "metadata": {},
     "output_type": "execute_result"
    }
   ],
   "source": [
    "total_check.sort_values(by = 'garbage score').tail(40)"
   ]
  },
  {
   "cell_type": "code",
   "execution_count": 52,
   "id": "fa6a6973",
   "metadata": {},
   "outputs": [
    {
     "data": {
      "text/plain": [
       "array([1, 1, 1, ..., 0, 0, 0], dtype=int64)"
      ]
     },
     "execution_count": 52,
     "metadata": {},
     "output_type": "execute_result"
    }
   ],
   "source": [
    "predictions"
   ]
  },
  {
   "cell_type": "code",
   "execution_count": 12,
   "id": "28f83499",
   "metadata": {},
   "outputs": [
    {
     "data": {
      "text/plain": [
       "array([1, 0], dtype=int64)"
      ]
     },
     "execution_count": 12,
     "metadata": {},
     "output_type": "execute_result"
    }
   ],
   "source": [
    "feature_selection['garbage_score'].unique()"
   ]
  },
  {
   "cell_type": "code",
   "execution_count": 65,
   "id": "49ab060c",
   "metadata": {},
   "outputs": [],
   "source": [
    "predictions = garbage_model.predict(X_test)\n"
   ]
  },
  {
   "cell_type": "code",
   "execution_count": 66,
   "id": "219aa0e4",
   "metadata": {},
   "outputs": [],
   "source": [
    "predictions = pd.DataFrame(\n",
    "            predictions, # Anything you want\n",
    "            index=to_predict.index,\n",
    "        )"
   ]
  },
  {
   "cell_type": "code",
   "execution_count": 67,
   "id": "8f047d53",
   "metadata": {},
   "outputs": [],
   "source": [
    "df_tot = pd.merge(feature_selection, predictions, left_index=True, right_index=True)"
   ]
  },
  {
   "cell_type": "code",
   "execution_count": 68,
   "id": "67de8f5e",
   "metadata": {},
   "outputs": [
    {
     "data": {
      "text/html": [
       "<div>\n",
       "<style scoped>\n",
       "    .dataframe tbody tr th:only-of-type {\n",
       "        vertical-align: middle;\n",
       "    }\n",
       "\n",
       "    .dataframe tbody tr th {\n",
       "        vertical-align: top;\n",
       "    }\n",
       "\n",
       "    .dataframe thead th {\n",
       "        text-align: right;\n",
       "    }\n",
       "</style>\n",
       "<table border=\"1\" class=\"dataframe\">\n",
       "  <thead>\n",
       "    <tr style=\"text-align: right;\">\n",
       "      <th></th>\n",
       "      <th>word</th>\n",
       "      <th>garbage_score</th>\n",
       "      <th>word_length</th>\n",
       "      <th>vowels</th>\n",
       "      <th>consonants</th>\n",
       "      <th>vowelandconsonant</th>\n",
       "      <th>punctuation</th>\n",
       "      <th>dutch_char</th>\n",
       "      <th>upper</th>\n",
       "      <th>lower</th>\n",
       "      <th>...</th>\n",
       "      <th>word_alpha_ratio</th>\n",
       "      <th>word_accents_ratio</th>\n",
       "      <th>word_other_characters_ratio</th>\n",
       "      <th>word_vowels_consonant_ratio</th>\n",
       "      <th>word_consonant_vowels_ratio</th>\n",
       "      <th>max_count_same_char</th>\n",
       "      <th>max_count_strip_same_char</th>\n",
       "      <th>max_consecutive_consonants</th>\n",
       "      <th>max_consecutive_vowels</th>\n",
       "      <th>0</th>\n",
       "    </tr>\n",
       "  </thead>\n",
       "  <tbody>\n",
       "    <tr>\n",
       "      <th>0</th>\n",
       "      <td>fttïsietm</td>\n",
       "      <td>1</td>\n",
       "      <td>9</td>\n",
       "      <td>3</td>\n",
       "      <td>6</td>\n",
       "      <td>9</td>\n",
       "      <td>0</td>\n",
       "      <td>9</td>\n",
       "      <td>0</td>\n",
       "      <td>9</td>\n",
       "      <td>...</td>\n",
       "      <td>1.000000</td>\n",
       "      <td>0.111111</td>\n",
       "      <td>0.0</td>\n",
       "      <td>0.500000</td>\n",
       "      <td>2.000000</td>\n",
       "      <td>2</td>\n",
       "      <td>2</td>\n",
       "      <td>3</td>\n",
       "      <td>2</td>\n",
       "      <td>1</td>\n",
       "    </tr>\n",
       "    <tr>\n",
       "      <th>1</th>\n",
       "      <td>jjatcgfcs»</td>\n",
       "      <td>1</td>\n",
       "      <td>10</td>\n",
       "      <td>1</td>\n",
       "      <td>8</td>\n",
       "      <td>9</td>\n",
       "      <td>1</td>\n",
       "      <td>9</td>\n",
       "      <td>0</td>\n",
       "      <td>9</td>\n",
       "      <td>...</td>\n",
       "      <td>0.900000</td>\n",
       "      <td>0.000000</td>\n",
       "      <td>0.0</td>\n",
       "      <td>0.125000</td>\n",
       "      <td>8.000000</td>\n",
       "      <td>2</td>\n",
       "      <td>2</td>\n",
       "      <td>6</td>\n",
       "      <td>1</td>\n",
       "      <td>1</td>\n",
       "    </tr>\n",
       "    <tr>\n",
       "      <th>2</th>\n",
       "      <td>Afsifitmbtn/müt</td>\n",
       "      <td>1</td>\n",
       "      <td>15</td>\n",
       "      <td>4</td>\n",
       "      <td>10</td>\n",
       "      <td>14</td>\n",
       "      <td>1</td>\n",
       "      <td>15</td>\n",
       "      <td>0</td>\n",
       "      <td>13</td>\n",
       "      <td>...</td>\n",
       "      <td>0.933333</td>\n",
       "      <td>0.066667</td>\n",
       "      <td>0.0</td>\n",
       "      <td>0.400000</td>\n",
       "      <td>2.500000</td>\n",
       "      <td>1</td>\n",
       "      <td>1</td>\n",
       "      <td>5</td>\n",
       "      <td>1</td>\n",
       "      <td>1</td>\n",
       "    </tr>\n",
       "    <tr>\n",
       "      <th>3</th>\n",
       "      <td>j-acr</td>\n",
       "      <td>1</td>\n",
       "      <td>5</td>\n",
       "      <td>1</td>\n",
       "      <td>3</td>\n",
       "      <td>4</td>\n",
       "      <td>1</td>\n",
       "      <td>5</td>\n",
       "      <td>0</td>\n",
       "      <td>4</td>\n",
       "      <td>...</td>\n",
       "      <td>0.800000</td>\n",
       "      <td>0.000000</td>\n",
       "      <td>0.0</td>\n",
       "      <td>0.333333</td>\n",
       "      <td>3.000000</td>\n",
       "      <td>1</td>\n",
       "      <td>1</td>\n",
       "      <td>2</td>\n",
       "      <td>1</td>\n",
       "      <td>1</td>\n",
       "    </tr>\n",
       "    <tr>\n",
       "      <th>4</th>\n",
       "      <td>55?oebet</td>\n",
       "      <td>1</td>\n",
       "      <td>8</td>\n",
       "      <td>3</td>\n",
       "      <td>2</td>\n",
       "      <td>5</td>\n",
       "      <td>1</td>\n",
       "      <td>5</td>\n",
       "      <td>0</td>\n",
       "      <td>5</td>\n",
       "      <td>...</td>\n",
       "      <td>0.625000</td>\n",
       "      <td>0.000000</td>\n",
       "      <td>0.0</td>\n",
       "      <td>1.500000</td>\n",
       "      <td>0.666667</td>\n",
       "      <td>2</td>\n",
       "      <td>2</td>\n",
       "      <td>1</td>\n",
       "      <td>2</td>\n",
       "      <td>1</td>\n",
       "    </tr>\n",
       "  </tbody>\n",
       "</table>\n",
       "<p>5 rows × 32 columns</p>\n",
       "</div>"
      ],
      "text/plain": [
       "              word  garbage_score  word_length  vowels  consonants  \\\n",
       "0        fttïsietm              1            9       3           6   \n",
       "1       jjatcgfcs»              1           10       1           8   \n",
       "2  Afsifitmbtn/müt              1           15       4          10   \n",
       "3            j-acr              1            5       1           3   \n",
       "4         55?oebet              1            8       3           2   \n",
       "\n",
       "   vowelandconsonant  punctuation  dutch_char  upper  lower  ...  \\\n",
       "0                  9            0           9      0      9  ...   \n",
       "1                  9            1           9      0      9  ...   \n",
       "2                 14            1          15      0     13  ...   \n",
       "3                  4            1           5      0      4  ...   \n",
       "4                  5            1           5      0      5  ...   \n",
       "\n",
       "   word_alpha_ratio  word_accents_ratio  word_other_characters_ratio  \\\n",
       "0          1.000000            0.111111                          0.0   \n",
       "1          0.900000            0.000000                          0.0   \n",
       "2          0.933333            0.066667                          0.0   \n",
       "3          0.800000            0.000000                          0.0   \n",
       "4          0.625000            0.000000                          0.0   \n",
       "\n",
       "   word_vowels_consonant_ratio  word_consonant_vowels_ratio  \\\n",
       "0                     0.500000                     2.000000   \n",
       "1                     0.125000                     8.000000   \n",
       "2                     0.400000                     2.500000   \n",
       "3                     0.333333                     3.000000   \n",
       "4                     1.500000                     0.666667   \n",
       "\n",
       "   max_count_same_char  max_count_strip_same_char  max_consecutive_consonants  \\\n",
       "0                    2                          2                           3   \n",
       "1                    2                          2                           6   \n",
       "2                    1                          1                           5   \n",
       "3                    1                          1                           2   \n",
       "4                    2                          2                           1   \n",
       "\n",
       "   max_consecutive_vowels  0  \n",
       "0                       2  1  \n",
       "1                       1  1  \n",
       "2                       1  1  \n",
       "3                       1  1  \n",
       "4                       2  1  \n",
       "\n",
       "[5 rows x 32 columns]"
      ]
     },
     "execution_count": 68,
     "metadata": {},
     "output_type": "execute_result"
    }
   ],
   "source": [
    "df_tot.head()"
   ]
  },
  {
   "cell_type": "code",
   "execution_count": 57,
   "id": "06589116",
   "metadata": {},
   "outputs": [
    {
     "data": {
      "text/plain": [
       "81277"
      ]
     },
     "execution_count": 57,
     "metadata": {},
     "output_type": "execute_result"
    }
   ],
   "source": [
    "len(df_tot)"
   ]
  },
  {
   "cell_type": "code",
   "execution_count": 69,
   "id": "0836bd2d",
   "metadata": {},
   "outputs": [],
   "source": [
    "df_tot = df_tot[['word', 'garbage_score', 0]]"
   ]
  },
  {
   "cell_type": "code",
   "execution_count": 71,
   "id": "50b46acf",
   "metadata": {},
   "outputs": [
    {
     "data": {
      "text/html": [
       "<div>\n",
       "<style scoped>\n",
       "    .dataframe tbody tr th:only-of-type {\n",
       "        vertical-align: middle;\n",
       "    }\n",
       "\n",
       "    .dataframe tbody tr th {\n",
       "        vertical-align: top;\n",
       "    }\n",
       "\n",
       "    .dataframe thead th {\n",
       "        text-align: right;\n",
       "    }\n",
       "</style>\n",
       "<table border=\"1\" class=\"dataframe\">\n",
       "  <thead>\n",
       "    <tr style=\"text-align: right;\">\n",
       "      <th></th>\n",
       "      <th>word</th>\n",
       "      <th>garbage_score</th>\n",
       "      <th>0</th>\n",
       "    </tr>\n",
       "  </thead>\n",
       "  <tbody>\n",
       "    <tr>\n",
       "      <th>37402</th>\n",
       "      <td>Arthor</td>\n",
       "      <td>0</td>\n",
       "      <td>1</td>\n",
       "    </tr>\n",
       "    <tr>\n",
       "      <th>37403</th>\n",
       "      <td>Borftweering</td>\n",
       "      <td>0</td>\n",
       "      <td>1</td>\n",
       "    </tr>\n",
       "    <tr>\n",
       "      <th>37404</th>\n",
       "      <td>vergaderen»</td>\n",
       "      <td>0</td>\n",
       "      <td>0</td>\n",
       "    </tr>\n",
       "    <tr>\n",
       "      <th>37405</th>\n",
       "      <td>Bucherach</td>\n",
       "      <td>0</td>\n",
       "      <td>0</td>\n",
       "    </tr>\n",
       "    <tr>\n",
       "      <th>37406</th>\n",
       "      <td>zijn'er</td>\n",
       "      <td>0</td>\n",
       "      <td>1</td>\n",
       "    </tr>\n",
       "    <tr>\n",
       "      <th>37407</th>\n",
       "      <td>verfteeken</td>\n",
       "      <td>0</td>\n",
       "      <td>1</td>\n",
       "    </tr>\n",
       "    <tr>\n",
       "      <th>37408</th>\n",
       "      <td>Wter-Onder-Stist</td>\n",
       "      <td>0</td>\n",
       "      <td>0</td>\n",
       "    </tr>\n",
       "    <tr>\n",
       "      <th>37409</th>\n",
       "      <td>erinneren</td>\n",
       "      <td>0</td>\n",
       "      <td>0</td>\n",
       "    </tr>\n",
       "    <tr>\n",
       "      <th>37410</th>\n",
       "      <td>-Cavaliers</td>\n",
       "      <td>0</td>\n",
       "      <td>0</td>\n",
       "    </tr>\n",
       "    <tr>\n",
       "      <th>37411</th>\n",
       "      <td>Tartaoen</td>\n",
       "      <td>0</td>\n",
       "      <td>0</td>\n",
       "    </tr>\n",
       "    <tr>\n",
       "      <th>37412</th>\n",
       "      <td>Gornich.em</td>\n",
       "      <td>0</td>\n",
       "      <td>0</td>\n",
       "    </tr>\n",
       "    <tr>\n",
       "      <th>37413</th>\n",
       "      <td>Genoa</td>\n",
       "      <td>0</td>\n",
       "      <td>0</td>\n",
       "    </tr>\n",
       "    <tr>\n",
       "      <th>37414</th>\n",
       "      <td>Lcg-dagen</td>\n",
       "      <td>0</td>\n",
       "      <td>0</td>\n",
       "    </tr>\n",
       "    <tr>\n",
       "      <th>37415</th>\n",
       "      <td>Fondameutele</td>\n",
       "      <td>0</td>\n",
       "      <td>0</td>\n",
       "    </tr>\n",
       "    <tr>\n",
       "      <th>37416</th>\n",
       "      <td>Palemy</td>\n",
       "      <td>0</td>\n",
       "      <td>0</td>\n",
       "    </tr>\n",
       "    <tr>\n",
       "      <th>37417</th>\n",
       "      <td>voeghden</td>\n",
       "      <td>0</td>\n",
       "      <td>0</td>\n",
       "    </tr>\n",
       "    <tr>\n",
       "      <th>37418</th>\n",
       "      <td>Ph'lipsburg</td>\n",
       "      <td>0</td>\n",
       "      <td>0</td>\n",
       "    </tr>\n",
       "    <tr>\n",
       "      <th>37419</th>\n",
       "      <td>Geheymén</td>\n",
       "      <td>0</td>\n",
       "      <td>0</td>\n",
       "    </tr>\n",
       "    <tr>\n",
       "      <th>37420</th>\n",
       "      <td>ghebruyeken</td>\n",
       "      <td>0</td>\n",
       "      <td>0</td>\n",
       "    </tr>\n",
       "    <tr>\n",
       "      <th>37421</th>\n",
       "      <td>formecren</td>\n",
       "      <td>0</td>\n",
       "      <td>0</td>\n",
       "    </tr>\n",
       "    <tr>\n",
       "      <th>37422</th>\n",
       "      <td>getracteert</td>\n",
       "      <td>0</td>\n",
       "      <td>1</td>\n",
       "    </tr>\n",
       "    <tr>\n",
       "      <th>37423</th>\n",
       "      <td>uyimaeckende</td>\n",
       "      <td>0</td>\n",
       "      <td>0</td>\n",
       "    </tr>\n",
       "    <tr>\n",
       "      <th>37424</th>\n",
       "      <td>Conicgseck</td>\n",
       "      <td>0</td>\n",
       "      <td>0</td>\n",
       "    </tr>\n",
       "    <tr>\n",
       "      <th>37425</th>\n",
       "      <td>Ketting-Wachten</td>\n",
       "      <td>0</td>\n",
       "      <td>1</td>\n",
       "    </tr>\n",
       "    <tr>\n",
       "      <th>37426</th>\n",
       "      <td>rethtvaerdigh</td>\n",
       "      <td>0</td>\n",
       "      <td>1</td>\n",
       "    </tr>\n",
       "    <tr>\n",
       "      <th>37427</th>\n",
       "      <td>gehouden,</td>\n",
       "      <td>0</td>\n",
       "      <td>0</td>\n",
       "    </tr>\n",
       "    <tr>\n",
       "      <th>37428</th>\n",
       "      <td>Warldein</td>\n",
       "      <td>0</td>\n",
       "      <td>0</td>\n",
       "    </tr>\n",
       "    <tr>\n",
       "      <th>37429</th>\n",
       "      <td>itockwel</td>\n",
       "      <td>0</td>\n",
       "      <td>0</td>\n",
       "    </tr>\n",
       "    <tr>\n",
       "      <th>37430</th>\n",
       "      <td>gcbacken</td>\n",
       "      <td>0</td>\n",
       "      <td>0</td>\n",
       "    </tr>\n",
       "    <tr>\n",
       "      <th>37431</th>\n",
       "      <td>opghehanghen</td>\n",
       "      <td>0</td>\n",
       "      <td>0</td>\n",
       "    </tr>\n",
       "    <tr>\n",
       "      <th>37432</th>\n",
       "      <td>Tijdt</td>\n",
       "      <td>0</td>\n",
       "      <td>1</td>\n",
       "    </tr>\n",
       "    <tr>\n",
       "      <th>37433</th>\n",
       "      <td>Spierdijik</td>\n",
       "      <td>0</td>\n",
       "      <td>0</td>\n",
       "    </tr>\n",
       "    <tr>\n",
       "      <th>37434</th>\n",
       "      <td>Lizy</td>\n",
       "      <td>0</td>\n",
       "      <td>0</td>\n",
       "    </tr>\n",
       "    <tr>\n",
       "      <th>37435</th>\n",
       "      <td>eenzydig</td>\n",
       "      <td>0</td>\n",
       "      <td>0</td>\n",
       "    </tr>\n",
       "    <tr>\n",
       "      <th>37436</th>\n",
       "      <td>Karvatfchiz</td>\n",
       "      <td>0</td>\n",
       "      <td>0</td>\n",
       "    </tr>\n",
       "    <tr>\n",
       "      <th>37437</th>\n",
       "      <td>gebombardeert</td>\n",
       "      <td>0</td>\n",
       "      <td>1</td>\n",
       "    </tr>\n",
       "    <tr>\n",
       "      <th>37438</th>\n",
       "      <td>Musgrave</td>\n",
       "      <td>0</td>\n",
       "      <td>0</td>\n",
       "    </tr>\n",
       "    <tr>\n",
       "      <th>37439</th>\n",
       "      <td>Geld</td>\n",
       "      <td>0</td>\n",
       "      <td>0</td>\n",
       "    </tr>\n",
       "    <tr>\n",
       "      <th>37440</th>\n",
       "      <td>Poos</td>\n",
       "      <td>0</td>\n",
       "      <td>1</td>\n",
       "    </tr>\n",
       "    <tr>\n",
       "      <th>37441</th>\n",
       "      <td>Harccurt</td>\n",
       "      <td>0</td>\n",
       "      <td>1</td>\n",
       "    </tr>\n",
       "  </tbody>\n",
       "</table>\n",
       "</div>"
      ],
      "text/plain": [
       "                   word  garbage_score  0\n",
       "37402            Arthor              0  1\n",
       "37403      Borftweering              0  1\n",
       "37404       vergaderen»              0  0\n",
       "37405         Bucherach              0  0\n",
       "37406           zijn'er              0  1\n",
       "37407        verfteeken              0  1\n",
       "37408  Wter-Onder-Stist              0  0\n",
       "37409         erinneren              0  0\n",
       "37410        -Cavaliers              0  0\n",
       "37411          Tartaoen              0  0\n",
       "37412        Gornich.em              0  0\n",
       "37413             Genoa              0  0\n",
       "37414         Lcg-dagen              0  0\n",
       "37415      Fondameutele              0  0\n",
       "37416            Palemy              0  0\n",
       "37417          voeghden              0  0\n",
       "37418       Ph'lipsburg              0  0\n",
       "37419          Geheymén              0  0\n",
       "37420       ghebruyeken              0  0\n",
       "37421         formecren              0  0\n",
       "37422       getracteert              0  1\n",
       "37423      uyimaeckende              0  0\n",
       "37424        Conicgseck              0  0\n",
       "37425   Ketting-Wachten              0  1\n",
       "37426     rethtvaerdigh              0  1\n",
       "37427         gehouden,              0  0\n",
       "37428          Warldein              0  0\n",
       "37429          itockwel              0  0\n",
       "37430          gcbacken              0  0\n",
       "37431      opghehanghen              0  0\n",
       "37432             Tijdt              0  1\n",
       "37433        Spierdijik              0  0\n",
       "37434              Lizy              0  0\n",
       "37435          eenzydig              0  0\n",
       "37436       Karvatfchiz              0  0\n",
       "37437     gebombardeert              0  1\n",
       "37438          Musgrave              0  0\n",
       "37439              Geld              0  0\n",
       "37440              Poos              0  1\n",
       "37441          Harccurt              0  1"
      ]
     },
     "execution_count": 71,
     "metadata": {},
     "output_type": "execute_result"
    }
   ],
   "source": [
    "df_tot[df_tot['garbage_score'] == 0].head(40)"
   ]
  },
  {
   "cell_type": "code",
   "execution_count": 72,
   "id": "a713a4be",
   "metadata": {},
   "outputs": [],
   "source": [
    "actual_C = df_tot['garbage_score'].to_numpy() "
   ]
  },
  {
   "cell_type": "code",
   "execution_count": 73,
   "id": "a606c2a9",
   "metadata": {},
   "outputs": [],
   "source": [
    "predicted_C = df_tot[0].to_numpy() "
   ]
  },
  {
   "cell_type": "code",
   "execution_count": 75,
   "id": "bd9f3cd6",
   "metadata": {},
   "outputs": [
    {
     "name": "stdout",
     "output_type": "stream",
     "text": [
      "Accuracy: 0.816\n",
      "Precision: 0.739\n",
      "Recall: 0.929\n",
      "F1 Score: 0.823\n"
     ]
    }
   ],
   "source": [
    "from sklearn.metrics import precision_score, recall_score, f1_score, accuracy_score\n",
    "print('Accuracy: %.3f' % accuracy_score(actual_C, predicted_C))\n",
    "print('Precision: %.3f' % precision_score(actual_C, predicted_C))\n",
    "print('Recall: %.3f' % recall_score(actual_C, predicted_C))\n",
    "print('F1 Score: %.3f' % f1_score(actual_C, predicted_C))"
   ]
  },
  {
   "cell_type": "code",
   "execution_count": 110,
   "id": "9d884364",
   "metadata": {},
   "outputs": [],
   "source": [
    "garbage_score = []\n",
    "for index, row in real_data.iterrows():\n",
    "    identifier = row['identifier'] \n",
    "    ocr = row['ocr text']\n",
    "    ocr = ocr.split(\" \")\n",
    "    word_lst = []\n",
    "    for word in ocr:\n",
    "        #print(word)\n",
    "        word = strip_word(word)\n",
    "        if word:\n",
    "            if len(word) > 1:\n",
    "                word_lst.append(strip_word(word))\n",
    "    feature_scores_df = adding_features_final.Main(word_lst, vowels_list, consonants_list, dutch_char_list, punctuation_list,accents_list)\n",
    "    X_test=feature_scores_df[features]\n",
    "    X_test = scaler.fit_transform(X_test)\n",
    "    predictions = garbage_model_svm.predict(X_test)\n",
    "    garbage_words = predictions.sum()\n",
    "    total_words = len(predictions)\n",
    "    garbage_total = (garbage_words / total_words)\n",
    "    garbage_score.append([identifier, garbage_total])"
   ]
  },
  {
   "cell_type": "code",
   "execution_count": 109,
   "id": "d0ca5193",
   "metadata": {},
   "outputs": [
    {
     "data": {
      "text/plain": [
       "532"
      ]
     },
     "execution_count": 109,
     "metadata": {},
     "output_type": "execute_result"
    }
   ],
   "source": [
    "predictions.sum()"
   ]
  },
  {
   "cell_type": "code",
   "execution_count": 111,
   "id": "62ce5779",
   "metadata": {},
   "outputs": [],
   "source": [
    "garbage_df = pd.DataFrame(garbage_score, columns = ['identifier', 'garbage score'])"
   ]
  },
  {
   "cell_type": "code",
   "execution_count": 112,
   "id": "d18e5317",
   "metadata": {},
   "outputs": [],
   "source": [
    "total_svm = real_data.merge(garbage_df, on = 'identifier', how = 'inner')"
   ]
  },
  {
   "cell_type": "code",
   "execution_count": 113,
   "id": "ac266990",
   "metadata": {},
   "outputs": [],
   "source": [
    "total_svm = total_svm[total_svm['WER (order independent)'] <150]"
   ]
  },
  {
   "cell_type": "code",
   "execution_count": 114,
   "id": "19af90de",
   "metadata": {},
   "outputs": [
    {
     "data": {
      "image/png": "[encoded data removed]",
      "text/plain": [
       "<Figure size 432x288 with 1 Axes>"
      ]
     },
     "metadata": {
      "needs_background": "light"
     },
     "output_type": "display_data"
    }
   ],
   "source": [
    "## Check if there is a correlation between the dictionary lookup and the word error rate\n",
    "# Draw a scatter plot\n",
    "import matplotlib.pyplot as plt\n",
    "import numpy as np\n",
    "\n",
    "#plt.scatter(x = 'WER_reocr', y = 'word_level_average_confidence_reocr', data = data);\n",
    "#plt.scatter(x = 'WER_reocr', y = 'jaccard_coefficient_reocr', data = data);\n",
    "plt.scatter(x = 'WER (order independent)', y = 'garbage score', data = total_svm);\n",
    "#plt.scatter(x = 'WER_reocr', y = 'levenshtein_dist_normalized_reocr_invert', data = data);\n",
    "\n",
    "plt.show()"
   ]
  },
  {
   "cell_type": "code",
   "execution_count": 118,
   "id": "27176d38",
   "metadata": {},
   "outputs": [
    {
     "name": "stdout",
     "output_type": "stream",
     "text": [
      "PearsonRResult(statistic=0.6817278428048397, pvalue=0.0)\n",
      "r2: 0.4647528516553402\n",
      "ConfidenceInterval(low=0.666926376310239, high=0.695991507163995)\n"
     ]
    }
   ],
   "source": [
    "res = stats.pearsonr(total_svm['WER (order independent)'],total_svm['garbage score'])\n",
    "print(res)\n",
    "print(\"r2: \" + str(res[0]*res[0]))\n",
    "print(res.confidence_interval())"
   ]
  },
  {
   "cell_type": "code",
   "execution_count": 126,
   "id": "420dbc76",
   "metadata": {},
   "outputs": [],
   "source": [
    "garbage_score = []\n",
    "for index, row in real_data.iterrows():\n",
    "    identifier = row['identifier'] \n",
    "    ocr = row['ocr text']\n",
    "    ocr = ocr.split(\" \")\n",
    "    word_lst = []\n",
    "    for word in ocr:\n",
    "        #print(word)\n",
    "        word = strip_word(word)\n",
    "        if word:\n",
    "            if len(word) > 1:\n",
    "                word_lst.append(strip_word(word))\n",
    "    feature_scores_df = adding_features_final.Main(word_lst, vowels_list, consonants_list, dutch_char_list, punctuation_list,accents_list)\n",
    "    X_test=feature_scores_df[features]\n",
    "    X_test = scaler.fit_transform(X_test)\n",
    "    predictions = garbage_model_svm_fs.predict(X_test)\n",
    "    garbage_words = predictions.sum()\n",
    "    total_words = len(predictions)\n",
    "    garbage_total = (garbage_words / total_words)\n",
    "    garbage_score.append([identifier, garbage_total])\n",
    "    break"
   ]
  },
  {
   "cell_type": "code",
   "execution_count": 127,
   "id": "54354caa",
   "metadata": {},
   "outputs": [
    {
     "data": {
      "text/plain": [
       "array([1, 0, 0, ..., 1, 1, 1], dtype=int64)"
      ]
     },
     "execution_count": 127,
     "metadata": {},
     "output_type": "execute_result"
    }
   ],
   "source": [
    "predictions"
   ]
  },
  {
   "cell_type": "code",
   "execution_count": 121,
   "id": "55090e9a",
   "metadata": {},
   "outputs": [],
   "source": [
    "garbage_df = pd.DataFrame(garbage_score, columns = ['identifier', 'garbage score'])"
   ]
  },
  {
   "cell_type": "code",
   "execution_count": 122,
   "id": "d1e2436f",
   "metadata": {},
   "outputs": [],
   "source": [
    "total_svm = real_data.merge(garbage_df, on = 'identifier', how = 'inner')"
   ]
  },
  {
   "cell_type": "code",
   "execution_count": 123,
   "id": "a6fd683e",
   "metadata": {},
   "outputs": [],
   "source": [
    "total_svm = total_svm[total_svm['WER (order independent)'] <150]"
   ]
  },
  {
   "cell_type": "code",
   "execution_count": 124,
   "id": "1f90fc47",
   "metadata": {},
   "outputs": [
    {
     "data": {
      "image/png": "[encoded data removed]",
      "text/plain": [
       "<Figure size 432x288 with 1 Axes>"
      ]
     },
     "metadata": {
      "needs_background": "light"
     },
     "output_type": "display_data"
    }
   ],
   "source": [
    "## Check if there is a correlation between the dictionary lookup and the word error rate\n",
    "# Draw a scatter plot\n",
    "import matplotlib.pyplot as plt\n",
    "import numpy as np\n",
    "\n",
    "#plt.scatter(x = 'WER_reocr', y = 'word_level_average_confidence_reocr', data = data);\n",
    "#plt.scatter(x = 'WER_reocr', y = 'jaccard_coefficient_reocr', data = data);\n",
    "plt.scatter(x = 'WER (order independent)', y = 'garbage score', data = total_svm);\n",
    "#plt.scatter(x = 'WER_reocr', y = 'levenshtein_dist_normalized_reocr_invert', data = data);\n",
    "\n",
    "plt.show()"
   ]
  },
  {
   "cell_type": "code",
   "execution_count": 125,
   "id": "83cfd8c0",
   "metadata": {},
   "outputs": [
    {
     "name": "stdout",
     "output_type": "stream",
     "text": [
      "PearsonRResult(statistic=0.6817278428048397, pvalue=0.0)\n",
      "r2: 0.4647528516553402\n",
      "ConfidenceInterval(low=0.666926376310239, high=0.695991507163995)\n"
     ]
    }
   ],
   "source": [
    "res = stats.pearsonr(total_svm['WER (order independent)'],total_svm['garbage score'])\n",
    "print(res)\n",
    "print(\"r2: \" + str(res[0]*res[0]))\n",
    "print(res.confidence_interval())"
   ]
  },
  {
   "cell_type": "code",
   "execution_count": 130,
   "id": "8a2969cf",
   "metadata": {},
   "outputs": [],
   "source": [
    "garbage_score = []\n",
    "for index, row in real_data.iterrows():\n",
    "    identifier = row['identifier'] \n",
    "    ocr = row['ocr text']\n",
    "    ocr = ocr.split(\" \")\n",
    "    word_lst = []\n",
    "    for word in ocr:\n",
    "        #print(word)\n",
    "        word = strip_word(word)\n",
    "        if word:\n",
    "            if len(word) > 1:\n",
    "                word_lst.append(strip_word(word))\n",
    "    feature_scores_df = adding_features_final.Main(word_lst, vowels_list, consonants_list, dutch_char_list, punctuation_list,accents_list)\n",
    "    X_test=feature_scores_df[features]\n",
    "    X_test = scaler.fit_transform(X_test)\n",
    "    predictions = garbage_model_rf_fs.predict(X_test)\n",
    "    garbage_words = predictions.sum()\n",
    "    total_words = len(predictions)\n",
    "    garbage_total = (garbage_words / total_words)\n",
    "    garbage_score.append([identifier, garbage_total])\n",
    "    break"
   ]
  },
  {
   "cell_type": "code",
   "execution_count": 131,
   "id": "293bffe4",
   "metadata": {},
   "outputs": [
    {
     "data": {
      "text/plain": [
       "array([0, 1, 1, ..., 1, 1, 1], dtype=int64)"
      ]
     },
     "execution_count": 131,
     "metadata": {},
     "output_type": "execute_result"
    }
   ],
   "source": [
    "predictions"
   ]
  },
  {
   "cell_type": "code",
   "execution_count": null,
   "id": "f9f66388",
   "metadata": {},
   "outputs": [],
   "source": []
  },
  {
   "cell_type": "code",
   "execution_count": 13,
   "id": "f2c11645",
   "metadata": {},
   "outputs": [],
   "source": [
    "import joblib\n",
    "scaler_filename = \"scaler.save\"\n",
    "scaler = joblib.load(scaler_filename) "
   ]
  },
  {
   "cell_type": "code",
   "execution_count": 14,
   "id": "6a5db371",
   "metadata": {},
   "outputs": [],
   "source": [
    "garbage_score = []\n",
    "for index, row in real_data.iterrows():\n",
    "    identifier = row['identifier'] \n",
    "    ocr = row['ocr text']\n",
    "    ocr = ocr.split(\" \")\n",
    "    word_lst = []\n",
    "    for word in ocr:\n",
    "        #print(word)\n",
    "        word = strip_word(word)\n",
    "        if word:\n",
    "            \n",
    "            word_lst.append(strip_word(word))\n",
    "    feature_scores_df = adding_features_final.Main(word_lst, vowels_list, consonants_list, dutch_char_list, punctuation_list,accents_list)\n",
    "    X_test=feature_scores_df[features]\n",
    "    X_test = scaler.transform(X_test)\n",
    "    predictions = garbage_model.predict(X_test)\n",
    "    garbage_words = predictions.sum()\n",
    "    total_words = len(predictions)\n",
    "    garbage_total = (garbage_words / total_words)\n",
    "    garbage_score.append([identifier, garbage_total])\n",
    "    "
   ]
  },
  {
   "cell_type": "code",
   "execution_count": 15,
   "id": "39f7c621",
   "metadata": {},
   "outputs": [],
   "source": [
    "garbage_df = pd.DataFrame(garbage_score, columns = ['identifier', 'garbage score'])"
   ]
  },
  {
   "cell_type": "code",
   "execution_count": 16,
   "id": "590d3302",
   "metadata": {},
   "outputs": [],
   "source": [
    "total = real_data.merge(garbage_df, on = 'identifier', how = 'inner')"
   ]
  },
  {
   "cell_type": "code",
   "execution_count": 17,
   "id": "1ec0a053",
   "metadata": {},
   "outputs": [],
   "source": [
    "total = total[total['WER (order independent)'] <150]"
   ]
  },
  {
   "cell_type": "code",
   "execution_count": 18,
   "id": "a2146fe9",
   "metadata": {},
   "outputs": [
    {
     "data": {
      "image/png": "[encoded data removed]",
      "text/plain": [
       "<Figure size 432x288 with 1 Axes>"
      ]
     },
     "metadata": {
      "needs_background": "light"
     },
     "output_type": "display_data"
    }
   ],
   "source": [
    "## Check if there is a correlation between the dictionary lookup and the word error rate\n",
    "# Draw a scatter plot\n",
    "import matplotlib.pyplot as plt\n",
    "import numpy as np\n",
    "\n",
    "#plt.scatter(x = 'WER_reocr', y = 'word_level_average_confidence_reocr', data = data);\n",
    "#plt.scatter(x = 'WER_reocr', y = 'jaccard_coefficient_reocr', data = data);\n",
    "plt.scatter(x = 'WER (order independent)', y = 'garbage score', data = total);\n",
    "#plt.scatter(x = 'WER_reocr', y = 'levenshtein_dist_normalized_reocr_invert', data = data);\n",
    "\n",
    "plt.show()"
   ]
  },
  {
   "cell_type": "code",
   "execution_count": 19,
   "id": "d4b4847c",
   "metadata": {},
   "outputs": [
    {
     "name": "stdout",
     "output_type": "stream",
     "text": [
      "PearsonRResult(statistic=0.8858115821809066, pvalue=0.0)\n",
      "r2: 0.784662159125841\n",
      "ConfidenceInterval(low=0.8798229356602837, high=0.8915190248693922)\n"
     ]
    }
   ],
   "source": [
    "from scipy import stats\n",
    "res = stats.pearsonr(total['WER (order independent)'],total['garbage score'])\n",
    "print(res)\n",
    "print(\"r2: \" + str(res[0]*res[0]))\n",
    "print(res.confidence_interval())"
   ]
  },
  {
   "cell_type": "code",
   "execution_count": null,
   "id": "9449b4aa",
   "metadata": {},
   "outputs": [],
   "source": []
  },
  {
   "cell_type": "code",
   "execution_count": 166,
   "id": "13e8091e",
   "metadata": {},
   "outputs": [],
   "source": [
    "garbage_score = []\n",
    "for index, row in real_data.iterrows():\n",
    "    identifier = row['identifier'] \n",
    "    ocr = row['ocr text']\n",
    "    ocr = ocr.split(\" \")\n",
    "    word_lst = []\n",
    "    for word in ocr:\n",
    "        #print(word)\n",
    "        word = strip_word(word)\n",
    "        if word:\n",
    "            \n",
    "            word_lst.append(strip_word(word))\n",
    "    feature_scores_df = adding_features_final.Main(word_lst, vowels_list, consonants_list, dutch_char_list, punctuation_list,accents_list)\n",
    "    X_test=feature_scores_df[features]\n",
    "    X_test = scaler.transform(X_test)\n",
    "    predictions = garbage_model.predict(X_test)\n",
    "    garbage_words = predictions.sum()\n",
    "    total_words = len(predictions)\n",
    "    garbage_total = (garbage_words / total_words)\n",
    "    garbage_score.append([identifier, garbage_total])\n",
    "    "
   ]
  },
  {
   "cell_type": "code",
   "execution_count": 168,
   "id": "69f6f840",
   "metadata": {},
   "outputs": [],
   "source": [
    "garbage_df = pd.DataFrame(garbage_score, columns = ['identifier', 'garbage score'])"
   ]
  },
  {
   "cell_type": "code",
   "execution_count": 169,
   "id": "0e1af9dd",
   "metadata": {},
   "outputs": [],
   "source": [
    "total = real_data.merge(garbage_df, on = 'identifier', how = 'inner')"
   ]
  },
  {
   "cell_type": "code",
   "execution_count": 170,
   "id": "d951d69d",
   "metadata": {},
   "outputs": [],
   "source": [
    "total = total[total['WER (order independent)'] <150]"
   ]
  },
  {
   "cell_type": "code",
   "execution_count": 171,
   "id": "2b9106b2",
   "metadata": {},
   "outputs": [
    {
     "data": {
      "image/png": "[encoded data removed]",
      "text/plain": [
       "<Figure size 432x288 with 1 Axes>"
      ]
     },
     "metadata": {
      "needs_background": "light"
     },
     "output_type": "display_data"
    }
   ],
   "source": [
    "## Check if there is a correlation between the dictionary lookup and the word error rate\n",
    "# Draw a scatter plot\n",
    "import matplotlib.pyplot as plt\n",
    "import numpy as np\n",
    "\n",
    "#plt.scatter(x = 'WER_reocr', y = 'word_level_average_confidence_reocr', data = data);\n",
    "#plt.scatter(x = 'WER_reocr', y = 'jaccard_coefficient_reocr', data = data);\n",
    "plt.scatter(x = 'WER (order independent)', y = 'garbage score', data = total);\n",
    "#plt.scatter(x = 'WER_reocr', y = 'levenshtein_dist_normalized_reocr_invert', data = data);\n",
    "\n",
    "plt.show()"
   ]
  },
  {
   "cell_type": "code",
   "execution_count": 172,
   "id": "39e3572c",
   "metadata": {},
   "outputs": [
    {
     "name": "stdout",
     "output_type": "stream",
     "text": [
      "PearsonRResult(statistic=0.8274531704199524, pvalue=0.0)\n",
      "r2: 0.6846787492380307\n",
      "ConfidenceInterval(low=0.8186981474800772, high=0.8358235801596667)\n"
     ]
    }
   ],
   "source": [
    "from scipy import stats\n",
    "res = stats.pearsonr(total['WER (order independent)'],total['garbage score'])\n",
    "print(res)\n",
    "print(\"r2: \" + str(res[0]*res[0]))\n",
    "print(res.confidence_interval())"
   ]
  },
  {
   "cell_type": "code",
   "execution_count": null,
   "id": "041a22cc",
   "metadata": {},
   "outputs": [],
   "source": []
  }
 ],
 "metadata": {
  "kernelspec": {
   "display_name": "Python 3 (ipykernel)",
   "language": "python",
   "name": "python3"
  },
  "language_info": {
   "codemirror_mode": {
    "name": "ipython",
    "version": 3
   },
   "file_extension": ".py",
   "mimetype": "text/x-python",
   "name": "python",
   "nbconvert_exporter": "python",
   "pygments_lexer": "ipython3",
   "version": "3.9.12"
  }
 },
 "nbformat": 4,
 "nbformat_minor": 5
}
