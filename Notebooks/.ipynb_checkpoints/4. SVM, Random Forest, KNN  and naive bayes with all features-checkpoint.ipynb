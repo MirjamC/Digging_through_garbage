{
 "cells": [
  {
   "cell_type": "code",
   "execution_count": 3,
   "id": "f5e6ba10",
   "metadata": {},
   "outputs": [],
   "source": [
    "import pandas as pd\n",
    "import sklearn\n",
    "import csv\n",
    "import matplotlib.pyplot as plt\n",
    "from sklearn import metrics\n",
    "import os\n",
    "import sys\n",
    "\n",
    "sys.path.append(os.path.abspath(\"/Functions/\"))\n",
    "\n",
    "import adding_features"
   ]
  },
  {
   "cell_type": "code",
   "execution_count": 4,
   "id": "99a5cd54",
   "metadata": {},
   "outputs": [],
   "source": [
    "path = 'Data/'"
   ]
  },
  {
   "cell_type": "code",
   "execution_count": 5,
   "id": "7b7a3759",
   "metadata": {},
   "outputs": [
    {
     "data": {
      "text/html": [
       "<div>\n",
       "<style scoped>\n",
       "    .dataframe tbody tr th:only-of-type {\n",
       "        vertical-align: middle;\n",
       "    }\n",
       "\n",
       "    .dataframe tbody tr th {\n",
       "        vertical-align: top;\n",
       "    }\n",
       "\n",
       "    .dataframe thead th {\n",
       "        text-align: right;\n",
       "    }\n",
       "</style>\n",
       "<table border=\"1\" class=\"dataframe\">\n",
       "  <thead>\n",
       "    <tr style=\"text-align: right;\">\n",
       "      <th></th>\n",
       "      <th>word</th>\n",
       "      <th>garbage_score</th>\n",
       "      <th>word_length</th>\n",
       "      <th>vowels</th>\n",
       "      <th>consonants</th>\n",
       "      <th>vowelandconsonant</th>\n",
       "      <th>punctuation</th>\n",
       "      <th>dutch_char</th>\n",
       "      <th>upper</th>\n",
       "      <th>lower</th>\n",
       "      <th>...</th>\n",
       "      <th>word_numbers_ratio</th>\n",
       "      <th>word_alpha_ratio</th>\n",
       "      <th>word_accents_ratio</th>\n",
       "      <th>word_other_characters_ratio</th>\n",
       "      <th>word_vowels_consonant_ratio</th>\n",
       "      <th>word_consonant_vowels_ratio</th>\n",
       "      <th>max_count_same_char</th>\n",
       "      <th>max_count_strip_same_char</th>\n",
       "      <th>max_consecutive_consonants</th>\n",
       "      <th>max_consecutive_vowels</th>\n",
       "    </tr>\n",
       "  </thead>\n",
       "  <tbody>\n",
       "    <tr>\n",
       "      <th>0</th>\n",
       "      <td>Ba)cile)'t</td>\n",
       "      <td>1</td>\n",
       "      <td>10</td>\n",
       "      <td>3</td>\n",
       "      <td>4</td>\n",
       "      <td>7</td>\n",
       "      <td>3</td>\n",
       "      <td>8</td>\n",
       "      <td>0</td>\n",
       "      <td>6</td>\n",
       "      <td>...</td>\n",
       "      <td>0.0</td>\n",
       "      <td>0.7</td>\n",
       "      <td>0.000000</td>\n",
       "      <td>0.0</td>\n",
       "      <td>0.75</td>\n",
       "      <td>1.333333</td>\n",
       "      <td>1</td>\n",
       "      <td>1</td>\n",
       "      <td>1</td>\n",
       "      <td>1</td>\n",
       "    </tr>\n",
       "    <tr>\n",
       "      <th>1</th>\n",
       "      <td>téycltènéoi</td>\n",
       "      <td>1</td>\n",
       "      <td>11</td>\n",
       "      <td>6</td>\n",
       "      <td>5</td>\n",
       "      <td>11</td>\n",
       "      <td>0</td>\n",
       "      <td>11</td>\n",
       "      <td>0</td>\n",
       "      <td>11</td>\n",
       "      <td>...</td>\n",
       "      <td>0.0</td>\n",
       "      <td>1.0</td>\n",
       "      <td>0.272727</td>\n",
       "      <td>0.0</td>\n",
       "      <td>1.20</td>\n",
       "      <td>0.833333</td>\n",
       "      <td>1</td>\n",
       "      <td>1</td>\n",
       "      <td>3</td>\n",
       "      <td>3</td>\n",
       "    </tr>\n",
       "  </tbody>\n",
       "</table>\n",
       "<p>2 rows × 31 columns</p>\n",
       "</div>"
      ],
      "text/plain": [
       "          word  garbage_score  word_length  vowels  consonants  \\\n",
       "0   Ba)cile)'t              1           10       3           4   \n",
       "1  téycltènéoi              1           11       6           5   \n",
       "\n",
       "   vowelandconsonant  punctuation  dutch_char  upper  lower  ...  \\\n",
       "0                  7            3           8      0      6  ...   \n",
       "1                 11            0          11      0     11  ...   \n",
       "\n",
       "   word_numbers_ratio  word_alpha_ratio  word_accents_ratio  \\\n",
       "0                 0.0               0.7            0.000000   \n",
       "1                 0.0               1.0            0.272727   \n",
       "\n",
       "   word_other_characters_ratio  word_vowels_consonant_ratio  \\\n",
       "0                          0.0                         0.75   \n",
       "1                          0.0                         1.20   \n",
       "\n",
       "   word_consonant_vowels_ratio  max_count_same_char  \\\n",
       "0                     1.333333                    1   \n",
       "1                     0.833333                    1   \n",
       "\n",
       "   max_count_strip_same_char  max_consecutive_consonants  \\\n",
       "0                          1                           1   \n",
       "1                          1                           3   \n",
       "\n",
       "   max_consecutive_vowels  \n",
       "0                       1  \n",
       "1                       3  \n",
       "\n",
       "[2 rows x 31 columns]"
      ]
     },
     "execution_count": 5,
     "metadata": {},
     "output_type": "execute_result"
    }
   ],
   "source": [
    "train = pd.read_csv(path + 'train_incl_feat.csv', index_col = 0, compression = 'gzip')\n",
    "train.head(2)"
   ]
  },
  {
   "cell_type": "code",
   "execution_count": 6,
   "id": "23044967",
   "metadata": {},
   "outputs": [
    {
     "data": {
      "text/html": [
       "<div>\n",
       "<style scoped>\n",
       "    .dataframe tbody tr th:only-of-type {\n",
       "        vertical-align: middle;\n",
       "    }\n",
       "\n",
       "    .dataframe tbody tr th {\n",
       "        vertical-align: top;\n",
       "    }\n",
       "\n",
       "    .dataframe thead th {\n",
       "        text-align: right;\n",
       "    }\n",
       "</style>\n",
       "<table border=\"1\" class=\"dataframe\">\n",
       "  <thead>\n",
       "    <tr style=\"text-align: right;\">\n",
       "      <th></th>\n",
       "      <th>word</th>\n",
       "      <th>word_length</th>\n",
       "      <th>vowels</th>\n",
       "      <th>consonants</th>\n",
       "      <th>vowelandconsonant</th>\n",
       "      <th>punctuation</th>\n",
       "      <th>dutch_char</th>\n",
       "      <th>upper</th>\n",
       "      <th>lower</th>\n",
       "      <th>numbers</th>\n",
       "      <th>...</th>\n",
       "      <th>word_numbers_ratio</th>\n",
       "      <th>word_alpha_ratio</th>\n",
       "      <th>word_accents_ratio</th>\n",
       "      <th>word_other_characters_ratio</th>\n",
       "      <th>word_vowels_consonant_ratio</th>\n",
       "      <th>word_consonant_vowels_ratio</th>\n",
       "      <th>max_count_same_char</th>\n",
       "      <th>max_count_strip_same_char</th>\n",
       "      <th>max_consecutive_consonants</th>\n",
       "      <th>max_consecutive_vowels</th>\n",
       "    </tr>\n",
       "    <tr>\n",
       "      <th>garbage_score</th>\n",
       "      <th></th>\n",
       "      <th></th>\n",
       "      <th></th>\n",
       "      <th></th>\n",
       "      <th></th>\n",
       "      <th></th>\n",
       "      <th></th>\n",
       "      <th></th>\n",
       "      <th></th>\n",
       "      <th></th>\n",
       "      <th></th>\n",
       "      <th></th>\n",
       "      <th></th>\n",
       "      <th></th>\n",
       "      <th></th>\n",
       "      <th></th>\n",
       "      <th></th>\n",
       "      <th></th>\n",
       "      <th></th>\n",
       "      <th></th>\n",
       "      <th></th>\n",
       "    </tr>\n",
       "  </thead>\n",
       "  <tbody>\n",
       "    <tr>\n",
       "      <th>0</th>\n",
       "      <td>174036</td>\n",
       "      <td>174036</td>\n",
       "      <td>174036</td>\n",
       "      <td>174036</td>\n",
       "      <td>174036</td>\n",
       "      <td>174036</td>\n",
       "      <td>174036</td>\n",
       "      <td>174036</td>\n",
       "      <td>174036</td>\n",
       "      <td>174036</td>\n",
       "      <td>...</td>\n",
       "      <td>174036</td>\n",
       "      <td>174036</td>\n",
       "      <td>174036</td>\n",
       "      <td>174036</td>\n",
       "      <td>174036</td>\n",
       "      <td>174036</td>\n",
       "      <td>174036</td>\n",
       "      <td>174036</td>\n",
       "      <td>174036</td>\n",
       "      <td>174036</td>\n",
       "    </tr>\n",
       "    <tr>\n",
       "      <th>1</th>\n",
       "      <td>148356</td>\n",
       "      <td>148357</td>\n",
       "      <td>148357</td>\n",
       "      <td>148357</td>\n",
       "      <td>148357</td>\n",
       "      <td>148357</td>\n",
       "      <td>148357</td>\n",
       "      <td>148357</td>\n",
       "      <td>148357</td>\n",
       "      <td>148357</td>\n",
       "      <td>...</td>\n",
       "      <td>148357</td>\n",
       "      <td>148357</td>\n",
       "      <td>148357</td>\n",
       "      <td>148357</td>\n",
       "      <td>148357</td>\n",
       "      <td>148357</td>\n",
       "      <td>148357</td>\n",
       "      <td>148357</td>\n",
       "      <td>148357</td>\n",
       "      <td>148357</td>\n",
       "    </tr>\n",
       "  </tbody>\n",
       "</table>\n",
       "<p>2 rows × 30 columns</p>\n",
       "</div>"
      ],
      "text/plain": [
       "                 word  word_length  vowels  consonants  vowelandconsonant  \\\n",
       "garbage_score                                                               \n",
       "0              174036       174036  174036      174036             174036   \n",
       "1              148356       148357  148357      148357             148357   \n",
       "\n",
       "               punctuation  dutch_char   upper   lower  numbers  ...  \\\n",
       "garbage_score                                                    ...   \n",
       "0                   174036      174036  174036  174036   174036  ...   \n",
       "1                   148357      148357  148357  148357   148357  ...   \n",
       "\n",
       "               word_numbers_ratio  word_alpha_ratio  word_accents_ratio  \\\n",
       "garbage_score                                                             \n",
       "0                          174036            174036              174036   \n",
       "1                          148357            148357              148357   \n",
       "\n",
       "               word_other_characters_ratio  word_vowels_consonant_ratio  \\\n",
       "garbage_score                                                             \n",
       "0                                   174036                       174036   \n",
       "1                                   148357                       148357   \n",
       "\n",
       "               word_consonant_vowels_ratio  max_count_same_char  \\\n",
       "garbage_score                                                     \n",
       "0                                   174036               174036   \n",
       "1                                   148357               148357   \n",
       "\n",
       "               max_count_strip_same_char  max_consecutive_consonants  \\\n",
       "garbage_score                                                          \n",
       "0                                 174036                      174036   \n",
       "1                                 148357                      148357   \n",
       "\n",
       "               max_consecutive_vowels  \n",
       "garbage_score                          \n",
       "0                              174036  \n",
       "1                              148357  \n",
       "\n",
       "[2 rows x 30 columns]"
      ]
     },
     "execution_count": 6,
     "metadata": {},
     "output_type": "execute_result"
    }
   ],
   "source": [
    "train.groupby('garbage_score').count()"
   ]
  },
  {
   "cell_type": "code",
   "execution_count": 7,
   "id": "f952898a",
   "metadata": {},
   "outputs": [
    {
     "data": {
      "text/html": [
       "<div>\n",
       "<style scoped>\n",
       "    .dataframe tbody tr th:only-of-type {\n",
       "        vertical-align: middle;\n",
       "    }\n",
       "\n",
       "    .dataframe tbody tr th {\n",
       "        vertical-align: top;\n",
       "    }\n",
       "\n",
       "    .dataframe thead th {\n",
       "        text-align: right;\n",
       "    }\n",
       "</style>\n",
       "<table border=\"1\" class=\"dataframe\">\n",
       "  <thead>\n",
       "    <tr style=\"text-align: right;\">\n",
       "      <th></th>\n",
       "      <th>word</th>\n",
       "      <th>garbage_score</th>\n",
       "      <th>word_length</th>\n",
       "      <th>vowels</th>\n",
       "      <th>consonants</th>\n",
       "      <th>vowelandconsonant</th>\n",
       "      <th>punctuation</th>\n",
       "      <th>dutch_char</th>\n",
       "      <th>upper</th>\n",
       "      <th>lower</th>\n",
       "      <th>...</th>\n",
       "      <th>word_numbers_ratio</th>\n",
       "      <th>word_alpha_ratio</th>\n",
       "      <th>word_accents_ratio</th>\n",
       "      <th>word_other_characters_ratio</th>\n",
       "      <th>word_vowels_consonant_ratio</th>\n",
       "      <th>word_consonant_vowels_ratio</th>\n",
       "      <th>max_count_same_char</th>\n",
       "      <th>max_count_strip_same_char</th>\n",
       "      <th>max_consecutive_consonants</th>\n",
       "      <th>max_consecutive_vowels</th>\n",
       "    </tr>\n",
       "  </thead>\n",
       "  <tbody>\n",
       "    <tr>\n",
       "      <th>0</th>\n",
       "      <td>Vcêlét:evangeaeß,.gtrtpeuflcert</td>\n",
       "      <td>1</td>\n",
       "      <td>31</td>\n",
       "      <td>10</td>\n",
       "      <td>17</td>\n",
       "      <td>27</td>\n",
       "      <td>3</td>\n",
       "      <td>27</td>\n",
       "      <td>0</td>\n",
       "      <td>27</td>\n",
       "      <td>...</td>\n",
       "      <td>0.0</td>\n",
       "      <td>0.903226</td>\n",
       "      <td>0.064516</td>\n",
       "      <td>0.0</td>\n",
       "      <td>0.588235</td>\n",
       "      <td>1.7</td>\n",
       "      <td>1</td>\n",
       "      <td>1</td>\n",
       "      <td>5</td>\n",
       "      <td>3</td>\n",
       "    </tr>\n",
       "    <tr>\n",
       "      <th>1</th>\n",
       "      <td>heeftalorrigëaffigeërt</td>\n",
       "      <td>1</td>\n",
       "      <td>22</td>\n",
       "      <td>10</td>\n",
       "      <td>12</td>\n",
       "      <td>22</td>\n",
       "      <td>0</td>\n",
       "      <td>22</td>\n",
       "      <td>0</td>\n",
       "      <td>22</td>\n",
       "      <td>...</td>\n",
       "      <td>0.0</td>\n",
       "      <td>1.000000</td>\n",
       "      <td>0.090909</td>\n",
       "      <td>0.0</td>\n",
       "      <td>0.833333</td>\n",
       "      <td>1.2</td>\n",
       "      <td>2</td>\n",
       "      <td>2</td>\n",
       "      <td>2</td>\n",
       "      <td>2</td>\n",
       "    </tr>\n",
       "  </tbody>\n",
       "</table>\n",
       "<p>2 rows × 31 columns</p>\n",
       "</div>"
      ],
      "text/plain": [
       "                              word  garbage_score  word_length  vowels  \\\n",
       "0  Vcêlét:evangeaeß,.gtrtpeuflcert              1           31      10   \n",
       "1           heeftalorrigëaffigeërt              1           22      10   \n",
       "\n",
       "   consonants  vowelandconsonant  punctuation  dutch_char  upper  lower  ...  \\\n",
       "0          17                 27            3          27      0     27  ...   \n",
       "1          12                 22            0          22      0     22  ...   \n",
       "\n",
       "   word_numbers_ratio  word_alpha_ratio  word_accents_ratio  \\\n",
       "0                 0.0          0.903226            0.064516   \n",
       "1                 0.0          1.000000            0.090909   \n",
       "\n",
       "   word_other_characters_ratio  word_vowels_consonant_ratio  \\\n",
       "0                          0.0                     0.588235   \n",
       "1                          0.0                     0.833333   \n",
       "\n",
       "   word_consonant_vowels_ratio  max_count_same_char  \\\n",
       "0                          1.7                    1   \n",
       "1                          1.2                    2   \n",
       "\n",
       "   max_count_strip_same_char  max_consecutive_consonants  \\\n",
       "0                          1                           5   \n",
       "1                          2                           2   \n",
       "\n",
       "   max_consecutive_vowels  \n",
       "0                       3  \n",
       "1                       2  \n",
       "\n",
       "[2 rows x 31 columns]"
      ]
     },
     "execution_count": 7,
     "metadata": {},
     "output_type": "execute_result"
    }
   ],
   "source": [
    "test = pd.read_csv(path + 'test_incl_features.csv', index_col = 0, compression = 'gzip')\n",
    "test.head(2)"
   ]
  },
  {
   "cell_type": "code",
   "execution_count": 8,
   "id": "5b70911c",
   "metadata": {},
   "outputs": [
    {
     "data": {
      "text/html": [
       "<div>\n",
       "<style scoped>\n",
       "    .dataframe tbody tr th:only-of-type {\n",
       "        vertical-align: middle;\n",
       "    }\n",
       "\n",
       "    .dataframe tbody tr th {\n",
       "        vertical-align: top;\n",
       "    }\n",
       "\n",
       "    .dataframe thead th {\n",
       "        text-align: right;\n",
       "    }\n",
       "</style>\n",
       "<table border=\"1\" class=\"dataframe\">\n",
       "  <thead>\n",
       "    <tr style=\"text-align: right;\">\n",
       "      <th></th>\n",
       "      <th>word</th>\n",
       "      <th>word_length</th>\n",
       "      <th>vowels</th>\n",
       "      <th>consonants</th>\n",
       "      <th>vowelandconsonant</th>\n",
       "      <th>punctuation</th>\n",
       "      <th>dutch_char</th>\n",
       "      <th>upper</th>\n",
       "      <th>lower</th>\n",
       "      <th>numbers</th>\n",
       "      <th>...</th>\n",
       "      <th>word_numbers_ratio</th>\n",
       "      <th>word_alpha_ratio</th>\n",
       "      <th>word_accents_ratio</th>\n",
       "      <th>word_other_characters_ratio</th>\n",
       "      <th>word_vowels_consonant_ratio</th>\n",
       "      <th>word_consonant_vowels_ratio</th>\n",
       "      <th>max_count_same_char</th>\n",
       "      <th>max_count_strip_same_char</th>\n",
       "      <th>max_consecutive_consonants</th>\n",
       "      <th>max_consecutive_vowels</th>\n",
       "    </tr>\n",
       "    <tr>\n",
       "      <th>garbage_score</th>\n",
       "      <th></th>\n",
       "      <th></th>\n",
       "      <th></th>\n",
       "      <th></th>\n",
       "      <th></th>\n",
       "      <th></th>\n",
       "      <th></th>\n",
       "      <th></th>\n",
       "      <th></th>\n",
       "      <th></th>\n",
       "      <th></th>\n",
       "      <th></th>\n",
       "      <th></th>\n",
       "      <th></th>\n",
       "      <th></th>\n",
       "      <th></th>\n",
       "      <th></th>\n",
       "      <th></th>\n",
       "      <th></th>\n",
       "      <th></th>\n",
       "      <th></th>\n",
       "    </tr>\n",
       "  </thead>\n",
       "  <tbody>\n",
       "    <tr>\n",
       "      <th>0</th>\n",
       "      <td>74588</td>\n",
       "      <td>74588</td>\n",
       "      <td>74588</td>\n",
       "      <td>74588</td>\n",
       "      <td>74588</td>\n",
       "      <td>74588</td>\n",
       "      <td>74588</td>\n",
       "      <td>74588</td>\n",
       "      <td>74588</td>\n",
       "      <td>74588</td>\n",
       "      <td>...</td>\n",
       "      <td>74588</td>\n",
       "      <td>74588</td>\n",
       "      <td>74588</td>\n",
       "      <td>74588</td>\n",
       "      <td>74588</td>\n",
       "      <td>74588</td>\n",
       "      <td>74588</td>\n",
       "      <td>74588</td>\n",
       "      <td>74588</td>\n",
       "      <td>74588</td>\n",
       "    </tr>\n",
       "    <tr>\n",
       "      <th>1</th>\n",
       "      <td>63582</td>\n",
       "      <td>63582</td>\n",
       "      <td>63582</td>\n",
       "      <td>63582</td>\n",
       "      <td>63582</td>\n",
       "      <td>63582</td>\n",
       "      <td>63582</td>\n",
       "      <td>63582</td>\n",
       "      <td>63582</td>\n",
       "      <td>63582</td>\n",
       "      <td>...</td>\n",
       "      <td>63582</td>\n",
       "      <td>63582</td>\n",
       "      <td>63582</td>\n",
       "      <td>63582</td>\n",
       "      <td>63582</td>\n",
       "      <td>63582</td>\n",
       "      <td>63582</td>\n",
       "      <td>63582</td>\n",
       "      <td>63582</td>\n",
       "      <td>63582</td>\n",
       "    </tr>\n",
       "  </tbody>\n",
       "</table>\n",
       "<p>2 rows × 30 columns</p>\n",
       "</div>"
      ],
      "text/plain": [
       "                word  word_length  vowels  consonants  vowelandconsonant  \\\n",
       "garbage_score                                                              \n",
       "0              74588        74588   74588       74588              74588   \n",
       "1              63582        63582   63582       63582              63582   \n",
       "\n",
       "               punctuation  dutch_char  upper  lower  numbers  ...  \\\n",
       "garbage_score                                                  ...   \n",
       "0                    74588       74588  74588  74588    74588  ...   \n",
       "1                    63582       63582  63582  63582    63582  ...   \n",
       "\n",
       "               word_numbers_ratio  word_alpha_ratio  word_accents_ratio  \\\n",
       "garbage_score                                                             \n",
       "0                           74588             74588               74588   \n",
       "1                           63582             63582               63582   \n",
       "\n",
       "               word_other_characters_ratio  word_vowels_consonant_ratio  \\\n",
       "garbage_score                                                             \n",
       "0                                    74588                        74588   \n",
       "1                                    63582                        63582   \n",
       "\n",
       "               word_consonant_vowels_ratio  max_count_same_char  \\\n",
       "garbage_score                                                     \n",
       "0                                    74588                74588   \n",
       "1                                    63582                63582   \n",
       "\n",
       "               max_count_strip_same_char  max_consecutive_consonants  \\\n",
       "garbage_score                                                          \n",
       "0                                  74588                       74588   \n",
       "1                                  63582                       63582   \n",
       "\n",
       "               max_consecutive_vowels  \n",
       "garbage_score                          \n",
       "0                               74588  \n",
       "1                               63582  \n",
       "\n",
       "[2 rows x 30 columns]"
      ]
     },
     "execution_count": 8,
     "metadata": {},
     "output_type": "execute_result"
    }
   ],
   "source": [
    "test.groupby('garbage_score').count()"
   ]
  },
  {
   "cell_type": "markdown",
   "id": "c9262999",
   "metadata": {},
   "source": [
    "### Select features (ratio features + word length + consecutive char length"
   ]
  },
  {
   "cell_type": "code",
   "execution_count": 9,
   "id": "83aeadc7",
   "metadata": {},
   "outputs": [],
   "source": [
    "from sklearn.model_selection import train_test_split\n",
    "\n",
    "features = [\"word_length\", \n",
    "                \"word_vowel_ratio\", \n",
    "                \"word_consonant_ratio\", \n",
    "                \"word_vowelandconsonant_ratio\",  \n",
    "                \"word_punctuation_ratio\", \n",
    "                \"word_dutch_char_ratio\", \n",
    "                \"word_uppercase_ratio\", \n",
    "                \"word_lowercase_ratio\", \n",
    "                \"word_numbers_ratio\",  \n",
    "                \"word_other_characters_ratio\", \n",
    "                \"word_vowels_consonant_ratio\", \n",
    "                \"word_consonant_vowels_ratio\", \n",
    "                \"max_count_same_char\", \n",
    "                \"max_count_strip_same_char\", \n",
    "                \"max_consecutive_consonants\",\n",
    "                \"max_consecutive_vowels\",\n",
    "                \"word_accents_ratio\"] \n",
    "\n",
    "X_train=train[features]  # Features\n",
    "y_train=train['garbage_score']  # Labels\n",
    "\n",
    "X_test=test[features]  # Features\n",
    "y_test=test['garbage_score']  # Labels\n",
    "\n",
    "feature_names = list(X_train.columns.values)"
   ]
  },
  {
   "cell_type": "markdown",
   "id": "9881deef",
   "metadata": {},
   "source": [
    "### Scale features \n",
    "With min max as SVM can not handle negative numbers"
   ]
  },
  {
   "cell_type": "code",
   "execution_count": 10,
   "id": "4caffe9f",
   "metadata": {},
   "outputs": [],
   "source": [
    "from sklearn.preprocessing import MinMaxScaler #fixed import\n",
    "\n",
    "scaler = MinMaxScaler()\n",
    "X_train = scaler.fit_transform(X_train)\n",
    "X_test = scaler.transform(X_test)"
   ]
  },
  {
   "cell_type": "code",
   "execution_count": 10,
   "id": "91611d3c",
   "metadata": {},
   "outputs": [],
   "source": [
    "import joblib\n",
    "scaler_filename = \"scaler.save\"\n",
    "scaler = joblib.load(scaler_filename) \n",
    "X_train = scaler.fit_transform(X_train)\n",
    "X_test = scaler.transform(X_test)"
   ]
  },
  {
   "cell_type": "markdown",
   "id": "ac90af19",
   "metadata": {},
   "source": [
    "### Support Vector Machine\n",
    "The linear version as the other one took to long"
   ]
  },
  {
   "cell_type": "code",
   "execution_count": 11,
   "id": "c21323ab",
   "metadata": {},
   "outputs": [
    {
     "data": {
      "text/plain": [
       "LinearSVC()"
      ]
     },
     "execution_count": 11,
     "metadata": {},
     "output_type": "execute_result"
    }
   ],
   "source": [
    "from sklearn.svm import LinearSVC\n",
    "\n",
    "svm=LinearSVC()\n",
    "svm.fit(X_train, y_train)"
   ]
  },
  {
   "cell_type": "code",
   "execution_count": 12,
   "id": "f3e190c1",
   "metadata": {},
   "outputs": [],
   "source": [
    "y_pred_svm = svm.predict(X_test)"
   ]
  },
  {
   "cell_type": "code",
   "execution_count": 13,
   "id": "b2ed214f",
   "metadata": {},
   "outputs": [
    {
     "name": "stdout",
     "output_type": "stream",
     "text": [
      "Accuracy: 0.86\n",
      "Precision: 0.888\n",
      "Recall: 0.795\n",
      "F1 Score: 0.839\n"
     ]
    }
   ],
   "source": [
    "print(\"Accuracy:\",round(metrics.accuracy_score(y_test, y_pred_svm),3))\n",
    "print(\"Precision:\",round(metrics.precision_score(y_test, y_pred_svm),3))\n",
    "print(\"Recall:\",round(metrics.recall_score(y_test, y_pred_svm),3))\n",
    "print('F1 Score: %.3f' % round(metrics.f1_score(y_test, y_pred_svm),3))"
   ]
  },
  {
   "cell_type": "code",
   "execution_count": 14,
   "id": "96933fcb",
   "metadata": {},
   "outputs": [],
   "source": [
    "import pickle\n",
    "\n",
    "pickle.dump(svm, open('garbage_model_SVM.pkl', 'wb'))"
   ]
  },
  {
   "cell_type": "markdown",
   "id": "0eebf7d8",
   "metadata": {},
   "source": [
    "### Random Forest"
   ]
  },
  {
   "cell_type": "code",
   "execution_count": 11,
   "id": "1c8e7880",
   "metadata": {},
   "outputs": [],
   "source": [
    "#Import Random Forest Model\n",
    "from sklearn.ensemble import RandomForestClassifier\n",
    "\n",
    "#Create a Gaussian Classifier\n",
    "clf=RandomForestClassifier()\n",
    "\n",
    "#Train the model using the training sets y_pred=clf.predict(X_test)\n",
    "clf.fit(X_train,y_train)\n",
    "\n",
    "y_pred_rf=clf.predict(X_test)"
   ]
  },
  {
   "cell_type": "code",
   "execution_count": 12,
   "id": "1b2c3531",
   "metadata": {},
   "outputs": [
    {
     "name": "stdout",
     "output_type": "stream",
     "text": [
      "Accuracy: 0.921\n",
      "Precision: 0.948\n",
      "Recall: 0.877\n",
      "F1 Score: 0.911\n"
     ]
    }
   ],
   "source": [
    "print(\"Accuracy:\",round(metrics.accuracy_score(y_test, y_pred_rf),3))\n",
    "print(\"Precision:\",round(metrics.precision_score(y_test, y_pred_rf),3))\n",
    "print(\"Recall:\",round(metrics.recall_score(y_test, y_pred_rf),3))\n",
    "print('F1 Score: %.3f' % round(metrics.f1_score(y_test, y_pred_rf),3))"
   ]
  },
  {
   "cell_type": "code",
   "execution_count": null,
   "id": "61e90369",
   "metadata": {},
   "outputs": [],
   "source": [
    "feature_names"
   ]
  },
  {
   "cell_type": "code",
   "execution_count": 13,
   "id": "7af1a466",
   "metadata": {},
   "outputs": [
    {
     "data": {
      "text/plain": [
       "<BarContainer object of 17 artists>"
      ]
     },
     "execution_count": 13,
     "metadata": {},
     "output_type": "execute_result"
    },
    {
     "data": {
      "image/png": "[encoded data removed]",
      "text/plain": [
       "<Figure size 432x288 with 1 Axes>"
      ]
     },
     "metadata": {
      "needs_background": "light"
     },
     "output_type": "display_data"
    }
   ],
   "source": [
    "plt.barh(feature_names, clf.feature_importances_)"
   ]
  },
  {
   "cell_type": "code",
   "execution_count": 31,
   "id": "801fc88c",
   "metadata": {},
   "outputs": [],
   "source": [
    "import pickle\n",
    "\n",
    "pickle.dump(clf, open('garbage_model_rf.pkl', 'wb'))\n"
   ]
  },
  {
   "cell_type": "markdown",
   "id": "c3a25c72",
   "metadata": {},
   "source": [
    "### KNN"
   ]
  },
  {
   "cell_type": "code",
   "execution_count": 1,
   "id": "5f3b5259",
   "metadata": {},
   "outputs": [],
   "source": [
    "from sklearn.neighbors import KNeighborsClassifier\n",
    "\n",
    "#Create KNN Classifier\n",
    "knn = KNeighborsClassifier()\n",
    "\n",
    "#Train the model using the training sets\n",
    "knn.fit(X_train, y_train)\n",
    "\n",
    "#Predict the response for test dataset  \n",
    "y_pred_knn = knn.predict(X_test)"
   ]
  },
  {
   "cell_type": "code",
   "execution_count": 16,
   "id": "c1274e8b",
   "metadata": {},
   "outputs": [
    {
     "name": "stdout",
     "output_type": "stream",
     "text": [
      "Accuracy: 0.917\n",
      "Precision: 0.936\n",
      "Recall: 0.88\n",
      "F1 Score: 0.907\n"
     ]
    }
   ],
   "source": [
    "print(\"Accuracy:\",round(metrics.accuracy_score(y_test, y_pred_knn),3))\n",
    "print(\"Precision:\",round(metrics.precision_score(y_test, y_pred_knn),3))\n",
    "print(\"Recall:\",round(metrics.recall_score(y_test, y_pred_knn),3))\n",
    "print(\"F1 Score:\",round(metrics.f1_score(y_test, y_pred_knn),3))"
   ]
  },
  {
   "cell_type": "code",
   "execution_count": 17,
   "id": "67646561",
   "metadata": {},
   "outputs": [],
   "source": [
    "import pickle\n",
    "\n",
    "pickle.dump(knn, open('garbage_model_KNN.pkl', 'wb'))"
   ]
  },
  {
   "cell_type": "markdown",
   "id": "a1f79a1d",
   "metadata": {},
   "source": [
    "### Naive Bayes"
   ]
  },
  {
   "cell_type": "code",
   "execution_count": 18,
   "id": "60f7f268",
   "metadata": {},
   "outputs": [],
   "source": [
    "from sklearn.naive_bayes import MultinomialNB\n",
    "\n",
    "mnb = MultinomialNB().fit(X_train, y_train)\n",
    "y_pred_nb = mnb.predict(X_test)"
   ]
  },
  {
   "cell_type": "code",
   "execution_count": 19,
   "id": "99e6f86b",
   "metadata": {},
   "outputs": [
    {
     "name": "stdout",
     "output_type": "stream",
     "text": [
      "Accuracy: 0.789\n",
      "Precision: 0.933\n",
      "Recall: 0.582\n",
      "F1 Score: 0.717\n"
     ]
    }
   ],
   "source": [
    "print(\"Accuracy:\",round(metrics.accuracy_score(y_test, y_pred_nb),3))\n",
    "print(\"Precision:\",round(metrics.precision_score(y_test, y_pred_nb),3))\n",
    "print(\"Recall:\",round(metrics.recall_score(y_test, y_pred_nb),3))\n",
    "print('F1 Score: %.3f' % round(metrics.f1_score(y_test, y_pred_nb),3))"
   ]
  },
  {
   "cell_type": "code",
   "execution_count": 20,
   "id": "593cb60d",
   "metadata": {},
   "outputs": [],
   "source": [
    "import pickle\n",
    "\n",
    "pickle.dump(mnb, open('garbage_model_NB.pkl', 'wb'))"
   ]
  }
 ],
 "metadata": {
  "kernelspec": {
   "display_name": "Python 3 (ipykernel)",
   "language": "python",
   "name": "python3"
  },
  "language_info": {
   "codemirror_mode": {
    "name": "ipython",
    "version": 3
   },
   "file_extension": ".py",
   "mimetype": "text/x-python",
   "name": "python",
   "nbconvert_exporter": "python",
   "pygments_lexer": "ipython3",
   "version": "3.9.12"
  }
 },
 "nbformat": 4,
 "nbformat_minor": 5
}
