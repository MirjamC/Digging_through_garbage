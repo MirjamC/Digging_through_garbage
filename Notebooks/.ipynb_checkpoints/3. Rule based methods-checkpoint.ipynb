{
 "cells": [
  {
   "cell_type": "code",
   "execution_count": 1,
   "id": "7b951b12",
   "metadata": {},
   "outputs": [],
   "source": [
    "import pandas as pd\n",
    "import json\n",
    "import os\n",
    "import sys\n",
    "import seaborn as sns\n",
    "import matplotlib.pyplot as plt\n",
    "from sklearn.metrics import confusion_matrix\n",
    "from sklearn.metrics import precision_score, recall_score, f1_score, accuracy_score\n",
    "\n",
    "sys.path.append(os.path.abspath(\"Functions/\"))\n",
    "import rules_Kulp\n",
    "import rules_Taghva\n",
    "import rules_Cuper"
   ]
  },
  {
   "cell_type": "code",
   "execution_count": 2,
   "id": "079612f0",
   "metadata": {},
   "outputs": [],
   "source": [
    "path = \"Data/\""
   ]
  },
  {
   "cell_type": "code",
   "execution_count": 3,
   "id": "58e1df6a",
   "metadata": {},
   "outputs": [],
   "source": [
    "with open(path + 'vowels_list.json') as json_file:\n",
    "    vowels_list = json.load(json_file)\n",
    "with open(path + 'consonants_list.json') as json_file:\n",
    "    consonants_list = json.load(json_file)\n",
    "with open(path + 'dutch_char_list.json') as json_file:\n",
    "    dutch_char_list = json.load(json_file)"
   ]
  },
  {
   "cell_type": "code",
   "execution_count": 4,
   "id": "43718ebf",
   "metadata": {},
   "outputs": [],
   "source": [
    "accents_df = pd.read_csv(path + 'accents_list.csv', index_col = 0)\n",
    "accents_list = accents_df['0'].values.tolist()"
   ]
  },
  {
   "cell_type": "code",
   "execution_count": 5,
   "id": "da86feb7",
   "metadata": {},
   "outputs": [],
   "source": [
    "test = pd.read_csv(path + 'test.csv', index_col = 0, compression = 'gzip')"
   ]
  },
  {
   "cell_type": "code",
   "execution_count": 6,
   "id": "41572962",
   "metadata": {},
   "outputs": [
    {
     "data": {
      "text/html": [
       "<div>\n",
       "<style scoped>\n",
       "    .dataframe tbody tr th:only-of-type {\n",
       "        vertical-align: middle;\n",
       "    }\n",
       "\n",
       "    .dataframe tbody tr th {\n",
       "        vertical-align: top;\n",
       "    }\n",
       "\n",
       "    .dataframe thead th {\n",
       "        text-align: right;\n",
       "    }\n",
       "</style>\n",
       "<table border=\"1\" class=\"dataframe\">\n",
       "  <thead>\n",
       "    <tr style=\"text-align: right;\">\n",
       "      <th></th>\n",
       "      <th>ocr word</th>\n",
       "      <th>label</th>\n",
       "    </tr>\n",
       "  </thead>\n",
       "  <tbody>\n",
       "    <tr>\n",
       "      <th>2586340</th>\n",
       "      <td>Vcêlét:evangeaeß,.gtrtpeuflcert</td>\n",
       "      <td>1</td>\n",
       "    </tr>\n",
       "    <tr>\n",
       "      <th>1657861</th>\n",
       "      <td>heeftalorrigëaffigeërt</td>\n",
       "      <td>1</td>\n",
       "    </tr>\n",
       "    <tr>\n",
       "      <th>2050808</th>\n",
       "      <td>Swcöcti</td>\n",
       "      <td>1</td>\n",
       "    </tr>\n",
       "    <tr>\n",
       "      <th>2406727</th>\n",
       "      <td>WBmjftVdtfl</td>\n",
       "      <td>1</td>\n",
       "    </tr>\n",
       "    <tr>\n",
       "      <th>1454907</th>\n",
       "      <td>JBHen</td>\n",
       "      <td>1</td>\n",
       "    </tr>\n",
       "  </tbody>\n",
       "</table>\n",
       "</div>"
      ],
      "text/plain": [
       "                                ocr word  label\n",
       "2586340  Vcêlét:evangeaeß,.gtrtpeuflcert      1\n",
       "1657861           heeftalorrigëaffigeërt      1\n",
       "2050808                          Swcöcti      1\n",
       "2406727                      WBmjftVdtfl      1\n",
       "1454907                            JBHen      1"
      ]
     },
     "execution_count": 6,
     "metadata": {},
     "output_type": "execute_result"
    }
   ],
   "source": [
    "test.head()"
   ]
  },
  {
   "cell_type": "markdown",
   "id": "3785b841",
   "metadata": {},
   "source": [
    "### Applying the rules from Taghva et al. "
   ]
  },
  {
   "cell_type": "code",
   "execution_count": 7,
   "id": "0cb8cd57",
   "metadata": {},
   "outputs": [],
   "source": [
    "test['Predicted_label'] = test['ocr word'].apply(lambda word: rules_Taghva.Main(str(word), consonants_list, vowels_list))"
   ]
  },
  {
   "cell_type": "code",
   "execution_count": 8,
   "id": "a6c30a88",
   "metadata": {},
   "outputs": [],
   "source": [
    "df_confusion_T = pd.crosstab(test['label'], test['Predicted_label'])"
   ]
  },
  {
   "cell_type": "code",
   "execution_count": 9,
   "id": "0e8f1800",
   "metadata": {},
   "outputs": [
    {
     "data": {
      "image/png": "[encoded data removed]",
      "text/plain": [
       "<Figure size 432x288 with 2 Axes>"
      ]
     },
     "metadata": {
      "needs_background": "light"
     },
     "output_type": "display_data"
    }
   ],
   "source": [
    "sns.heatmap(df_confusion_T, annot=True, cmap='Blues', fmt='g')\n",
    "plt.show()"
   ]
  },
  {
   "cell_type": "code",
   "execution_count": 10,
   "id": "2f72195b",
   "metadata": {},
   "outputs": [],
   "source": [
    "actual_T = test[\"label\"].to_numpy() "
   ]
  },
  {
   "cell_type": "code",
   "execution_count": 11,
   "id": "63b1718d",
   "metadata": {},
   "outputs": [],
   "source": [
    "predicted_T = test[\"Predicted_label\"].to_numpy() "
   ]
  },
  {
   "cell_type": "code",
   "execution_count": 12,
   "id": "8930d319",
   "metadata": {},
   "outputs": [
    {
     "name": "stdout",
     "output_type": "stream",
     "text": [
      "Accuracy: 0.706\n",
      "Precision: 0.942\n",
      "Recall: 0.386\n",
      "F1 Score: 0.547\n"
     ]
    }
   ],
   "source": [
    "print('Accuracy: %.3f' % accuracy_score(actual_T, predicted_T))\n",
    "print('Precision: %.3f' % precision_score(actual_T, predicted_T))\n",
    "print('Recall: %.3f' % recall_score(actual_T, predicted_T))\n",
    "print('F1 Score: %.3f' % f1_score(actual_T, predicted_T))"
   ]
  },
  {
   "cell_type": "markdown",
   "id": "5cb07a7b",
   "metadata": {},
   "source": [
    "### Applying the rules from Kulp and Kontostathis"
   ]
  },
  {
   "cell_type": "code",
   "execution_count": 13,
   "id": "f9cdb01a",
   "metadata": {},
   "outputs": [],
   "source": [
    "test['Predicted_label'] = test['ocr word'].apply(lambda word: rules_Kulp.Main(str(word), consonants_list, vowels_list))"
   ]
  },
  {
   "cell_type": "code",
   "execution_count": 14,
   "id": "72e93177",
   "metadata": {},
   "outputs": [],
   "source": [
    "df_confusion_K = pd.crosstab(test['label'], test['Predicted_label'])"
   ]
  },
  {
   "cell_type": "code",
   "execution_count": 15,
   "id": "46d5c3b6",
   "metadata": {},
   "outputs": [
    {
     "data": {
      "text/html": [
       "<div>\n",
       "<style scoped>\n",
       "    .dataframe tbody tr th:only-of-type {\n",
       "        vertical-align: middle;\n",
       "    }\n",
       "\n",
       "    .dataframe tbody tr th {\n",
       "        vertical-align: top;\n",
       "    }\n",
       "\n",
       "    .dataframe thead th {\n",
       "        text-align: right;\n",
       "    }\n",
       "</style>\n",
       "<table border=\"1\" class=\"dataframe\">\n",
       "  <thead>\n",
       "    <tr style=\"text-align: right;\">\n",
       "      <th>Predicted_label</th>\n",
       "      <th>0</th>\n",
       "      <th>1</th>\n",
       "    </tr>\n",
       "    <tr>\n",
       "      <th>label</th>\n",
       "      <th></th>\n",
       "      <th></th>\n",
       "    </tr>\n",
       "  </thead>\n",
       "  <tbody>\n",
       "    <tr>\n",
       "      <th>0</th>\n",
       "      <td>70758</td>\n",
       "      <td>3830</td>\n",
       "    </tr>\n",
       "    <tr>\n",
       "      <th>1</th>\n",
       "      <td>31233</td>\n",
       "      <td>32349</td>\n",
       "    </tr>\n",
       "  </tbody>\n",
       "</table>\n",
       "</div>"
      ],
      "text/plain": [
       "Predicted_label      0      1\n",
       "label                        \n",
       "0                70758   3830\n",
       "1                31233  32349"
      ]
     },
     "execution_count": 15,
     "metadata": {},
     "output_type": "execute_result"
    }
   ],
   "source": [
    "df_confusion_K"
   ]
  },
  {
   "cell_type": "code",
   "execution_count": 16,
   "id": "ab7c57a9",
   "metadata": {},
   "outputs": [
    {
     "data": {
      "image/png": "[encoded data removed]",
      "text/plain": [
       "<Figure size 432x288 with 2 Axes>"
      ]
     },
     "metadata": {
      "needs_background": "light"
     },
     "output_type": "display_data"
    }
   ],
   "source": [
    "sns.heatmap(df_confusion_K, annot=True, cmap='Blues', fmt='g')\n",
    "plt.show()"
   ]
  },
  {
   "cell_type": "code",
   "execution_count": 17,
   "id": "07a8eb9c",
   "metadata": {},
   "outputs": [],
   "source": [
    "actual_K = test[\"label\"].to_numpy() "
   ]
  },
  {
   "cell_type": "code",
   "execution_count": 18,
   "id": "ad5628fd",
   "metadata": {},
   "outputs": [],
   "source": [
    "predicted_K = test[\"Predicted_label\"].to_numpy() "
   ]
  },
  {
   "cell_type": "code",
   "execution_count": 19,
   "id": "b049be59",
   "metadata": {},
   "outputs": [
    {
     "name": "stdout",
     "output_type": "stream",
     "text": [
      "Accuracy: 0.746\n",
      "Precision: 0.894\n",
      "Recall: 0.509\n",
      "F1 Score: 0.649\n"
     ]
    }
   ],
   "source": [
    "print('Accuracy: %.3f' % accuracy_score(actual_K, predicted_K))\n",
    "print('Precision: %.3f' % precision_score(actual_K, predicted_K))\n",
    "print('Recall: %.3f' % recall_score(actual_K, predicted_K))\n",
    "print('F1 Score: %.3f' % f1_score(actual_K, predicted_K))"
   ]
  },
  {
   "cell_type": "markdown",
   "id": "f153a93d",
   "metadata": {},
   "source": [
    "### Applying the rules from Cuper and Den Boer"
   ]
  },
  {
   "cell_type": "code",
   "execution_count": 20,
   "id": "4fb14cb8",
   "metadata": {},
   "outputs": [],
   "source": [
    "test['Predicted_label'] = test['ocr word'].apply(lambda word: rules_Cuper.Main(str(word), consonants_list, vowels_list, dutch_char_list, accents_list))"
   ]
  },
  {
   "cell_type": "code",
   "execution_count": 21,
   "id": "aefdd2b1",
   "metadata": {},
   "outputs": [],
   "source": [
    "df_confusion_C = pd.crosstab(test['label'], test['Predicted_label'])"
   ]
  },
  {
   "cell_type": "code",
   "execution_count": 22,
   "id": "9a2047ee",
   "metadata": {},
   "outputs": [
    {
     "data": {
      "text/html": [
       "<div>\n",
       "<style scoped>\n",
       "    .dataframe tbody tr th:only-of-type {\n",
       "        vertical-align: middle;\n",
       "    }\n",
       "\n",
       "    .dataframe tbody tr th {\n",
       "        vertical-align: top;\n",
       "    }\n",
       "\n",
       "    .dataframe thead th {\n",
       "        text-align: right;\n",
       "    }\n",
       "</style>\n",
       "<table border=\"1\" class=\"dataframe\">\n",
       "  <thead>\n",
       "    <tr style=\"text-align: right;\">\n",
       "      <th>Predicted_label</th>\n",
       "      <th>0</th>\n",
       "      <th>1</th>\n",
       "    </tr>\n",
       "    <tr>\n",
       "      <th>label</th>\n",
       "      <th></th>\n",
       "      <th></th>\n",
       "    </tr>\n",
       "  </thead>\n",
       "  <tbody>\n",
       "    <tr>\n",
       "      <th>0</th>\n",
       "      <td>54292</td>\n",
       "      <td>20296</td>\n",
       "    </tr>\n",
       "    <tr>\n",
       "      <th>1</th>\n",
       "      <td>6939</td>\n",
       "      <td>56643</td>\n",
       "    </tr>\n",
       "  </tbody>\n",
       "</table>\n",
       "</div>"
      ],
      "text/plain": [
       "Predicted_label      0      1\n",
       "label                        \n",
       "0                54292  20296\n",
       "1                 6939  56643"
      ]
     },
     "execution_count": 22,
     "metadata": {},
     "output_type": "execute_result"
    }
   ],
   "source": [
    "df_confusion_C"
   ]
  },
  {
   "cell_type": "code",
   "execution_count": 23,
   "id": "4e81faa9",
   "metadata": {},
   "outputs": [
    {
     "data": {
      "image/png": "[encoded data removed]",
      "text/plain": [
       "<Figure size 432x288 with 2 Axes>"
      ]
     },
     "metadata": {
      "needs_background": "light"
     },
     "output_type": "display_data"
    }
   ],
   "source": [
    "sns.heatmap(df_confusion_C, annot=True, cmap='Blues', fmt='g')\n",
    "plt.show()"
   ]
  },
  {
   "cell_type": "code",
   "execution_count": 24,
   "id": "eca2d418",
   "metadata": {},
   "outputs": [],
   "source": [
    "actual_C = test[\"label\"].to_numpy() "
   ]
  },
  {
   "cell_type": "code",
   "execution_count": 25,
   "id": "8e2c843a",
   "metadata": {},
   "outputs": [],
   "source": [
    "predicted_C = test[\"Predicted_label\"].to_numpy() "
   ]
  },
  {
   "cell_type": "code",
   "execution_count": 26,
   "id": "9404ab92",
   "metadata": {},
   "outputs": [
    {
     "name": "stdout",
     "output_type": "stream",
     "text": [
      "Accuracy: 0.803\n",
      "Precision: 0.736\n",
      "Recall: 0.891\n",
      "F1 Score: 0.806\n"
     ]
    }
   ],
   "source": [
    "print('Accuracy: %.3f' % accuracy_score(actual_C, predicted_C))\n",
    "print('Precision: %.3f' % precision_score(actual_C, predicted_C))\n",
    "print('Recall: %.3f' % recall_score(actual_C, predicted_C))\n",
    "print('F1 Score: %.3f' % f1_score(actual_C, predicted_C))"
   ]
  },
  {
   "cell_type": "code",
   "execution_count": null,
   "id": "0ee4d217",
   "metadata": {},
   "outputs": [],
   "source": []
  }
 ],
 "metadata": {
  "kernelspec": {
   "display_name": "Python 3 (ipykernel)",
   "language": "python",
   "name": "python3"
  },
  "language_info": {
   "codemirror_mode": {
    "name": "ipython",
    "version": 3
   },
   "file_extension": ".py",
   "mimetype": "text/x-python",
   "name": "python",
   "nbconvert_exporter": "python",
   "pygments_lexer": "ipython3",
   "version": "3.9.12"
  }
 },
 "nbformat": 4,
 "nbformat_minor": 5
}
