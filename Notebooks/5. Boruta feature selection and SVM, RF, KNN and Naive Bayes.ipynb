{
 "cells": [
  {
   "cell_type": "code",
   "execution_count": 1,
   "id": "7d09fa9a",
   "metadata": {},
   "outputs": [],
   "source": [
    "import numpy as np\n",
    "import pandas as pd\n",
    "import sklearn\n",
    "import csv\n",
    "import matplotlib.pyplot as plt\n",
    "from sklearn import metrics"
   ]
  },
  {
   "cell_type": "code",
   "execution_count": 2,
   "id": "f42d55cc",
   "metadata": {},
   "outputs": [
    {
     "data": {
      "text/html": [
       "<div>\n",
       "<style scoped>\n",
       "    .dataframe tbody tr th:only-of-type {\n",
       "        vertical-align: middle;\n",
       "    }\n",
       "\n",
       "    .dataframe tbody tr th {\n",
       "        vertical-align: top;\n",
       "    }\n",
       "\n",
       "    .dataframe thead th {\n",
       "        text-align: right;\n",
       "    }\n",
       "</style>\n",
       "<table border=\"1\" class=\"dataframe\">\n",
       "  <thead>\n",
       "    <tr style=\"text-align: right;\">\n",
       "      <th></th>\n",
       "      <th>word</th>\n",
       "      <th>garbage_score</th>\n",
       "      <th>word_length</th>\n",
       "      <th>vowels</th>\n",
       "      <th>consonants</th>\n",
       "      <th>vowelandconsonant</th>\n",
       "      <th>punctuation</th>\n",
       "      <th>dutch_char</th>\n",
       "      <th>upper</th>\n",
       "      <th>lower</th>\n",
       "      <th>...</th>\n",
       "      <th>word_numbers_ratio</th>\n",
       "      <th>word_alpha_ratio</th>\n",
       "      <th>word_accents_ratio</th>\n",
       "      <th>word_other_characters_ratio</th>\n",
       "      <th>word_vowels_consonant_ratio</th>\n",
       "      <th>word_consonant_vowels_ratio</th>\n",
       "      <th>max_count_same_char</th>\n",
       "      <th>max_count_strip_same_char</th>\n",
       "      <th>max_consecutive_consonants</th>\n",
       "      <th>max_consecutive_vowels</th>\n",
       "    </tr>\n",
       "  </thead>\n",
       "  <tbody>\n",
       "    <tr>\n",
       "      <th>0</th>\n",
       "      <td>fttïsietm</td>\n",
       "      <td>1</td>\n",
       "      <td>9</td>\n",
       "      <td>3</td>\n",
       "      <td>6</td>\n",
       "      <td>9</td>\n",
       "      <td>0</td>\n",
       "      <td>9</td>\n",
       "      <td>0</td>\n",
       "      <td>9</td>\n",
       "      <td>...</td>\n",
       "      <td>0.0</td>\n",
       "      <td>1.0</td>\n",
       "      <td>0.111111</td>\n",
       "      <td>0.0</td>\n",
       "      <td>0.500</td>\n",
       "      <td>2.0</td>\n",
       "      <td>2</td>\n",
       "      <td>2</td>\n",
       "      <td>3</td>\n",
       "      <td>2</td>\n",
       "    </tr>\n",
       "    <tr>\n",
       "      <th>1</th>\n",
       "      <td>jjatcgfcs»</td>\n",
       "      <td>1</td>\n",
       "      <td>10</td>\n",
       "      <td>1</td>\n",
       "      <td>8</td>\n",
       "      <td>9</td>\n",
       "      <td>1</td>\n",
       "      <td>9</td>\n",
       "      <td>0</td>\n",
       "      <td>9</td>\n",
       "      <td>...</td>\n",
       "      <td>0.0</td>\n",
       "      <td>0.9</td>\n",
       "      <td>0.000000</td>\n",
       "      <td>0.0</td>\n",
       "      <td>0.125</td>\n",
       "      <td>8.0</td>\n",
       "      <td>2</td>\n",
       "      <td>2</td>\n",
       "      <td>6</td>\n",
       "      <td>1</td>\n",
       "    </tr>\n",
       "  </tbody>\n",
       "</table>\n",
       "<p>2 rows × 31 columns</p>\n",
       "</div>"
      ],
      "text/plain": [
       "         word  garbage_score  word_length  vowels  consonants  \\\n",
       "0   fttïsietm              1            9       3           6   \n",
       "1  jjatcgfcs»              1           10       1           8   \n",
       "\n",
       "   vowelandconsonant  punctuation  dutch_char  upper  lower  ...  \\\n",
       "0                  9            0           9      0      9  ...   \n",
       "1                  9            1           9      0      9  ...   \n",
       "\n",
       "   word_numbers_ratio  word_alpha_ratio  word_accents_ratio  \\\n",
       "0                 0.0               1.0            0.111111   \n",
       "1                 0.0               0.9            0.000000   \n",
       "\n",
       "   word_other_characters_ratio  word_vowels_consonant_ratio  \\\n",
       "0                          0.0                        0.500   \n",
       "1                          0.0                        0.125   \n",
       "\n",
       "   word_consonant_vowels_ratio  max_count_same_char  \\\n",
       "0                          2.0                    2   \n",
       "1                          8.0                    2   \n",
       "\n",
       "   max_count_strip_same_char  max_consecutive_consonants  \\\n",
       "0                          2                           3   \n",
       "1                          2                           6   \n",
       "\n",
       "   max_consecutive_vowels  \n",
       "0                       2  \n",
       "1                       1  \n",
       "\n",
       "[2 rows x 31 columns]"
      ]
     },
     "execution_count": 2,
     "metadata": {},
     "output_type": "execute_result"
    }
   ],
   "source": [
    "feature_selection = pd.read_csv('Data/feature_selection_incl_features.csv', index_col = 0, compression = 'gzip')\n",
    "feature_selection.head(2)"
   ]
  },
  {
   "cell_type": "code",
   "execution_count": 3,
   "id": "47a408c1",
   "metadata": {},
   "outputs": [
    {
     "data": {
      "text/html": [
       "<div>\n",
       "<style scoped>\n",
       "    .dataframe tbody tr th:only-of-type {\n",
       "        vertical-align: middle;\n",
       "    }\n",
       "\n",
       "    .dataframe tbody tr th {\n",
       "        vertical-align: top;\n",
       "    }\n",
       "\n",
       "    .dataframe thead th {\n",
       "        text-align: right;\n",
       "    }\n",
       "</style>\n",
       "<table border=\"1\" class=\"dataframe\">\n",
       "  <thead>\n",
       "    <tr style=\"text-align: right;\">\n",
       "      <th></th>\n",
       "      <th>word</th>\n",
       "      <th>garbage_score</th>\n",
       "      <th>word_length</th>\n",
       "      <th>vowels</th>\n",
       "      <th>consonants</th>\n",
       "      <th>vowelandconsonant</th>\n",
       "      <th>punctuation</th>\n",
       "      <th>dutch_char</th>\n",
       "      <th>upper</th>\n",
       "      <th>lower</th>\n",
       "      <th>...</th>\n",
       "      <th>word_numbers_ratio</th>\n",
       "      <th>word_alpha_ratio</th>\n",
       "      <th>word_accents_ratio</th>\n",
       "      <th>word_other_characters_ratio</th>\n",
       "      <th>word_vowels_consonant_ratio</th>\n",
       "      <th>word_consonant_vowels_ratio</th>\n",
       "      <th>max_count_same_char</th>\n",
       "      <th>max_count_strip_same_char</th>\n",
       "      <th>max_consecutive_consonants</th>\n",
       "      <th>max_consecutive_vowels</th>\n",
       "    </tr>\n",
       "  </thead>\n",
       "  <tbody>\n",
       "    <tr>\n",
       "      <th>0</th>\n",
       "      <td>Ba)cile)'t</td>\n",
       "      <td>1</td>\n",
       "      <td>10</td>\n",
       "      <td>3</td>\n",
       "      <td>4</td>\n",
       "      <td>7</td>\n",
       "      <td>3</td>\n",
       "      <td>8</td>\n",
       "      <td>0</td>\n",
       "      <td>6</td>\n",
       "      <td>...</td>\n",
       "      <td>0.0</td>\n",
       "      <td>0.7</td>\n",
       "      <td>0.000000</td>\n",
       "      <td>0.0</td>\n",
       "      <td>0.75</td>\n",
       "      <td>1.333333</td>\n",
       "      <td>1</td>\n",
       "      <td>1</td>\n",
       "      <td>1</td>\n",
       "      <td>1</td>\n",
       "    </tr>\n",
       "    <tr>\n",
       "      <th>1</th>\n",
       "      <td>téycltènéoi</td>\n",
       "      <td>1</td>\n",
       "      <td>11</td>\n",
       "      <td>6</td>\n",
       "      <td>5</td>\n",
       "      <td>11</td>\n",
       "      <td>0</td>\n",
       "      <td>11</td>\n",
       "      <td>0</td>\n",
       "      <td>11</td>\n",
       "      <td>...</td>\n",
       "      <td>0.0</td>\n",
       "      <td>1.0</td>\n",
       "      <td>0.272727</td>\n",
       "      <td>0.0</td>\n",
       "      <td>1.20</td>\n",
       "      <td>0.833333</td>\n",
       "      <td>1</td>\n",
       "      <td>1</td>\n",
       "      <td>3</td>\n",
       "      <td>3</td>\n",
       "    </tr>\n",
       "  </tbody>\n",
       "</table>\n",
       "<p>2 rows × 31 columns</p>\n",
       "</div>"
      ],
      "text/plain": [
       "          word  garbage_score  word_length  vowels  consonants  \\\n",
       "0   Ba)cile)'t              1           10       3           4   \n",
       "1  téycltènéoi              1           11       6           5   \n",
       "\n",
       "   vowelandconsonant  punctuation  dutch_char  upper  lower  ...  \\\n",
       "0                  7            3           8      0      6  ...   \n",
       "1                 11            0          11      0     11  ...   \n",
       "\n",
       "   word_numbers_ratio  word_alpha_ratio  word_accents_ratio  \\\n",
       "0                 0.0               0.7            0.000000   \n",
       "1                 0.0               1.0            0.272727   \n",
       "\n",
       "   word_other_characters_ratio  word_vowels_consonant_ratio  \\\n",
       "0                          0.0                         0.75   \n",
       "1                          0.0                         1.20   \n",
       "\n",
       "   word_consonant_vowels_ratio  max_count_same_char  \\\n",
       "0                     1.333333                    1   \n",
       "1                     0.833333                    1   \n",
       "\n",
       "   max_count_strip_same_char  max_consecutive_consonants  \\\n",
       "0                          1                           1   \n",
       "1                          1                           3   \n",
       "\n",
       "   max_consecutive_vowels  \n",
       "0                       1  \n",
       "1                       3  \n",
       "\n",
       "[2 rows x 31 columns]"
      ]
     },
     "execution_count": 3,
     "metadata": {},
     "output_type": "execute_result"
    }
   ],
   "source": [
    "train = pd.read_csv('Data/train_incl_feat.csv', index_col = 0, compression = 'gzip')\n",
    "train.head(2)"
   ]
  },
  {
   "cell_type": "code",
   "execution_count": 4,
   "id": "b1c5f232",
   "metadata": {},
   "outputs": [
    {
     "data": {
      "text/html": [
       "<div>\n",
       "<style scoped>\n",
       "    .dataframe tbody tr th:only-of-type {\n",
       "        vertical-align: middle;\n",
       "    }\n",
       "\n",
       "    .dataframe tbody tr th {\n",
       "        vertical-align: top;\n",
       "    }\n",
       "\n",
       "    .dataframe thead th {\n",
       "        text-align: right;\n",
       "    }\n",
       "</style>\n",
       "<table border=\"1\" class=\"dataframe\">\n",
       "  <thead>\n",
       "    <tr style=\"text-align: right;\">\n",
       "      <th></th>\n",
       "      <th>word</th>\n",
       "      <th>garbage_score</th>\n",
       "      <th>word_length</th>\n",
       "      <th>vowels</th>\n",
       "      <th>consonants</th>\n",
       "      <th>vowelandconsonant</th>\n",
       "      <th>punctuation</th>\n",
       "      <th>dutch_char</th>\n",
       "      <th>upper</th>\n",
       "      <th>lower</th>\n",
       "      <th>...</th>\n",
       "      <th>word_numbers_ratio</th>\n",
       "      <th>word_alpha_ratio</th>\n",
       "      <th>word_accents_ratio</th>\n",
       "      <th>word_other_characters_ratio</th>\n",
       "      <th>word_vowels_consonant_ratio</th>\n",
       "      <th>word_consonant_vowels_ratio</th>\n",
       "      <th>max_count_same_char</th>\n",
       "      <th>max_count_strip_same_char</th>\n",
       "      <th>max_consecutive_consonants</th>\n",
       "      <th>max_consecutive_vowels</th>\n",
       "    </tr>\n",
       "  </thead>\n",
       "  <tbody>\n",
       "    <tr>\n",
       "      <th>0</th>\n",
       "      <td>Vcêlét:evangeaeß,.gtrtpeuflcert</td>\n",
       "      <td>1</td>\n",
       "      <td>31</td>\n",
       "      <td>10</td>\n",
       "      <td>17</td>\n",
       "      <td>27</td>\n",
       "      <td>3</td>\n",
       "      <td>27</td>\n",
       "      <td>0</td>\n",
       "      <td>27</td>\n",
       "      <td>...</td>\n",
       "      <td>0.0</td>\n",
       "      <td>0.903226</td>\n",
       "      <td>0.064516</td>\n",
       "      <td>0.0</td>\n",
       "      <td>0.588235</td>\n",
       "      <td>1.7</td>\n",
       "      <td>1</td>\n",
       "      <td>1</td>\n",
       "      <td>5</td>\n",
       "      <td>3</td>\n",
       "    </tr>\n",
       "    <tr>\n",
       "      <th>1</th>\n",
       "      <td>heeftalorrigëaffigeërt</td>\n",
       "      <td>1</td>\n",
       "      <td>22</td>\n",
       "      <td>10</td>\n",
       "      <td>12</td>\n",
       "      <td>22</td>\n",
       "      <td>0</td>\n",
       "      <td>22</td>\n",
       "      <td>0</td>\n",
       "      <td>22</td>\n",
       "      <td>...</td>\n",
       "      <td>0.0</td>\n",
       "      <td>1.000000</td>\n",
       "      <td>0.090909</td>\n",
       "      <td>0.0</td>\n",
       "      <td>0.833333</td>\n",
       "      <td>1.2</td>\n",
       "      <td>2</td>\n",
       "      <td>2</td>\n",
       "      <td>2</td>\n",
       "      <td>2</td>\n",
       "    </tr>\n",
       "  </tbody>\n",
       "</table>\n",
       "<p>2 rows × 31 columns</p>\n",
       "</div>"
      ],
      "text/plain": [
       "                              word  garbage_score  word_length  vowels  \\\n",
       "0  Vcêlét:evangeaeß,.gtrtpeuflcert              1           31      10   \n",
       "1           heeftalorrigëaffigeërt              1           22      10   \n",
       "\n",
       "   consonants  vowelandconsonant  punctuation  dutch_char  upper  lower  ...  \\\n",
       "0          17                 27            3          27      0     27  ...   \n",
       "1          12                 22            0          22      0     22  ...   \n",
       "\n",
       "   word_numbers_ratio  word_alpha_ratio  word_accents_ratio  \\\n",
       "0                 0.0          0.903226            0.064516   \n",
       "1                 0.0          1.000000            0.090909   \n",
       "\n",
       "   word_other_characters_ratio  word_vowels_consonant_ratio  \\\n",
       "0                          0.0                     0.588235   \n",
       "1                          0.0                     0.833333   \n",
       "\n",
       "   word_consonant_vowels_ratio  max_count_same_char  \\\n",
       "0                          1.7                    1   \n",
       "1                          1.2                    2   \n",
       "\n",
       "   max_count_strip_same_char  max_consecutive_consonants  \\\n",
       "0                          1                           5   \n",
       "1                          2                           2   \n",
       "\n",
       "   max_consecutive_vowels  \n",
       "0                       3  \n",
       "1                       2  \n",
       "\n",
       "[2 rows x 31 columns]"
      ]
     },
     "execution_count": 4,
     "metadata": {},
     "output_type": "execute_result"
    }
   ],
   "source": [
    "test = pd.read_csv('Data/test_incl_features.csv', index_col = 0, compression = 'gzip')\n",
    "test.head(2)"
   ]
  },
  {
   "cell_type": "code",
   "execution_count": 5,
   "id": "41612db9",
   "metadata": {},
   "outputs": [],
   "source": [
    "features = [\"word_length\",\n",
    "                \"word_vowel_ratio\",\n",
    "                \"word_consonant_ratio\",\n",
    "                \"word_vowelandconsonant_ratio\",\n",
    "                \"word_punctuation_ratio\",\n",
    "                \"word_dutch_char_ratio\",\n",
    "                \"word_uppercase_ratio\",\n",
    "                \"word_lowercase_ratio\",\n",
    "                \"word_numbers_ratio\",\n",
    "                \"word_other_characters_ratio\",\n",
    "                \"word_vowels_consonant_ratio\",\n",
    "                \"word_consonant_vowels_ratio\",\n",
    "                \"max_count_same_char\", \n",
    "                \"max_count_strip_same_char\",\n",
    "                \"max_consecutive_consonants\",\n",
    "                \"max_consecutive_vowels\",\n",
    "                \"word_accents_ratio\"]"
   ]
  },
  {
   "cell_type": "code",
   "execution_count": 6,
   "id": "53c1cb5f",
   "metadata": {},
   "outputs": [],
   "source": [
    "X_feature_selection=feature_selection[features]  # Features\n",
    "y_feature_selection=feature_selection['garbage_score']  # Labels"
   ]
  },
  {
   "cell_type": "markdown",
   "id": "e3012eae",
   "metadata": {},
   "source": [
    "### Select features with Boruta"
   ]
  },
  {
   "cell_type": "code",
   "execution_count": 8,
   "id": "854d38bb",
   "metadata": {},
   "outputs": [],
   "source": [
    "### make X_shadow by randomly permuting each column of X\n",
    "np.random.seed(42)\n",
    "X_shadow = X_feature_selection.apply(np.random.permutation)\n",
    "X_shadow.columns = ['shadow_' + feat for feat in X_feature_selection.columns]### make X_boruta by appending X_shadow to X\n",
    "X_boruta = pd.concat([X_feature_selection, X_shadow], axis = 1)"
   ]
  },
  {
   "cell_type": "code",
   "execution_count": 9,
   "id": "331897b3",
   "metadata": {},
   "outputs": [
    {
     "data": {
      "text/html": [
       "<div>\n",
       "<style scoped>\n",
       "    .dataframe tbody tr th:only-of-type {\n",
       "        vertical-align: middle;\n",
       "    }\n",
       "\n",
       "    .dataframe tbody tr th {\n",
       "        vertical-align: top;\n",
       "    }\n",
       "\n",
       "    .dataframe thead th {\n",
       "        text-align: right;\n",
       "    }\n",
       "</style>\n",
       "<table border=\"1\" class=\"dataframe\">\n",
       "  <thead>\n",
       "    <tr style=\"text-align: right;\">\n",
       "      <th></th>\n",
       "      <th>word_length</th>\n",
       "      <th>word_vowel_ratio</th>\n",
       "      <th>word_consonant_ratio</th>\n",
       "      <th>word_vowelandconsonant_ratio</th>\n",
       "      <th>word_punctuation_ratio</th>\n",
       "      <th>word_dutch_char_ratio</th>\n",
       "      <th>word_uppercase_ratio</th>\n",
       "      <th>word_lowercase_ratio</th>\n",
       "      <th>word_numbers_ratio</th>\n",
       "      <th>word_other_characters_ratio</th>\n",
       "      <th>...</th>\n",
       "      <th>shadow_word_lowercase_ratio</th>\n",
       "      <th>shadow_word_numbers_ratio</th>\n",
       "      <th>shadow_word_other_characters_ratio</th>\n",
       "      <th>shadow_word_vowels_consonant_ratio</th>\n",
       "      <th>shadow_word_consonant_vowels_ratio</th>\n",
       "      <th>shadow_max_count_same_char</th>\n",
       "      <th>shadow_max_count_strip_same_char</th>\n",
       "      <th>shadow_max_consecutive_consonants</th>\n",
       "      <th>shadow_max_consecutive_vowels</th>\n",
       "      <th>shadow_word_accents_ratio</th>\n",
       "    </tr>\n",
       "  </thead>\n",
       "  <tbody>\n",
       "    <tr>\n",
       "      <th>0</th>\n",
       "      <td>9</td>\n",
       "      <td>0.333333</td>\n",
       "      <td>0.666667</td>\n",
       "      <td>1.0</td>\n",
       "      <td>0.0</td>\n",
       "      <td>1.0</td>\n",
       "      <td>0.0</td>\n",
       "      <td>1.0</td>\n",
       "      <td>0.0</td>\n",
       "      <td>0.0</td>\n",
       "      <td>...</td>\n",
       "      <td>1.0</td>\n",
       "      <td>0.0</td>\n",
       "      <td>0.0</td>\n",
       "      <td>1.00</td>\n",
       "      <td>2.0</td>\n",
       "      <td>1</td>\n",
       "      <td>1</td>\n",
       "      <td>2</td>\n",
       "      <td>2</td>\n",
       "      <td>0.0</td>\n",
       "    </tr>\n",
       "    <tr>\n",
       "      <th>1</th>\n",
       "      <td>10</td>\n",
       "      <td>0.100000</td>\n",
       "      <td>0.800000</td>\n",
       "      <td>0.9</td>\n",
       "      <td>0.1</td>\n",
       "      <td>0.9</td>\n",
       "      <td>0.0</td>\n",
       "      <td>0.9</td>\n",
       "      <td>0.0</td>\n",
       "      <td>0.0</td>\n",
       "      <td>...</td>\n",
       "      <td>0.6</td>\n",
       "      <td>0.0</td>\n",
       "      <td>0.0</td>\n",
       "      <td>0.25</td>\n",
       "      <td>1.5</td>\n",
       "      <td>1</td>\n",
       "      <td>2</td>\n",
       "      <td>2</td>\n",
       "      <td>1</td>\n",
       "      <td>0.0</td>\n",
       "    </tr>\n",
       "  </tbody>\n",
       "</table>\n",
       "<p>2 rows × 34 columns</p>\n",
       "</div>"
      ],
      "text/plain": [
       "   word_length  word_vowel_ratio  word_consonant_ratio  \\\n",
       "0            9          0.333333              0.666667   \n",
       "1           10          0.100000              0.800000   \n",
       "\n",
       "   word_vowelandconsonant_ratio  word_punctuation_ratio  \\\n",
       "0                           1.0                     0.0   \n",
       "1                           0.9                     0.1   \n",
       "\n",
       "   word_dutch_char_ratio  word_uppercase_ratio  word_lowercase_ratio  \\\n",
       "0                    1.0                   0.0                   1.0   \n",
       "1                    0.9                   0.0                   0.9   \n",
       "\n",
       "   word_numbers_ratio  word_other_characters_ratio  ...  \\\n",
       "0                 0.0                          0.0  ...   \n",
       "1                 0.0                          0.0  ...   \n",
       "\n",
       "   shadow_word_lowercase_ratio  shadow_word_numbers_ratio  \\\n",
       "0                          1.0                        0.0   \n",
       "1                          0.6                        0.0   \n",
       "\n",
       "   shadow_word_other_characters_ratio  shadow_word_vowels_consonant_ratio  \\\n",
       "0                                 0.0                                1.00   \n",
       "1                                 0.0                                0.25   \n",
       "\n",
       "   shadow_word_consonant_vowels_ratio  shadow_max_count_same_char  \\\n",
       "0                                 2.0                           1   \n",
       "1                                 1.5                           1   \n",
       "\n",
       "   shadow_max_count_strip_same_char  shadow_max_consecutive_consonants  \\\n",
       "0                                 1                                  2   \n",
       "1                                 2                                  2   \n",
       "\n",
       "   shadow_max_consecutive_vowels  shadow_word_accents_ratio  \n",
       "0                              2                        0.0  \n",
       "1                              1                        0.0  \n",
       "\n",
       "[2 rows x 34 columns]"
      ]
     },
     "execution_count": 9,
     "metadata": {},
     "output_type": "execute_result"
    }
   ],
   "source": [
    "X_boruta.head(2)"
   ]
  },
  {
   "cell_type": "code",
   "execution_count": 10,
   "id": "a46a48a6",
   "metadata": {},
   "outputs": [],
   "source": [
    "from sklearn.ensemble import RandomForestRegressor### fit a random forest (suggested max_depth between 3 and 7)\n",
    "forest = RandomForestRegressor(max_depth = 5, random_state = 42)\n",
    "forest.fit(X_boruta, y_feature_selection)### store feature importances\n",
    "feat_imp_X = forest.feature_importances_[:len(X_feature_selection.columns)]\n",
    "feat_imp_shadow = forest.feature_importances_[len(X_feature_selection.columns):]### compute hits\n",
    "hits = feat_imp_X > feat_imp_shadow.max()"
   ]
  },
  {
   "cell_type": "code",
   "execution_count": 11,
   "id": "49fb2fbc",
   "metadata": {},
   "outputs": [
    {
     "name": "stdout",
     "output_type": "stream",
     "text": [
      "features in the green area: ['word_length', 'word_vowel_ratio', 'word_vowelandconsonant_ratio', 'word_punctuation_ratio', 'word_dutch_char_ratio', 'word_uppercase_ratio', 'word_lowercase_ratio', 'word_numbers_ratio', 'word_vowels_consonant_ratio', 'word_consonant_vowels_ratio', 'max_count_same_char', 'max_count_strip_same_char', 'max_consecutive_consonants', 'word_accents_ratio']\n",
      "features in the blue area: []\n",
      "features in the red area: Index(['word_consonant_ratio', 'word_other_characters_ratio',\n",
      "       'max_consecutive_vowels'],\n",
      "      dtype='object')\n"
     ]
    }
   ],
   "source": [
    "from boruta import BorutaPy\n",
    "from sklearn.ensemble import RandomForestRegressor\n",
    "import numpy as np###initialize Boruta\n",
    "forest = RandomForestRegressor(\n",
    "   n_jobs = -1, \n",
    "   max_depth = 5\n",
    ")\n",
    "boruta = BorutaPy(\n",
    "   estimator = forest, \n",
    "   n_estimators = 'auto',\n",
    "   max_iter = 100 # number of trials to perform\n",
    ")### fit Boruta (it accepts np.array, not pd.DataFrame)\n",
    "boruta.fit(np.array(X_feature_selection), np.array(y_feature_selection))### print results\n",
    "green_area = X_feature_selection.columns[boruta.support_].to_list()\n",
    "blue_area = X_feature_selection.columns[boruta.support_weak_].to_list()\n",
    "red_area = X_feature_selection.columns[~(boruta.support_ | boruta.support_weak_)]\n",
    "print('features in the green area:', green_area)\n",
    "print('features in the blue area:', blue_area)\n",
    "print('features in the red area:', red_area)"
   ]
  },
  {
   "cell_type": "markdown",
   "id": "9f50acdf",
   "metadata": {},
   "source": [
    "features in the green area: ['word_length', 'word_vowel_ratio', 'word_vowelandconsonant_ratio', 'word_punctuation_ratio', 'word_dutch_letters_ratio', 'word_uppercase_ratio', 'word_lowercase_ratio', 'word_numbers_ratio', 'word_other_characters_ratio', 'word_vowels_consonant_ratio', 'max_consecutive_consonants', 'word_accents_ratio']\n",
    "features in the blue area: []\n",
    "features in the red area: Index(['word_consonant_ratio', 'word_consonant_vowels_ratio',\n",
    "       'max_count_same_char', 'max_count_strip_same_char',\n",
    "       'max_consecutive_vowels'],\n",
    "      dtype='object')\n"
   ]
  },
  {
   "cell_type": "markdown",
   "id": "530cc9ea",
   "metadata": {},
   "source": [
    "### Select features from Boruta output"
   ]
  },
  {
   "cell_type": "code",
   "execution_count": 13,
   "id": "f4e78e58",
   "metadata": {},
   "outputs": [],
   "source": [
    "selected_features = green_area\n",
    "\n",
    "X_train=train[selected_features]  # Features\n",
    "y_train=train['garbage_score']  # Labels\n",
    "\n",
    "X_test=test[selected_features]  # Features\n",
    "y_test=test['garbage_score']  # Labels\n",
    "\n",
    "feature_names = list(X_train.columns.values)"
   ]
  },
  {
   "cell_type": "markdown",
   "id": "42caee71",
   "metadata": {},
   "source": [
    "### Scale features \n",
    "With min max as SVM can not handle negative numbers"
   ]
  },
  {
   "cell_type": "code",
   "execution_count": 14,
   "id": "34368506",
   "metadata": {},
   "outputs": [],
   "source": [
    "from sklearn.preprocessing import MinMaxScaler #fixed import\n",
    "\n",
    "scaler = MinMaxScaler()\n",
    "X_train = scaler.fit_transform(X_train)\n",
    "X_test = scaler.transform(X_test)"
   ]
  },
  {
   "cell_type": "markdown",
   "id": "10f42963",
   "metadata": {},
   "source": [
    "### Support Vector Machine\n",
    "The linear version as the other one took to long"
   ]
  },
  {
   "cell_type": "code",
   "execution_count": 26,
   "id": "facebe11",
   "metadata": {},
   "outputs": [
    {
     "data": {
      "text/plain": [
       "LinearSVC()"
      ]
     },
     "execution_count": 26,
     "metadata": {},
     "output_type": "execute_result"
    }
   ],
   "source": [
    "from sklearn.svm import LinearSVC\n",
    "\n",
    "svm=LinearSVC()\n",
    "svm.fit(X_train, y_train)"
   ]
  },
  {
   "cell_type": "code",
   "execution_count": 27,
   "id": "48e540a9",
   "metadata": {},
   "outputs": [],
   "source": [
    "y_pred_svm = svm.predict(X_test)"
   ]
  },
  {
   "cell_type": "code",
   "execution_count": 28,
   "id": "0150ed64",
   "metadata": {},
   "outputs": [
    {
     "name": "stdout",
     "output_type": "stream",
     "text": [
      "Accuracy: 0.859\n",
      "Precision: 0.889\n",
      "Recall: 0.793\n",
      "F1 Score: 0.838\n"
     ]
    }
   ],
   "source": [
    "print(\"Accuracy:\",round(metrics.accuracy_score(y_test, y_pred_svm),3))\n",
    "print(\"Precision:\",round(metrics.precision_score(y_test, y_pred_svm),3,))\n",
    "print(\"Recall:\",round(metrics.recall_score(y_test, y_pred_svm),3))\n",
    "print('F1 Score: %.3f' % round(metrics.f1_score(y_test, y_pred_svm),3))"
   ]
  },
  {
   "cell_type": "code",
   "execution_count": 28,
   "id": "060d4deb",
   "metadata": {},
   "outputs": [],
   "source": [
    "import pickle\n",
    "\n",
    "pickle.dump(svm, open('garbage_model_SVM_fs.pkl', 'wb'))"
   ]
  },
  {
   "cell_type": "markdown",
   "id": "80e0e092",
   "metadata": {},
   "source": [
    "### Random Forest"
   ]
  },
  {
   "cell_type": "code",
   "execution_count": 29,
   "id": "78ee9b94",
   "metadata": {},
   "outputs": [],
   "source": [
    "#Import Random Forest Model\n",
    "from sklearn.ensemble import RandomForestClassifier\n",
    "\n",
    "#Create a Gaussian Classifier\n",
    "clf=RandomForestClassifier()\n",
    "\n",
    "#Train the model using the training sets y_pred=clf.predict(X_test)\n",
    "clf.fit(X_train,y_train)\n",
    "\n",
    "y_pred_rf=clf.predict(X_test)"
   ]
  },
  {
   "cell_type": "code",
   "execution_count": 30,
   "id": "96b5115b",
   "metadata": {},
   "outputs": [
    {
     "name": "stdout",
     "output_type": "stream",
     "text": [
      "Accuracy: 0.92\n",
      "Precision: 0.95\n",
      "Recall: 0.872\n",
      "F1 Score: 0.909\n"
     ]
    }
   ],
   "source": [
    "print(\"Accuracy:\",round(metrics.accuracy_score(y_test, y_pred_rf),3))\n",
    "print(\"Precision:\",round(metrics.precision_score(y_test, y_pred_rf),3))\n",
    "print(\"Recall:\",round(metrics.recall_score(y_test, y_pred_rf),3))\n",
    "print('F1 Score: %.3f' % round(metrics.f1_score(y_test, y_pred_rf),3))"
   ]
  },
  {
   "cell_type": "code",
   "execution_count": 30,
   "id": "79b1ce37",
   "metadata": {},
   "outputs": [],
   "source": [
    "import pickle\n",
    "\n",
    "pickle.dump(clf, open('garbage_model_RF_fs.pkl', 'wb'))"
   ]
  },
  {
   "cell_type": "markdown",
   "id": "0f3e6c70",
   "metadata": {},
   "source": [
    "### KNN"
   ]
  },
  {
   "cell_type": "code",
   "execution_count": 1,
   "id": "3308c7c6",
   "metadata": {},
   "outputs": [],
   "source": [
    "from sklearn.neighbors import KNeighborsClassifier\n",
    "\n",
    "#Create KNN Classifier\n",
    "knn = KNeighborsClassifier()\n",
    "\n",
    "#Train the model using the training sets\n",
    "knn.fit(X_train, y_train)\n",
    "\n",
    "#Predict the response for test dataset  \n",
    "y_pred_knn = knn.predict(X_test)"
   ]
  },
  {
   "cell_type": "code",
   "execution_count": 37,
   "id": "273cce33",
   "metadata": {},
   "outputs": [
    {
     "name": "stdout",
     "output_type": "stream",
     "text": [
      "Accuracy: 0.514\n",
      "Precision: 0.486\n",
      "Recall: 0.98\n",
      "F1 Score: 0.65\n"
     ]
    }
   ],
   "source": [
    "print(\"Accuracy:\",round(metrics.accuracy_score(y_test, y_pred_knn),3))\n",
    "print(\"Precision:\",round(metrics.precision_score(y_test, y_pred_knn),3))\n",
    "print(\"Recall:\",round(metrics.recall_score(y_test, y_pred_knn),3))\n",
    "print(\"F1 Score:\",round(metrics.f1_score(y_test, y_pred_knn),3))"
   ]
  },
  {
   "cell_type": "markdown",
   "id": "95a2a9da",
   "metadata": {},
   "source": [
    "### Naive Bayes"
   ]
  },
  {
   "cell_type": "code",
   "execution_count": 34,
   "id": "e016c49d",
   "metadata": {},
   "outputs": [],
   "source": [
    "from sklearn.naive_bayes import MultinomialNB\n",
    "\n",
    "mnb = MultinomialNB().fit(X_train, y_train)\n",
    "y_pred_nb = mnb.predict(X_test)"
   ]
  },
  {
   "cell_type": "code",
   "execution_count": 35,
   "id": "c14a5b05",
   "metadata": {},
   "outputs": [
    {
     "name": "stdout",
     "output_type": "stream",
     "text": [
      "Accuracy: 0.777\n",
      "Precision: 0.922\n",
      "Recall: 0.563\n",
      "F1 Score: 0.699\n"
     ]
    }
   ],
   "source": [
    "print(\"Accuracy:\",round(metrics.accuracy_score(y_test, y_pred_nb),3))\n",
    "print(\"Precision:\",round(metrics.precision_score(y_test, y_pred_nb),3))\n",
    "print(\"Recall:\",round(metrics.recall_score(y_test, y_pred_nb),3))\n",
    "print('F1 Score: %.3f' % round(metrics.f1_score(y_test, y_pred_nb),3))"
   ]
  }
 ],
 "metadata": {
  "kernelspec": {
   "display_name": "Python 3 (ipykernel)",
   "language": "python",
   "name": "python3"
  },
  "language_info": {
   "codemirror_mode": {
    "name": "ipython",
    "version": 3
   },
   "file_extension": ".py",
   "mimetype": "text/x-python",
   "name": "python",
   "nbconvert_exporter": "python",
   "pygments_lexer": "ipython3",
   "version": "3.9.12"
  }
 },
 "nbformat": 4,
 "nbformat_minor": 5
}
